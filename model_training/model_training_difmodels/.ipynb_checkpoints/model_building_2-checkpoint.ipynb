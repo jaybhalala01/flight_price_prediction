{
 "cells": [
  {
   "cell_type": "code",
   "execution_count": null,
   "metadata": {
    "colab": {
     "base_uri": "https://localhost:8080/"
    },
    "id": "PaKpaoD4Z0YN",
    "outputId": "eb63b897-c2fb-4159-ae0e-7892505f3c3e"
   },
   "outputs": [],
   "source": []
  },
  {
   "cell_type": "code",
   "execution_count": 11,
   "metadata": {
    "id": "dcKRhJIahdvE"
   },
   "outputs": [],
   "source": [
    "import pandas as pd \n",
    "import numpy as np\n",
    "import matplotlib.pyplot  as plt\n",
    "import seaborn as sn\n",
    "%matplotlib inline"
   ]
  },
  {
   "cell_type": "code",
   "execution_count": 12,
   "metadata": {
    "id": "MYRcaejWPjZy"
   },
   "outputs": [],
   "source": [
    "import pandas as pd\n",
    "from sklearn.model_selection import ShuffleSplit\n",
    "from sklearn.metrics import mean_squared_error, mean_absolute_error, r2_score\n",
    "from sklearn.model_selection import GridSearchCV\n",
    "from sklearn.linear_model import LinearRegression\n",
    "from sklearn.svm import SVR\n",
    "from sklearn.tree import DecisionTreeRegressor\n"
   ]
  },
  {
   "cell_type": "code",
   "execution_count": 13,
   "metadata": {},
   "outputs": [
    {
     "data": {
      "text/plain": [
       "'/home/growlt199/Downloads/manufacturing_project/model_training'"
      ]
     },
     "execution_count": 13,
     "metadata": {},
     "output_type": "execute_result"
    }
   ],
   "source": [
    "pwd"
   ]
  },
  {
   "cell_type": "code",
   "execution_count": 14,
   "metadata": {
    "id": "_CpCypWjjVlK"
   },
   "outputs": [],
   "source": [
    "df = pd.read_csv(\"/home/growlt199/Downloads/manufacturing_project/data/flight_processed_data.csv\",index_col=0)"
   ]
  },
  {
   "cell_type": "code",
   "execution_count": 15,
   "metadata": {
    "colab": {
     "base_uri": "https://localhost:8080/",
     "height": 206
    },
    "id": "Kwv1247zjeNT",
    "outputId": "5bbb8e82-bf15-44d0-e4f1-94767e8c9b89"
   },
   "outputs": [
    {
     "data": {
      "text/html": [
       "<div>\n",
       "<style scoped>\n",
       "    .dataframe tbody tr th:only-of-type {\n",
       "        vertical-align: middle;\n",
       "    }\n",
       "\n",
       "    .dataframe tbody tr th {\n",
       "        vertical-align: top;\n",
       "    }\n",
       "\n",
       "    .dataframe thead th {\n",
       "        text-align: right;\n",
       "    }\n",
       "</style>\n",
       "<table border=\"1\" class=\"dataframe\">\n",
       "  <thead>\n",
       "    <tr style=\"text-align: right;\">\n",
       "      <th></th>\n",
       "      <th>airline</th>\n",
       "      <th>flight</th>\n",
       "      <th>source_city</th>\n",
       "      <th>departure_time</th>\n",
       "      <th>stops</th>\n",
       "      <th>arrival_time</th>\n",
       "      <th>destination_city</th>\n",
       "      <th>class</th>\n",
       "      <th>duration</th>\n",
       "      <th>days_left</th>\n",
       "      <th>price</th>\n",
       "      <th>travel_route</th>\n",
       "    </tr>\n",
       "  </thead>\n",
       "  <tbody>\n",
       "    <tr>\n",
       "      <th>0</th>\n",
       "      <td>SpiceJet</td>\n",
       "      <td>SG-8709</td>\n",
       "      <td>Delhi</td>\n",
       "      <td>Evening</td>\n",
       "      <td>0</td>\n",
       "      <td>Night</td>\n",
       "      <td>Mumbai</td>\n",
       "      <td>0</td>\n",
       "      <td>2.17</td>\n",
       "      <td>1</td>\n",
       "      <td>5953</td>\n",
       "      <td>Delhi-Mumbai</td>\n",
       "    </tr>\n",
       "    <tr>\n",
       "      <th>1</th>\n",
       "      <td>SpiceJet</td>\n",
       "      <td>SG-8157</td>\n",
       "      <td>Delhi</td>\n",
       "      <td>Early_Morning</td>\n",
       "      <td>0</td>\n",
       "      <td>Morning</td>\n",
       "      <td>Mumbai</td>\n",
       "      <td>0</td>\n",
       "      <td>2.33</td>\n",
       "      <td>1</td>\n",
       "      <td>5953</td>\n",
       "      <td>Delhi-Mumbai</td>\n",
       "    </tr>\n",
       "    <tr>\n",
       "      <th>2</th>\n",
       "      <td>AirAsia</td>\n",
       "      <td>I5-764</td>\n",
       "      <td>Delhi</td>\n",
       "      <td>Early_Morning</td>\n",
       "      <td>0</td>\n",
       "      <td>Early_Morning</td>\n",
       "      <td>Mumbai</td>\n",
       "      <td>0</td>\n",
       "      <td>2.17</td>\n",
       "      <td>1</td>\n",
       "      <td>5956</td>\n",
       "      <td>Delhi-Mumbai</td>\n",
       "    </tr>\n",
       "    <tr>\n",
       "      <th>3</th>\n",
       "      <td>Vistara</td>\n",
       "      <td>UK-995</td>\n",
       "      <td>Delhi</td>\n",
       "      <td>Morning</td>\n",
       "      <td>0</td>\n",
       "      <td>Afternoon</td>\n",
       "      <td>Mumbai</td>\n",
       "      <td>0</td>\n",
       "      <td>2.25</td>\n",
       "      <td>1</td>\n",
       "      <td>5955</td>\n",
       "      <td>Delhi-Mumbai</td>\n",
       "    </tr>\n",
       "    <tr>\n",
       "      <th>4</th>\n",
       "      <td>Vistara</td>\n",
       "      <td>UK-963</td>\n",
       "      <td>Delhi</td>\n",
       "      <td>Morning</td>\n",
       "      <td>0</td>\n",
       "      <td>Morning</td>\n",
       "      <td>Mumbai</td>\n",
       "      <td>0</td>\n",
       "      <td>2.33</td>\n",
       "      <td>1</td>\n",
       "      <td>5955</td>\n",
       "      <td>Delhi-Mumbai</td>\n",
       "    </tr>\n",
       "  </tbody>\n",
       "</table>\n",
       "</div>"
      ],
      "text/plain": [
       "    airline   flight source_city departure_time  stops   arrival_time  \\\n",
       "0  SpiceJet  SG-8709       Delhi        Evening      0          Night   \n",
       "1  SpiceJet  SG-8157       Delhi  Early_Morning      0        Morning   \n",
       "2   AirAsia   I5-764       Delhi  Early_Morning      0  Early_Morning   \n",
       "3   Vistara   UK-995       Delhi        Morning      0      Afternoon   \n",
       "4   Vistara   UK-963       Delhi        Morning      0        Morning   \n",
       "\n",
       "  destination_city  class  duration  days_left  price  travel_route  \n",
       "0           Mumbai      0      2.17          1   5953  Delhi-Mumbai  \n",
       "1           Mumbai      0      2.33          1   5953  Delhi-Mumbai  \n",
       "2           Mumbai      0      2.17          1   5956  Delhi-Mumbai  \n",
       "3           Mumbai      0      2.25          1   5955  Delhi-Mumbai  \n",
       "4           Mumbai      0      2.33          1   5955  Delhi-Mumbai  "
      ]
     },
     "execution_count": 15,
     "metadata": {},
     "output_type": "execute_result"
    }
   ],
   "source": [
    "df.head()"
   ]
  },
  {
   "cell_type": "code",
   "execution_count": 16,
   "metadata": {
    "colab": {
     "base_uri": "https://localhost:8080/"
    },
    "id": "cZSVpoRm9riY",
    "outputId": "dc5f268a-544a-48b0-f9d2-883541ec4d0a"
   },
   "outputs": [
    {
     "data": {
      "text/plain": [
       "Index(['airline', 'flight', 'source_city', 'departure_time', 'stops',\n",
       "       'arrival_time', 'destination_city', 'class', 'duration', 'days_left',\n",
       "       'price', 'travel_route'],\n",
       "      dtype='object')"
      ]
     },
     "execution_count": 16,
     "metadata": {},
     "output_type": "execute_result"
    }
   ],
   "source": [
    "df.columns"
   ]
  },
  {
   "cell_type": "markdown",
   "metadata": {
    "id": "ZkcNpIqjEcaG"
   },
   "source": [
    "as fetures i wanted to take \n",
    "* **stops,class,days_left,duration** are numerical colums\n",
    "* and do one hot encoding in other feature columns are **desparture_time,arrival_time, airline and traval_route (combination of source city and destination city)**"
   ]
  },
  {
   "cell_type": "code",
   "execution_count": 17,
   "metadata": {
    "id": "gOq9H-DD99gp"
   },
   "outputs": [],
   "source": [
    "#removing colums which i dont want to use in model \n",
    "df1 =df.drop([ 'source_city','destination_city'],axis=1)"
   ]
  },
  {
   "cell_type": "code",
   "execution_count": 18,
   "metadata": {
    "colab": {
     "base_uri": "https://localhost:8080/",
     "height": 206
    },
    "id": "S8WDXSqX-EwC",
    "outputId": "2eaa472c-7778-44ed-a958-a4c7db8898c2"
   },
   "outputs": [
    {
     "data": {
      "text/html": [
       "<div>\n",
       "<style scoped>\n",
       "    .dataframe tbody tr th:only-of-type {\n",
       "        vertical-align: middle;\n",
       "    }\n",
       "\n",
       "    .dataframe tbody tr th {\n",
       "        vertical-align: top;\n",
       "    }\n",
       "\n",
       "    .dataframe thead th {\n",
       "        text-align: right;\n",
       "    }\n",
       "</style>\n",
       "<table border=\"1\" class=\"dataframe\">\n",
       "  <thead>\n",
       "    <tr style=\"text-align: right;\">\n",
       "      <th></th>\n",
       "      <th>airline</th>\n",
       "      <th>departure_time</th>\n",
       "      <th>stops</th>\n",
       "      <th>arrival_time</th>\n",
       "      <th>class</th>\n",
       "      <th>duration</th>\n",
       "      <th>days_left</th>\n",
       "      <th>price</th>\n",
       "      <th>travel_route</th>\n",
       "    </tr>\n",
       "  </thead>\n",
       "  <tbody>\n",
       "    <tr>\n",
       "      <th>0</th>\n",
       "      <td>SpiceJet</td>\n",
       "      <td>Evening</td>\n",
       "      <td>0</td>\n",
       "      <td>Night</td>\n",
       "      <td>0</td>\n",
       "      <td>2.17</td>\n",
       "      <td>1</td>\n",
       "      <td>5953</td>\n",
       "      <td>Delhi-Mumbai</td>\n",
       "    </tr>\n",
       "    <tr>\n",
       "      <th>1</th>\n",
       "      <td>SpiceJet</td>\n",
       "      <td>Early_Morning</td>\n",
       "      <td>0</td>\n",
       "      <td>Morning</td>\n",
       "      <td>0</td>\n",
       "      <td>2.33</td>\n",
       "      <td>1</td>\n",
       "      <td>5953</td>\n",
       "      <td>Delhi-Mumbai</td>\n",
       "    </tr>\n",
       "    <tr>\n",
       "      <th>2</th>\n",
       "      <td>AirAsia</td>\n",
       "      <td>Early_Morning</td>\n",
       "      <td>0</td>\n",
       "      <td>Early_Morning</td>\n",
       "      <td>0</td>\n",
       "      <td>2.17</td>\n",
       "      <td>1</td>\n",
       "      <td>5956</td>\n",
       "      <td>Delhi-Mumbai</td>\n",
       "    </tr>\n",
       "    <tr>\n",
       "      <th>3</th>\n",
       "      <td>Vistara</td>\n",
       "      <td>Morning</td>\n",
       "      <td>0</td>\n",
       "      <td>Afternoon</td>\n",
       "      <td>0</td>\n",
       "      <td>2.25</td>\n",
       "      <td>1</td>\n",
       "      <td>5955</td>\n",
       "      <td>Delhi-Mumbai</td>\n",
       "    </tr>\n",
       "    <tr>\n",
       "      <th>4</th>\n",
       "      <td>Vistara</td>\n",
       "      <td>Morning</td>\n",
       "      <td>0</td>\n",
       "      <td>Morning</td>\n",
       "      <td>0</td>\n",
       "      <td>2.33</td>\n",
       "      <td>1</td>\n",
       "      <td>5955</td>\n",
       "      <td>Delhi-Mumbai</td>\n",
       "    </tr>\n",
       "  </tbody>\n",
       "</table>\n",
       "</div>"
      ],
      "text/plain": [
       "    airline departure_time  stops   arrival_time  class  duration  days_left  \\\n",
       "0  SpiceJet        Evening      0          Night      0      2.17          1   \n",
       "1  SpiceJet  Early_Morning      0        Morning      0      2.33          1   \n",
       "2   AirAsia  Early_Morning      0  Early_Morning      0      2.17          1   \n",
       "3   Vistara        Morning      0      Afternoon      0      2.25          1   \n",
       "4   Vistara        Morning      0        Morning      0      2.33          1   \n",
       "\n",
       "   price  travel_route  \n",
       "0   5953  Delhi-Mumbai  \n",
       "1   5953  Delhi-Mumbai  \n",
       "2   5956  Delhi-Mumbai  \n",
       "3   5955  Delhi-Mumbai  \n",
       "4   5955  Delhi-Mumbai  "
      ]
     },
     "execution_count": 18,
     "metadata": {},
     "output_type": "execute_result"
    }
   ],
   "source": [
    "df1.head()"
   ]
  },
  {
   "cell_type": "code",
   "execution_count": 19,
   "metadata": {
    "colab": {
     "base_uri": "https://localhost:8080/",
     "height": 317
    },
    "id": "lxfHFzhO-GgF",
    "outputId": "842a18ea-f52b-4d45-c105-463c7a4be8db"
   },
   "outputs": [
    {
     "data": {
      "text/html": [
       "<div>\n",
       "<style scoped>\n",
       "    .dataframe tbody tr th:only-of-type {\n",
       "        vertical-align: middle;\n",
       "    }\n",
       "\n",
       "    .dataframe tbody tr th {\n",
       "        vertical-align: top;\n",
       "    }\n",
       "\n",
       "    .dataframe thead th {\n",
       "        text-align: right;\n",
       "    }\n",
       "</style>\n",
       "<table border=\"1\" class=\"dataframe\">\n",
       "  <thead>\n",
       "    <tr style=\"text-align: right;\">\n",
       "      <th></th>\n",
       "      <th>stops</th>\n",
       "      <th>class</th>\n",
       "      <th>duration</th>\n",
       "      <th>days_left</th>\n",
       "      <th>price</th>\n",
       "      <th>airline_AirAsia</th>\n",
       "      <th>airline_Air_India</th>\n",
       "      <th>airline_GO_FIRST</th>\n",
       "      <th>airline_Indigo</th>\n",
       "      <th>airline_SpiceJet</th>\n",
       "      <th>...</th>\n",
       "      <th>travel_route_Kolkata-Bangalore</th>\n",
       "      <th>travel_route_Kolkata-Chennai</th>\n",
       "      <th>travel_route_Kolkata-Delhi</th>\n",
       "      <th>travel_route_Kolkata-Hyderabad</th>\n",
       "      <th>travel_route_Kolkata-Mumbai</th>\n",
       "      <th>travel_route_Mumbai-Bangalore</th>\n",
       "      <th>travel_route_Mumbai-Chennai</th>\n",
       "      <th>travel_route_Mumbai-Delhi</th>\n",
       "      <th>travel_route_Mumbai-Hyderabad</th>\n",
       "      <th>travel_route_Mumbai-Kolkata</th>\n",
       "    </tr>\n",
       "  </thead>\n",
       "  <tbody>\n",
       "    <tr>\n",
       "      <th>0</th>\n",
       "      <td>0</td>\n",
       "      <td>0</td>\n",
       "      <td>2.17</td>\n",
       "      <td>1</td>\n",
       "      <td>5953</td>\n",
       "      <td>0</td>\n",
       "      <td>0</td>\n",
       "      <td>0</td>\n",
       "      <td>0</td>\n",
       "      <td>1</td>\n",
       "      <td>...</td>\n",
       "      <td>0</td>\n",
       "      <td>0</td>\n",
       "      <td>0</td>\n",
       "      <td>0</td>\n",
       "      <td>0</td>\n",
       "      <td>0</td>\n",
       "      <td>0</td>\n",
       "      <td>0</td>\n",
       "      <td>0</td>\n",
       "      <td>0</td>\n",
       "    </tr>\n",
       "    <tr>\n",
       "      <th>1</th>\n",
       "      <td>0</td>\n",
       "      <td>0</td>\n",
       "      <td>2.33</td>\n",
       "      <td>1</td>\n",
       "      <td>5953</td>\n",
       "      <td>0</td>\n",
       "      <td>0</td>\n",
       "      <td>0</td>\n",
       "      <td>0</td>\n",
       "      <td>1</td>\n",
       "      <td>...</td>\n",
       "      <td>0</td>\n",
       "      <td>0</td>\n",
       "      <td>0</td>\n",
       "      <td>0</td>\n",
       "      <td>0</td>\n",
       "      <td>0</td>\n",
       "      <td>0</td>\n",
       "      <td>0</td>\n",
       "      <td>0</td>\n",
       "      <td>0</td>\n",
       "    </tr>\n",
       "    <tr>\n",
       "      <th>2</th>\n",
       "      <td>0</td>\n",
       "      <td>0</td>\n",
       "      <td>2.17</td>\n",
       "      <td>1</td>\n",
       "      <td>5956</td>\n",
       "      <td>1</td>\n",
       "      <td>0</td>\n",
       "      <td>0</td>\n",
       "      <td>0</td>\n",
       "      <td>0</td>\n",
       "      <td>...</td>\n",
       "      <td>0</td>\n",
       "      <td>0</td>\n",
       "      <td>0</td>\n",
       "      <td>0</td>\n",
       "      <td>0</td>\n",
       "      <td>0</td>\n",
       "      <td>0</td>\n",
       "      <td>0</td>\n",
       "      <td>0</td>\n",
       "      <td>0</td>\n",
       "    </tr>\n",
       "    <tr>\n",
       "      <th>3</th>\n",
       "      <td>0</td>\n",
       "      <td>0</td>\n",
       "      <td>2.25</td>\n",
       "      <td>1</td>\n",
       "      <td>5955</td>\n",
       "      <td>0</td>\n",
       "      <td>0</td>\n",
       "      <td>0</td>\n",
       "      <td>0</td>\n",
       "      <td>0</td>\n",
       "      <td>...</td>\n",
       "      <td>0</td>\n",
       "      <td>0</td>\n",
       "      <td>0</td>\n",
       "      <td>0</td>\n",
       "      <td>0</td>\n",
       "      <td>0</td>\n",
       "      <td>0</td>\n",
       "      <td>0</td>\n",
       "      <td>0</td>\n",
       "      <td>0</td>\n",
       "    </tr>\n",
       "    <tr>\n",
       "      <th>4</th>\n",
       "      <td>0</td>\n",
       "      <td>0</td>\n",
       "      <td>2.33</td>\n",
       "      <td>1</td>\n",
       "      <td>5955</td>\n",
       "      <td>0</td>\n",
       "      <td>0</td>\n",
       "      <td>0</td>\n",
       "      <td>0</td>\n",
       "      <td>0</td>\n",
       "      <td>...</td>\n",
       "      <td>0</td>\n",
       "      <td>0</td>\n",
       "      <td>0</td>\n",
       "      <td>0</td>\n",
       "      <td>0</td>\n",
       "      <td>0</td>\n",
       "      <td>0</td>\n",
       "      <td>0</td>\n",
       "      <td>0</td>\n",
       "      <td>0</td>\n",
       "    </tr>\n",
       "  </tbody>\n",
       "</table>\n",
       "<p>5 rows × 53 columns</p>\n",
       "</div>"
      ],
      "text/plain": [
       "   stops  class  duration  days_left  price  airline_AirAsia  \\\n",
       "0      0      0      2.17          1   5953                0   \n",
       "1      0      0      2.33          1   5953                0   \n",
       "2      0      0      2.17          1   5956                1   \n",
       "3      0      0      2.25          1   5955                0   \n",
       "4      0      0      2.33          1   5955                0   \n",
       "\n",
       "   airline_Air_India  airline_GO_FIRST  airline_Indigo  airline_SpiceJet  ...  \\\n",
       "0                  0                 0               0                 1  ...   \n",
       "1                  0                 0               0                 1  ...   \n",
       "2                  0                 0               0                 0  ...   \n",
       "3                  0                 0               0                 0  ...   \n",
       "4                  0                 0               0                 0  ...   \n",
       "\n",
       "   travel_route_Kolkata-Bangalore  travel_route_Kolkata-Chennai  \\\n",
       "0                               0                             0   \n",
       "1                               0                             0   \n",
       "2                               0                             0   \n",
       "3                               0                             0   \n",
       "4                               0                             0   \n",
       "\n",
       "   travel_route_Kolkata-Delhi  travel_route_Kolkata-Hyderabad  \\\n",
       "0                           0                               0   \n",
       "1                           0                               0   \n",
       "2                           0                               0   \n",
       "3                           0                               0   \n",
       "4                           0                               0   \n",
       "\n",
       "   travel_route_Kolkata-Mumbai  travel_route_Mumbai-Bangalore  \\\n",
       "0                            0                              0   \n",
       "1                            0                              0   \n",
       "2                            0                              0   \n",
       "3                            0                              0   \n",
       "4                            0                              0   \n",
       "\n",
       "   travel_route_Mumbai-Chennai  travel_route_Mumbai-Delhi  \\\n",
       "0                            0                          0   \n",
       "1                            0                          0   \n",
       "2                            0                          0   \n",
       "3                            0                          0   \n",
       "4                            0                          0   \n",
       "\n",
       "   travel_route_Mumbai-Hyderabad  travel_route_Mumbai-Kolkata  \n",
       "0                              0                            0  \n",
       "1                              0                            0  \n",
       "2                              0                            0  \n",
       "3                              0                            0  \n",
       "4                              0                            0  \n",
       "\n",
       "[5 rows x 53 columns]"
      ]
     },
     "execution_count": 19,
     "metadata": {},
     "output_type": "execute_result"
    }
   ],
   "source": [
    "# get dummy variables for multiple columns\n",
    "dummy_cols = ['airline', 'departure_time','arrival_time','travel_route']\n",
    "df1_dummy = pd.get_dummies(df1[dummy_cols])\n",
    "\n",
    "# concatenate original DataFrame with dummy variable DataFrame\n",
    "df1_concat = pd.concat([df1.drop(dummy_cols, axis=1), df1_dummy], axis=1)\n",
    "\n",
    "# display result\n",
    "df1_concat.head()"
   ]
  },
  {
   "cell_type": "code",
   "execution_count": 20,
   "metadata": {
    "id": "knL7JKUD-lQv"
   },
   "outputs": [],
   "source": [
    "#create x and y where x are features for the model and y as target\n",
    "x = df1_concat.drop('price',axis=1)\n",
    "y = df1_concat['price']"
   ]
  },
  {
   "cell_type": "markdown",
   "metadata": {
    "id": "0be1qXgWB3JC"
   },
   "source": [
    "# **Random forest regression**"
   ]
  },
  {
   "cell_type": "code",
   "execution_count": null,
   "metadata": {
    "id": "hFMLE7M1B186"
   },
   "outputs": [],
   "source": []
  },
  {
   "cell_type": "code",
   "execution_count": 21,
   "metadata": {
    "colab": {
     "base_uri": "https://localhost:8080/"
    },
    "id": "VG7EaR82BgkS",
    "outputId": "ed7cb8d3-a5a3-4007-e6e1-0646d35f8d95"
   },
   "outputs": [
    {
     "name": "stdout",
     "output_type": "stream",
     "text": [
      "x_train shape:- (210100, 52)\n",
      "x_test shape:- (90044, 52)\n",
      "y_train shape:- (210100,)\n",
      "y_test shape:- (90044,)\n",
      "model name :- random forest regression\n",
      "score on the testing data :- 0.9850066286700114\n",
      "score on the training data :- 0.9974986059989628\n",
      "MAE:- 1107.6727317364782\n",
      "MSE:- 7717005.38219008\n",
      "RMSE:- 2777.949852353365\n",
      "r2 0.9850066286700114\n"
     ]
    }
   ],
   "source": [
    "#use sklearn train test spilt for spilt our data in parts like training data and testing data \n",
    "from sklearn.model_selection import train_test_split\n",
    "\n",
    "x_train, x_test, y_train, y_test = train_test_split(x,y,test_size=0.3, random_state =101, shuffle=True)\n",
    "\n",
    "#print shape of x train,y train, x test and y test \n",
    "print('x_train shape:-',x_train.shape)\n",
    "print('x_test shape:-',x_test.shape)\n",
    "print('y_train shape:-',y_train.shape)\n",
    "print('y_test shape:-',y_test.shape)\n",
    "\n",
    "\n",
    "#import model from sklearn\n",
    "from sklearn.ensemble import RandomForestRegressor\n",
    "print('model name :- random forest regression')\n",
    "\n",
    "regr = RandomForestRegressor(random_state=123)\n",
    "\n",
    "#training model input as x_train and y_tarin\n",
    "regr.fit(x_train,y_train)\n",
    "\n",
    "print('score on the testing data :-',regr.score(x_test,y_test))\n",
    "print('score on the training data :-',regr.score(x_train,y_train))\n",
    "\n",
    "#finding error methods \n",
    "from sklearn import metrics\n",
    "\n",
    "#model is creted show give x test data as input and retuen predictd data \n",
    "predictions = regr.predict(x_test)\n",
    "\n",
    "#MAE\n",
    "print('MAE:-',metrics.mean_absolute_error(y_test,predictions))\n",
    "\n",
    "#MSE\n",
    "print('MSE:-',metrics.mean_squared_error(y_test,predictions))\n",
    "\n",
    "#RMSE\n",
    "print('RMSE:-',np.sqrt(metrics.mean_squared_error(y_test,predictions)))\n",
    "\n",
    "#r2\n",
    "print(\"r2\",r2_score(y_test, predictions))"
   ]
  },
  {
   "cell_type": "code",
   "execution_count": 22,
   "metadata": {
    "colab": {
     "base_uri": "https://localhost:8080/"
    },
    "id": "qOUf-ZmYGIsV",
    "outputId": "f9629691-8fed-4317-e923-1fdeb8864dd8"
   },
   "outputs": [
    {
     "name": "stdout",
     "output_type": "stream",
     "text": [
      "Actual: 5549, Predicted: 5548.98\n",
      "Actual: 5892, Predicted: 5890.68\n",
      "Actual: 37016, Predicted: 38398.15\n",
      "Actual: 4500, Predicted: 4504.15\n",
      "Actual: 39377, Predicted: 39456.52\n",
      "Actual: 5891, Predicted: 5282.29\n",
      "Actual: 23424, Predicted: 23280.82\n",
      "Actual: 4502, Predicted: 4502.0\n",
      "Actual: 5817, Predicted: 5817.83\n",
      "Actual: 37658, Predicted: 40095.11\n",
      "Actual: 54608, Predicted: 54608.0\n",
      "Actual: 3223, Predicted: 2581.56\n",
      "Actual: 3476, Predicted: 4240.61\n",
      "Actual: 58125, Predicted: 59136.93\n",
      "Actual: 3869, Predicted: 4634.56\n",
      "Actual: 6568, Predicted: 6564.94\n",
      "Actual: 2968, Predicted: 2968.0\n",
      "Actual: 11508, Predicted: 12278.505\n",
      "Actual: 12138, Predicted: 12972.58\n",
      "Actual: 4389, Predicted: 4117.265\n",
      "Actual: 10358, Predicted: 11579.06\n",
      "Actual: 5685, Predicted: 6226.8\n",
      "Actual: 4044, Predicted: 4843.57\n",
      "Actual: 7387, Predicted: 6242.68\n",
      "Actual: 2339, Predicted: 2339.0\n",
      "Actual: 82258, Predicted: 71527.43\n",
      "Actual: 67004, Predicted: 67287.36\n",
      "Actual: 4501, Predicted: 4504.04\n",
      "Actual: 5949, Predicted: 6012.48\n",
      "Actual: 79009, Predicted: 74436.84\n",
      "Actual: 65529, Predicted: 67494.6\n",
      "Actual: 13392, Predicted: 12769.87\n",
      "Actual: 2836, Predicted: 2892.51\n",
      "Actual: 6444, Predicted: 6440.84\n",
      "Actual: 14133, Predicted: 6239.34\n",
      "Actual: 7950, Predicted: 8573.6\n",
      "Actual: 5954, Predicted: 6009.28\n",
      "Actual: 44280, Predicted: 44391.27\n",
      "Actual: 7021, Predicted: 7023.63\n",
      "Actual: 55377, Predicted: 55197.84\n",
      "Actual: 9840, Predicted: 6368.22\n",
      "Actual: 5648, Predicted: 5063.54\n",
      "Actual: 7150, Predicted: 7246.31\n",
      "Actual: 5446, Predicted: 6927.91\n",
      "Actual: 6634, Predicted: 6619.98\n",
      "Actual: 4827, Predicted: 5049.62\n",
      "Actual: 16140, Predicted: 15877.31\n",
      "Actual: 7958, Predicted: 7979.53\n",
      "Actual: 36565, Predicted: 36565.0\n",
      "Actual: 3716, Predicted: 3708.35\n",
      "Actual: 7474, Predicted: 7562.41\n",
      "Actual: 5276, Predicted: 5591.05\n",
      "Actual: 2700, Predicted: 2702.1\n",
      "Actual: 12371, Predicted: 17489.25\n",
      "Actual: 15090, Predicted: 14925.9\n",
      "Actual: 2977, Predicted: 2446.58\n",
      "Actual: 4836, Predicted: 4907.96\n",
      "Actual: 2877, Predicted: 2853.71\n",
      "Actual: 57920, Predicted: 57920.0\n",
      "Actual: 52287, Predicted: 52949.58\n",
      "Actual: 4672, Predicted: 4672.0\n",
      "Actual: 2738, Predicted: 2822.1966666666663\n",
      "Actual: 12454, Predicted: 13046.24\n",
      "Actual: 52063, Predicted: 52326.8\n",
      "Actual: 3457, Predicted: 2354.89\n",
      "Actual: 4548, Predicted: 4575.74\n",
      "Actual: 88292, Predicted: 73990.95\n",
      "Actual: 7413, Predicted: 7500.32\n",
      "Actual: 36565, Predicted: 36565.0\n",
      "Actual: 73369, Predicted: 73369.0\n",
      "Actual: 6489, Predicted: 6430.98\n",
      "Actual: 54896, Predicted: 54939.22\n",
      "Actual: 7531, Predicted: 6380.19\n",
      "Actual: 10503, Predicted: 9945.49\n",
      "Actual: 4294, Predicted: 4540.08\n",
      "Actual: 6008, Predicted: 6731.43\n",
      "Actual: 4554, Predicted: 4775.11\n",
      "Actual: 5206, Predicted: 5206.0\n",
      "Actual: 61583, Predicted: 61583.0\n",
      "Actual: 5953, Predicted: 5963.3\n",
      "Actual: 5007, Predicted: 5307.83\n",
      "Actual: 50969, Predicted: 53208.55\n",
      "Actual: 6133, Predicted: 6258.92\n",
      "Actual: 35490, Predicted: 35490.0\n",
      "Actual: 5177, Predicted: 5342.5\n",
      "Actual: 89631, Predicted: 79704.12\n",
      "Actual: 6461, Predicted: 6509.33\n",
      "Actual: 52586, Predicted: 52586.0\n",
      "Actual: 3090, Predicted: 4282.0\n",
      "Actual: 53164, Predicted: 54239.18\n",
      "Actual: 5015, Predicted: 5057.6\n",
      "Actual: 12486, Predicted: 12679.49\n",
      "Actual: 45693, Predicted: 45693.0\n",
      "Actual: 5660, Predicted: 5679.91\n",
      "Actual: 5414, Predicted: 5008.08\n",
      "Actual: 6450, Predicted: 6490.94\n",
      "Actual: 6885, Predicted: 6831.62\n",
      "Actual: 6048, Predicted: 5417.68\n",
      "Actual: 3280, Predicted: 1308.46\n",
      "Actual: 5892, Predicted: 5913.51\n"
     ]
    }
   ],
   "source": [
    "i = 0\n",
    "for true_value, pred_value in zip(y_test, predictions):\n",
    "    print(f\"Actual: {true_value}, Predicted: {pred_value}\")\n",
    "    i+=1\n",
    "    if i == 100:\n",
    "        break"
   ]
  },
  {
   "cell_type": "code",
   "execution_count": 19,
   "metadata": {
    "colab": {
     "base_uri": "https://localhost:8080/"
    },
    "id": "mVqfNwBtDQB4",
    "outputId": "cdde4b00-e173-4bf0-cf24-bbafbf9d62f3"
   },
   "outputs": [
    {
     "data": {
      "text/plain": [
       "array([1.77052355e-03, 8.79826125e-01, 5.57686116e-02, 1.87002091e-02,\n",
       "       4.67087809e-04, 5.26604526e-03, 7.93825223e-05, 3.29502807e-04,\n",
       "       4.54357449e-05, 4.63919055e-03, 7.04405898e-04, 8.40853860e-04,\n",
       "       1.20429453e-03, 7.35092544e-05, 1.14953497e-03, 7.13484222e-04,\n",
       "       9.51490681e-04, 8.19599356e-04, 1.28941332e-03, 2.04387028e-04,\n",
       "       5.98235348e-04, 1.15437408e-03, 6.89832217e-04, 4.30186840e-04,\n",
       "       8.24679961e-04, 8.35147748e-04, 1.64034462e-03, 6.86518183e-04,\n",
       "       3.74465224e-04, 5.14108767e-04, 6.30970451e-04, 1.18858405e-03,\n",
       "       5.79183200e-04, 3.65023614e-04, 4.55746707e-04, 1.43291470e-03,\n",
       "       7.58253108e-04, 6.52412565e-04, 5.35831867e-04, 4.24785471e-04,\n",
       "       3.52636205e-04, 5.67590880e-04, 8.27357997e-04, 6.46773726e-04,\n",
       "       1.35349188e-03, 4.28928399e-04, 1.16388604e-03, 1.70539668e-03,\n",
       "       8.55509383e-04, 7.83629384e-04, 5.19542013e-04, 1.18057200e-03])"
      ]
     },
     "execution_count": 19,
     "metadata": {},
     "output_type": "execute_result"
    }
   ],
   "source": [
    "regr.feature_importances_"
   ]
  },
  {
   "cell_type": "code",
   "execution_count": 20,
   "metadata": {
    "colab": {
     "base_uri": "https://localhost:8080/"
    },
    "id": "lphjEmGkD61d",
    "outputId": "05f58e84-835e-48c2-efad-4d3124039a24"
   },
   "outputs": [
    {
     "data": {
      "text/plain": [
       "Index(['stops', 'class', 'duration', 'days_left', 'airline_AirAsia',\n",
       "       'airline_Air_India', 'airline_GO_FIRST', 'airline_Indigo',\n",
       "       'airline_SpiceJet', 'airline_Vistara', 'departure_time_Afternoon',\n",
       "       'departure_time_Early_Morning', 'departure_time_Evening',\n",
       "       'departure_time_Late_Night', 'departure_time_Morning',\n",
       "       'departure_time_Night', 'arrival_time_Afternoon',\n",
       "       'arrival_time_Early_Morning', 'arrival_time_Evening',\n",
       "       'arrival_time_Late_Night', 'arrival_time_Morning', 'arrival_time_Night',\n",
       "       'travel_route_Bangalore-Chennai', 'travel_route_Bangalore-Delhi',\n",
       "       'travel_route_Bangalore-Hyderabad', 'travel_route_Bangalore-Kolkata',\n",
       "       'travel_route_Bangalore-Mumbai', 'travel_route_Chennai-Bangalore',\n",
       "       'travel_route_Chennai-Delhi', 'travel_route_Chennai-Hyderabad',\n",
       "       'travel_route_Chennai-Kolkata', 'travel_route_Chennai-Mumbai',\n",
       "       'travel_route_Delhi-Bangalore', 'travel_route_Delhi-Chennai',\n",
       "       'travel_route_Delhi-Hyderabad', 'travel_route_Delhi-Kolkata',\n",
       "       'travel_route_Delhi-Mumbai', 'travel_route_Hyderabad-Bangalore',\n",
       "       'travel_route_Hyderabad-Chennai', 'travel_route_Hyderabad-Delhi',\n",
       "       'travel_route_Hyderabad-Kolkata', 'travel_route_Hyderabad-Mumbai',\n",
       "       'travel_route_Kolkata-Bangalore', 'travel_route_Kolkata-Chennai',\n",
       "       'travel_route_Kolkata-Delhi', 'travel_route_Kolkata-Hyderabad',\n",
       "       'travel_route_Kolkata-Mumbai', 'travel_route_Mumbai-Bangalore',\n",
       "       'travel_route_Mumbai-Chennai', 'travel_route_Mumbai-Delhi',\n",
       "       'travel_route_Mumbai-Hyderabad', 'travel_route_Mumbai-Kolkata'],\n",
       "      dtype='object')"
      ]
     },
     "execution_count": 20,
     "metadata": {},
     "output_type": "execute_result"
    }
   ],
   "source": [
    "x_train.columns"
   ]
  },
  {
   "cell_type": "code",
   "execution_count": 21,
   "metadata": {
    "colab": {
     "base_uri": "https://localhost:8080/",
     "height": 490
    },
    "id": "UbZxqmnCHjDJ",
    "outputId": "ae4ae459-ced1-43c6-c342-7f2ccb649891"
   },
   "outputs": [
    {
     "name": "stderr",
     "output_type": "stream",
     "text": [
      "No artists with labels found to put in legend.  Note that artists whose label start with an underscore are ignored when legend() is called with no argument.\n"
     ]
    },
    {
     "data": {
      "image/png": "[encoded data removed]",
      "text/plain": [
       "<Figure size 640x480 with 1 Axes>"
      ]
     },
     "metadata": {},
     "output_type": "display_data"
    }
   ],
   "source": [
    "# Plotting the predicted values and actual values\n",
    "plt.scatter(y_test,predictions)\n",
    "\n",
    "\n",
    "# Customizing the plot\n",
    "plt.title(\"Predicted vs Actual\")\n",
    "plt.xlabel(\"y_test\")\n",
    "plt.ylabel(\"predictions\")\n",
    "plt.legend()\n",
    "\n",
    "# Displaying the plot\n",
    "plt.show()"
   ]
  },
  {
   "cell_type": "code",
   "execution_count": null,
   "metadata": {
    "id": "3JuPykzPEuJm"
   },
   "outputs": [],
   "source": []
  },
  {
   "cell_type": "code",
   "execution_count": null,
   "metadata": {
    "id": "mvrxkIxTEtw0"
   },
   "outputs": [],
   "source": []
  },
  {
   "cell_type": "code",
   "execution_count": null,
   "metadata": {
    "id": "v_xyXNrCEtmf"
   },
   "outputs": [],
   "source": []
  },
  {
   "cell_type": "code",
   "execution_count": null,
   "metadata": {
    "id": "aDvOXAW4EtcY"
   },
   "outputs": [],
   "source": []
  },
  {
   "cell_type": "markdown",
   "metadata": {
    "id": "uiNmobfMEu3_"
   },
   "source": [
    "# Hyper parameters tunning"
   ]
  },
  {
   "cell_type": "code",
   "execution_count": 22,
   "metadata": {
    "id": "Q04AG6voKNWG"
   },
   "outputs": [],
   "source": [
    "algos = {\n",
    "    'randomforest_regression': {\n",
    "        'model': RandomForestRegressor(),\n",
    "        'params': {\n",
    "            'n_estimators': [50, 100, 150], # number of trees in the forest\n",
    "            'max_features': [None, 'log2'], # maximum number of features to consider at each split\n",
    "        }\n",
    "    }\n",
    "}"
   ]
  },
  {
   "cell_type": "code",
   "execution_count": 23,
   "metadata": {
    "id": "YqlSwg7sCBg2"
   },
   "outputs": [],
   "source": [
    "def find_best_model_using_gridsearchcv(x, y, algos):\n",
    "    # Initialize an empty list to store the results for each model\n",
    "    results = []\n",
    "\n",
    "    # Create a cross-validation generator\n",
    "    cv = ShuffleSplit(n_splits=5, test_size=0.2, random_state=0)\n",
    "\n",
    "    print(\"grid search started....\")\n",
    "    # Iterate over each model in the algos list\n",
    "    for algo_name, algo_params in algos.items():\n",
    "\n",
    "        # Create a GridSearchCV object with the current model and its parameters\n",
    "        gs = GridSearchCV(algo_params['model'], algo_params['params'], cv=cv, return_train_score=False)\n",
    "        print(f\"started for {algo_name} model for this {algo_params}....\")\n",
    "\n",
    "        # Fit the model using the input data\n",
    "        gs.fit(x, y)\n",
    "\n",
    "        # Make predictions on the test set\n",
    "        y_pred = gs.predict(x)\n",
    "\n",
    "        # Compute the evaluation metrics for the model\n",
    "        mse = mean_squared_error(y, y_pred)\n",
    "        rmse = mean_squared_error(y, y_pred, squared=False)\n",
    "        mae = mean_absolute_error(y, y_pred)\n",
    "        r2 = r2_score(y, y_pred)\n",
    "        \n",
    "        # Append the results for the current model to the results list\n",
    "        results.append({\n",
    "            'Model': algo_name,\n",
    "            'Best Parameters': gs.best_params_,\n",
    "            'Best Score': gs.best_score_,\n",
    "            'Mean Squared Error': mse,\n",
    "            'Root Mean Squared Error': rmse,\n",
    "            'Mean Absolute Error': mae,\n",
    "            'R2 Score': r2\n",
    "        })\n",
    "        \n",
    "        \n",
    "    \n",
    "    # Create a DataFrame to store the results for all models\n",
    "    results_df = pd.DataFrame(results)\n",
    "\n",
    "    # Return the results DataFrame\n",
    "    return results_df\n"
   ]
  },
  {
   "cell_type": "code",
   "execution_count": null,
   "metadata": {
    "colab": {
     "base_uri": "https://localhost:8080/",
     "height": 173
    },
    "id": "8yqlBopF0y_T",
    "outputId": "3bf7e5ca-032b-43a9-cbd2-5e936da34b8e"
   },
   "outputs": [
    {
     "name": "stdout",
     "output_type": "stream",
     "text": [
      "grid search started....\n",
      "started for randomforest_regression model for this {'model': RandomForestRegressor(), 'params': {'n_estimators': [50, 100, 150], 'max_features': [None, 'log2']}}....\n"
     ]
    }
   ],
   "source": [
    "find_best_model_using_gridsearchcv(x, y, algos)"
   ]
  },
  {
   "cell_type": "code",
   "execution_count": null,
   "metadata": {
    "id": "e2tdwcBvL395"
   },
   "outputs": [],
   "source": []
  },
  {
   "cell_type": "code",
   "execution_count": null,
   "metadata": {
    "id": "SamdcyZWL37J"
   },
   "outputs": [],
   "source": []
  },
  {
   "cell_type": "markdown",
   "metadata": {
    "id": "2XmzXmAfL34x"
   },
   "source": [
    "# feture importance"
   ]
  },
  {
   "cell_type": "code",
   "execution_count": null,
   "metadata": {},
   "outputs": [],
   "source": []
  },
  {
   "cell_type": "code",
   "execution_count": null,
   "metadata": {
    "colab": {
     "base_uri": "https://localhost:8080/",
     "height": 472
    },
    "id": "geh7Krb-QAYV",
    "outputId": "e8f58644-735b-448e-fe4c-ba3658b92c0e"
   },
   "outputs": [
    {
     "data": {
      "image/png": "[encoded data removed]",
      "text/plain": [
       "<Figure size 640x480 with 1 Axes>"
      ]
     },
     "metadata": {},
     "output_type": "display_data"
    }
   ],
   "source": [
    "import matplotlib.pyplot as plt\n",
    "\n",
    "\n",
    "# plot feature importances\n",
    "feat_importances = pd.Series(regr.feature_importances_, index=x_train.columns)\n",
    "feat_importances.nlargest(10).plot(kind='barh', color=['#7fcdbb','#41b6c4','#1d91c0','#225ea8','#253494','#081d58','#fc8d59','#ef6548','#d73027','#990000'])\n",
    "\n",
    "# customize plot\n",
    "plt.title('Feature Importances')\n",
    "plt.xlabel('Relative Importance')\n",
    "plt.ylabel('Features')\n",
    "plt.show()"
   ]
  },
  {
   "cell_type": "code",
   "execution_count": null,
   "metadata": {
    "id": "n5TYEg7wE1tD"
   },
   "outputs": [],
   "source": []
  },
  {
   "cell_type": "code",
   "execution_count": null,
   "metadata": {
    "colab": {
     "base_uri": "https://localhost:8080/"
    },
    "id": "17YCxxbeE1lk",
    "outputId": "5b74a69c-65db-4d7f-dcb8-cbe1739f1189"
   },
   "outputs": [
    {
     "data": {
      "text/plain": [
       "Index(['airline', 'flight', 'source_city', 'departure_time', 'stops',\n",
       "       'arrival_time', 'destination_city', 'class', 'duration', 'days_left',\n",
       "       'price', 'travel_route'],\n",
       "      dtype='object')"
      ]
     },
     "execution_count": 21,
     "metadata": {},
     "output_type": "execute_result"
    }
   ],
   "source": [
    "df.columns"
   ]
  },
  {
   "cell_type": "code",
   "execution_count": null,
   "metadata": {
    "id": "U0MNtbcRERBG"
   },
   "outputs": [],
   "source": [
    "#removing colums which are not more impact in previous model \n",
    "df_f_drop =df.drop(['airline', 'flight', 'source_city', 'departure_time', 'stops',\n",
    "       'arrival_time', 'destination_city','travel_route'],axis=1)"
   ]
  },
  {
   "cell_type": "code",
   "execution_count": null,
   "metadata": {
    "colab": {
     "base_uri": "https://localhost:8080/",
     "height": 423
    },
    "id": "vGjatL_4Eow7",
    "outputId": "64679ca6-a2cb-45b5-faf2-0afb43919e43"
   },
   "outputs": [
    {
     "data": {
      "text/html": [
       "\n",
       "  <div id=\"df-5e8454fe-d451-4754-9397-4e7d1c894566\">\n",
       "    <div class=\"colab-df-container\">\n",
       "      <div>\n",
       "<style scoped>\n",
       "    .dataframe tbody tr th:only-of-type {\n",
       "        vertical-align: middle;\n",
       "    }\n",
       "\n",
       "    .dataframe tbody tr th {\n",
       "        vertical-align: top;\n",
       "    }\n",
       "\n",
       "    .dataframe thead th {\n",
       "        text-align: right;\n",
       "    }\n",
       "</style>\n",
       "<table border=\"1\" class=\"dataframe\">\n",
       "  <thead>\n",
       "    <tr style=\"text-align: right;\">\n",
       "      <th></th>\n",
       "      <th>class</th>\n",
       "      <th>duration</th>\n",
       "      <th>days_left</th>\n",
       "      <th>price</th>\n",
       "    </tr>\n",
       "  </thead>\n",
       "  <tbody>\n",
       "    <tr>\n",
       "      <th>0</th>\n",
       "      <td>0</td>\n",
       "      <td>2.17</td>\n",
       "      <td>1</td>\n",
       "      <td>5953</td>\n",
       "    </tr>\n",
       "    <tr>\n",
       "      <th>1</th>\n",
       "      <td>0</td>\n",
       "      <td>2.33</td>\n",
       "      <td>1</td>\n",
       "      <td>5953</td>\n",
       "    </tr>\n",
       "    <tr>\n",
       "      <th>2</th>\n",
       "      <td>0</td>\n",
       "      <td>2.17</td>\n",
       "      <td>1</td>\n",
       "      <td>5956</td>\n",
       "    </tr>\n",
       "    <tr>\n",
       "      <th>3</th>\n",
       "      <td>0</td>\n",
       "      <td>2.25</td>\n",
       "      <td>1</td>\n",
       "      <td>5955</td>\n",
       "    </tr>\n",
       "    <tr>\n",
       "      <th>4</th>\n",
       "      <td>0</td>\n",
       "      <td>2.33</td>\n",
       "      <td>1</td>\n",
       "      <td>5955</td>\n",
       "    </tr>\n",
       "    <tr>\n",
       "      <th>...</th>\n",
       "      <td>...</td>\n",
       "      <td>...</td>\n",
       "      <td>...</td>\n",
       "      <td>...</td>\n",
       "    </tr>\n",
       "    <tr>\n",
       "      <th>300139</th>\n",
       "      <td>1</td>\n",
       "      <td>10.08</td>\n",
       "      <td>49</td>\n",
       "      <td>69265</td>\n",
       "    </tr>\n",
       "    <tr>\n",
       "      <th>300140</th>\n",
       "      <td>1</td>\n",
       "      <td>10.42</td>\n",
       "      <td>49</td>\n",
       "      <td>77105</td>\n",
       "    </tr>\n",
       "    <tr>\n",
       "      <th>300141</th>\n",
       "      <td>1</td>\n",
       "      <td>13.83</td>\n",
       "      <td>49</td>\n",
       "      <td>79099</td>\n",
       "    </tr>\n",
       "    <tr>\n",
       "      <th>300142</th>\n",
       "      <td>1</td>\n",
       "      <td>10.00</td>\n",
       "      <td>49</td>\n",
       "      <td>81585</td>\n",
       "    </tr>\n",
       "    <tr>\n",
       "      <th>300143</th>\n",
       "      <td>1</td>\n",
       "      <td>10.08</td>\n",
       "      <td>49</td>\n",
       "      <td>81585</td>\n",
       "    </tr>\n",
       "  </tbody>\n",
       "</table>\n",
       "<p>300144 rows × 4 columns</p>\n",
       "</div>\n",
       "      <button class=\"colab-df-convert\" onclick=\"convertToInteractive('df-5e8454fe-d451-4754-9397-4e7d1c894566')\"\n",
       "              title=\"Convert this dataframe to an interactive table.\"\n",
       "              style=\"display:none;\">\n",
       "        \n",
       "  <svg xmlns=\"http://www.w3.org/2000/svg\" height=\"24px\"viewBox=\"0 0 24 24\"\n",
       "       width=\"24px\">\n",
       "    <path d=\"M0 0h24v24H0V0z\" fill=\"none\"/>\n",
       "    <path d=\"M18.56 5.44l.94 2.06.94-2.06 2.06-.94-2.06-.94-.94-2.06-.94 2.06-2.06.94zm-11 1L8.5 8.5l.94-2.06 2.06-.94-2.06-.94L8.5 2.5l-.94 2.06-2.06.94zm10 10l.94 2.06.94-2.06 2.06-.94-2.06-.94-.94-2.06-.94 2.06-2.06.94z\"/><path d=\"M17.41 7.96l-1.37-1.37c-.4-.4-.92-.59-1.43-.59-.52 0-1.04.2-1.43.59L10.3 9.45l-7.72 7.72c-.78.78-.78 2.05 0 2.83L4 21.41c.39.39.9.59 1.41.59.51 0 1.02-.2 1.41-.59l7.78-7.78 2.81-2.81c.8-.78.8-2.07 0-2.86zM5.41 20L4 18.59l7.72-7.72 1.47 1.35L5.41 20z\"/>\n",
       "  </svg>\n",
       "      </button>\n",
       "      \n",
       "  <style>\n",
       "    .colab-df-container {\n",
       "      display:flex;\n",
       "      flex-wrap:wrap;\n",
       "      gap: 12px;\n",
       "    }\n",
       "\n",
       "    .colab-df-convert {\n",
       "      background-color: #E8F0FE;\n",
       "      border: none;\n",
       "      border-radius: 50%;\n",
       "      cursor: pointer;\n",
       "      display: none;\n",
       "      fill: #1967D2;\n",
       "      height: 32px;\n",
       "      padding: 0 0 0 0;\n",
       "      width: 32px;\n",
       "    }\n",
       "\n",
       "    .colab-df-convert:hover {\n",
       "      background-color: #E2EBFA;\n",
       "      box-shadow: 0px 1px 2px rgba(60, 64, 67, 0.3), 0px 1px 3px 1px rgba(60, 64, 67, 0.15);\n",
       "      fill: #174EA6;\n",
       "    }\n",
       "\n",
       "    [theme=dark] .colab-df-convert {\n",
       "      background-color: #3B4455;\n",
       "      fill: #D2E3FC;\n",
       "    }\n",
       "\n",
       "    [theme=dark] .colab-df-convert:hover {\n",
       "      background-color: #434B5C;\n",
       "      box-shadow: 0px 1px 3px 1px rgba(0, 0, 0, 0.15);\n",
       "      filter: drop-shadow(0px 1px 2px rgba(0, 0, 0, 0.3));\n",
       "      fill: #FFFFFF;\n",
       "    }\n",
       "  </style>\n",
       "\n",
       "      <script>\n",
       "        const buttonEl =\n",
       "          document.querySelector('#df-5e8454fe-d451-4754-9397-4e7d1c894566 button.colab-df-convert');\n",
       "        buttonEl.style.display =\n",
       "          google.colab.kernel.accessAllowed ? 'block' : 'none';\n",
       "\n",
       "        async function convertToInteractive(key) {\n",
       "          const element = document.querySelector('#df-5e8454fe-d451-4754-9397-4e7d1c894566');\n",
       "          const dataTable =\n",
       "            await google.colab.kernel.invokeFunction('convertToInteractive',\n",
       "                                                     [key], {});\n",
       "          if (!dataTable) return;\n",
       "\n",
       "          const docLinkHtml = 'Like what you see? Visit the ' +\n",
       "            '<a target=\"_blank\" href=https://colab.research.google.com/notebooks/data_table.ipynb>data table notebook</a>'\n",
       "            + ' to learn more about interactive tables.';\n",
       "          element.innerHTML = '';\n",
       "          dataTable['output_type'] = 'display_data';\n",
       "          await google.colab.output.renderOutput(dataTable, element);\n",
       "          const docLink = document.createElement('div');\n",
       "          docLink.innerHTML = docLinkHtml;\n",
       "          element.appendChild(docLink);\n",
       "        }\n",
       "      </script>\n",
       "    </div>\n",
       "  </div>\n",
       "  "
      ],
      "text/plain": [
       "        class  duration  days_left  price\n",
       "0           0      2.17          1   5953\n",
       "1           0      2.33          1   5953\n",
       "2           0      2.17          1   5956\n",
       "3           0      2.25          1   5955\n",
       "4           0      2.33          1   5955\n",
       "...       ...       ...        ...    ...\n",
       "300139      1     10.08         49  69265\n",
       "300140      1     10.42         49  77105\n",
       "300141      1     13.83         49  79099\n",
       "300142      1     10.00         49  81585\n",
       "300143      1     10.08         49  81585\n",
       "\n",
       "[300144 rows x 4 columns]"
      ]
     },
     "execution_count": 23,
     "metadata": {},
     "output_type": "execute_result"
    }
   ],
   "source": [
    "df_f_drop"
   ]
  },
  {
   "cell_type": "code",
   "execution_count": null,
   "metadata": {
    "id": "Oc_mDe-7FHSq"
   },
   "outputs": [],
   "source": [
    "#create x and y where x are features for the model and y as target\n",
    "x_f_drop = df_f_drop.drop('price',axis=1)\n",
    "y_f_drop = df_f_drop['price']"
   ]
  },
  {
   "cell_type": "code",
   "execution_count": null,
   "metadata": {
    "colab": {
     "base_uri": "https://localhost:8080/"
    },
    "id": "_3kqoK8iFbfw",
    "outputId": "28ee2ee7-db93-45fc-a4d4-8414dfb495de"
   },
   "outputs": [
    {
     "name": "stdout",
     "output_type": "stream",
     "text": [
      "x_train shape:- (210100, 3)\n",
      "x_test shape:- (90044, 3)\n",
      "y_train shape:- (210100,)\n",
      "y_test shape:- (90044,)\n",
      "model name :- random forest regression\n",
      "score on the testing data :- 0.9214925738253971\n",
      "score on the training data :- 0.946955226156108\n",
      "MAE:- 3757.4095884538788\n",
      "MSE:- 40407338.48294312\n",
      "RMSE:- 6356.676685418499\n",
      "r2 0.9214925738253971\n"
     ]
    }
   ],
   "source": [
    "#use sklearn train test spilt for spilt our data in parts like training data and testing data \n",
    "from sklearn.model_selection import train_test_split\n",
    "\n",
    "x_train, x_test, y_train, y_test = train_test_split(x_f_drop,y_f_drop,test_size=0.3, random_state =101, shuffle=True)\n",
    "\n",
    "#print shape of x train,y train, x test and y test \n",
    "print('x_train shape:-',x_train.shape)\n",
    "print('x_test shape:-',x_test.shape)\n",
    "print('y_train shape:-',y_train.shape)\n",
    "print('y_test shape:-',y_test.shape)\n",
    "\n",
    "\n",
    "#import model from sklearn\n",
    "from sklearn.ensemble import RandomForestRegressor\n",
    "print('model name :- random forest regression')\n",
    "\n",
    "regr = RandomForestRegressor(random_state=123)\n",
    "\n",
    "#training model input as x_train and y_tarin\n",
    "regr.fit(x_train,y_train)\n",
    "\n",
    "print('score on the testing data :-',regr.score(x_test,y_test))\n",
    "print('score on the training data :-',regr.score(x_train,y_train))\n",
    "\n",
    "#finding error methods \n",
    "from sklearn import metrics\n",
    "\n",
    "#model is creted show give x test data as input and retuen predictd data \n",
    "predictions = regr.predict(x_test)\n",
    "\n",
    "#MAE\n",
    "print('MAE:-',metrics.mean_absolute_error(y_test,predictions))\n",
    "\n",
    "#MSE\n",
    "print('MSE:-',metrics.mean_squared_error(y_test,predictions))\n",
    "\n",
    "#RMSE\n",
    "print('RMSE:-',np.sqrt(metrics.mean_squared_error(y_test,predictions)))\n",
    "\n",
    "#r2\n",
    "print(\"r2\",r2_score(y_test, predictions))\n"
   ]
  },
  {
   "cell_type": "code",
   "execution_count": null,
   "metadata": {
    "id": "RYvPVdsaFhww"
   },
   "outputs": [],
   "source": []
  }
 ],
 "metadata": {
  "colab": {
   "provenance": []
  },
  "kernelspec": {
   "display_name": "Python 3 (ipykernel)",
   "language": "python",
   "name": "python3"
  },
  "language_info": {
   "codemirror_mode": {
    "name": "ipython",
    "version": 3
   },
   "file_extension": ".py",
   "mimetype": "text/x-python",
   "name": "python",
   "nbconvert_exporter": "python",
   "pygments_lexer": "ipython3",
   "version": "3.9.13"
  }
 },
 "nbformat": 4,
 "nbformat_minor": 1
}
