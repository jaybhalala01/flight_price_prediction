{
 "cells": [
  {
   "cell_type": "code",
   "execution_count": null,
   "metadata": {
    "colab": {
     "base_uri": "https://localhost:8080/"
    },
    "id": "PaKpaoD4Z0YN",
    "outputId": "eb63b897-c2fb-4159-ae0e-7892505f3c3e"
   },
   "outputs": [],
   "source": []
  },
  {
   "cell_type": "code",
   "execution_count": 20,
   "metadata": {
    "id": "dcKRhJIahdvE"
   },
   "outputs": [],
   "source": [
    "import pandas as pd \n",
    "import numpy as np\n",
    "import matplotlib.pyplot  as plt\n",
    "import seaborn as sn\n",
    "%matplotlib inline"
   ]
  },
  {
   "cell_type": "code",
   "execution_count": 21,
   "metadata": {
    "id": "MYRcaejWPjZy"
   },
   "outputs": [],
   "source": [
    "import pandas as pd\n",
    "from sklearn.model_selection import ShuffleSplit\n",
    "from sklearn.metrics import mean_squared_error, mean_absolute_error, r2_score\n",
    "from sklearn.model_selection import GridSearchCV\n",
    "from sklearn.linear_model import LinearRegression\n",
    "from sklearn.svm import SVR\n",
    "from sklearn.tree import DecisionTreeRegressor\n",
    "from sklearn.preprocessing import LabelEncoder"
   ]
  },
  {
   "cell_type": "code",
   "execution_count": 22,
   "metadata": {},
   "outputs": [
    {
     "data": {
      "text/plain": [
       "'/home/growlt199/Downloads/flight_price_prediction/model_training/model_training_difmodels'"
      ]
     },
     "execution_count": 22,
     "metadata": {},
     "output_type": "execute_result"
    }
   ],
   "source": [
    "pwd"
   ]
  },
  {
   "cell_type": "code",
   "execution_count": 23,
   "metadata": {
    "id": "_CpCypWjjVlK"
   },
   "outputs": [],
   "source": [
    "df = pd.read_csv(\"/home/growlt199/Downloads/manufacturing_project/data/flight_processed_data.csv\",index_col=0)"
   ]
  },
  {
   "cell_type": "code",
   "execution_count": 24,
   "metadata": {
    "colab": {
     "base_uri": "https://localhost:8080/",
     "height": 206
    },
    "id": "Kwv1247zjeNT",
    "outputId": "5bbb8e82-bf15-44d0-e4f1-94767e8c9b89"
   },
   "outputs": [
    {
     "data": {
      "text/html": [
       "<div>\n",
       "<style scoped>\n",
       "    .dataframe tbody tr th:only-of-type {\n",
       "        vertical-align: middle;\n",
       "    }\n",
       "\n",
       "    .dataframe tbody tr th {\n",
       "        vertical-align: top;\n",
       "    }\n",
       "\n",
       "    .dataframe thead th {\n",
       "        text-align: right;\n",
       "    }\n",
       "</style>\n",
       "<table border=\"1\" class=\"dataframe\">\n",
       "  <thead>\n",
       "    <tr style=\"text-align: right;\">\n",
       "      <th></th>\n",
       "      <th>airline</th>\n",
       "      <th>flight</th>\n",
       "      <th>source_city</th>\n",
       "      <th>departure_time</th>\n",
       "      <th>stops</th>\n",
       "      <th>arrival_time</th>\n",
       "      <th>destination_city</th>\n",
       "      <th>class</th>\n",
       "      <th>duration</th>\n",
       "      <th>days_left</th>\n",
       "      <th>price</th>\n",
       "    </tr>\n",
       "  </thead>\n",
       "  <tbody>\n",
       "    <tr>\n",
       "      <th>0</th>\n",
       "      <td>SpiceJet</td>\n",
       "      <td>SG-8709</td>\n",
       "      <td>Delhi</td>\n",
       "      <td>Evening</td>\n",
       "      <td>0</td>\n",
       "      <td>Night</td>\n",
       "      <td>Mumbai</td>\n",
       "      <td>0</td>\n",
       "      <td>2.17</td>\n",
       "      <td>1</td>\n",
       "      <td>5953</td>\n",
       "    </tr>\n",
       "    <tr>\n",
       "      <th>1</th>\n",
       "      <td>SpiceJet</td>\n",
       "      <td>SG-8157</td>\n",
       "      <td>Delhi</td>\n",
       "      <td>Early_Morning</td>\n",
       "      <td>0</td>\n",
       "      <td>Morning</td>\n",
       "      <td>Mumbai</td>\n",
       "      <td>0</td>\n",
       "      <td>2.33</td>\n",
       "      <td>1</td>\n",
       "      <td>5953</td>\n",
       "    </tr>\n",
       "    <tr>\n",
       "      <th>2</th>\n",
       "      <td>AirAsia</td>\n",
       "      <td>I5-764</td>\n",
       "      <td>Delhi</td>\n",
       "      <td>Early_Morning</td>\n",
       "      <td>0</td>\n",
       "      <td>Early_Morning</td>\n",
       "      <td>Mumbai</td>\n",
       "      <td>0</td>\n",
       "      <td>2.17</td>\n",
       "      <td>1</td>\n",
       "      <td>5956</td>\n",
       "    </tr>\n",
       "    <tr>\n",
       "      <th>3</th>\n",
       "      <td>Vistara</td>\n",
       "      <td>UK-995</td>\n",
       "      <td>Delhi</td>\n",
       "      <td>Morning</td>\n",
       "      <td>0</td>\n",
       "      <td>Afternoon</td>\n",
       "      <td>Mumbai</td>\n",
       "      <td>0</td>\n",
       "      <td>2.25</td>\n",
       "      <td>1</td>\n",
       "      <td>5955</td>\n",
       "    </tr>\n",
       "    <tr>\n",
       "      <th>4</th>\n",
       "      <td>Vistara</td>\n",
       "      <td>UK-963</td>\n",
       "      <td>Delhi</td>\n",
       "      <td>Morning</td>\n",
       "      <td>0</td>\n",
       "      <td>Morning</td>\n",
       "      <td>Mumbai</td>\n",
       "      <td>0</td>\n",
       "      <td>2.33</td>\n",
       "      <td>1</td>\n",
       "      <td>5955</td>\n",
       "    </tr>\n",
       "  </tbody>\n",
       "</table>\n",
       "</div>"
      ],
      "text/plain": [
       "    airline   flight source_city departure_time  stops   arrival_time  \\\n",
       "0  SpiceJet  SG-8709       Delhi        Evening      0          Night   \n",
       "1  SpiceJet  SG-8157       Delhi  Early_Morning      0        Morning   \n",
       "2   AirAsia   I5-764       Delhi  Early_Morning      0  Early_Morning   \n",
       "3   Vistara   UK-995       Delhi        Morning      0      Afternoon   \n",
       "4   Vistara   UK-963       Delhi        Morning      0        Morning   \n",
       "\n",
       "  destination_city  class  duration  days_left  price  \n",
       "0           Mumbai      0      2.17          1   5953  \n",
       "1           Mumbai      0      2.33          1   5953  \n",
       "2           Mumbai      0      2.17          1   5956  \n",
       "3           Mumbai      0      2.25          1   5955  \n",
       "4           Mumbai      0      2.33          1   5955  "
      ]
     },
     "execution_count": 24,
     "metadata": {},
     "output_type": "execute_result"
    }
   ],
   "source": [
    "df.head()"
   ]
  },
  {
   "cell_type": "code",
   "execution_count": 25,
   "metadata": {
    "colab": {
     "base_uri": "https://localhost:8080/"
    },
    "id": "cZSVpoRm9riY",
    "outputId": "dc5f268a-544a-48b0-f9d2-883541ec4d0a"
   },
   "outputs": [
    {
     "data": {
      "text/plain": [
       "Index(['airline', 'flight', 'source_city', 'departure_time', 'stops',\n",
       "       'arrival_time', 'destination_city', 'class', 'duration', 'days_left',\n",
       "       'price'],\n",
       "      dtype='object')"
      ]
     },
     "execution_count": 25,
     "metadata": {},
     "output_type": "execute_result"
    }
   ],
   "source": [
    "df.columns"
   ]
  },
  {
   "cell_type": "code",
   "execution_count": 26,
   "metadata": {},
   "outputs": [],
   "source": [
    "#done label encoding in flight column\n",
    "label_encoder = LabelEncoder()\n",
    "df['flight'] = label_encoder.fit_transform(df['flight'])"
   ]
  },
  {
   "cell_type": "markdown",
   "metadata": {
    "id": "ZkcNpIqjEcaG"
   },
   "source": [
    "as fetures i wanted to take \n",
    "* **stops,class,days_left,duration** are numerical colums\n",
    "* and do one hot encoding in other feature columns are **desparture_time,arrival_time, airline and traval_route (combination of source city and destination city)**"
   ]
  },
  {
   "cell_type": "code",
   "execution_count": 27,
   "metadata": {
    "id": "gOq9H-DD99gp"
   },
   "outputs": [],
   "source": [
    "#removing colums which i dont want to use in model \n",
    "#df1 =df.drop([ 'source_city','destination_city'],axis=1)"
   ]
  },
  {
   "cell_type": "code",
   "execution_count": 28,
   "metadata": {
    "colab": {
     "base_uri": "https://localhost:8080/",
     "height": 206
    },
    "id": "S8WDXSqX-EwC",
    "outputId": "2eaa472c-7778-44ed-a958-a4c7db8898c2"
   },
   "outputs": [],
   "source": [
    "df1 =df.copy()"
   ]
  },
  {
   "cell_type": "code",
   "execution_count": 29,
   "metadata": {
    "colab": {
     "base_uri": "https://localhost:8080/",
     "height": 317
    },
    "id": "lxfHFzhO-GgF",
    "outputId": "842a18ea-f52b-4d45-c105-463c7a4be8db"
   },
   "outputs": [
    {
     "data": {
      "text/html": [
       "<div>\n",
       "<style scoped>\n",
       "    .dataframe tbody tr th:only-of-type {\n",
       "        vertical-align: middle;\n",
       "    }\n",
       "\n",
       "    .dataframe tbody tr th {\n",
       "        vertical-align: top;\n",
       "    }\n",
       "\n",
       "    .dataframe thead th {\n",
       "        text-align: right;\n",
       "    }\n",
       "</style>\n",
       "<table border=\"1\" class=\"dataframe\">\n",
       "  <thead>\n",
       "    <tr style=\"text-align: right;\">\n",
       "      <th></th>\n",
       "      <th>flight</th>\n",
       "      <th>stops</th>\n",
       "      <th>class</th>\n",
       "      <th>duration</th>\n",
       "      <th>days_left</th>\n",
       "      <th>price</th>\n",
       "      <th>airline_AirAsia</th>\n",
       "      <th>airline_Air_India</th>\n",
       "      <th>airline_GO_FIRST</th>\n",
       "      <th>airline_Indigo</th>\n",
       "      <th>...</th>\n",
       "      <th>source_city_Delhi</th>\n",
       "      <th>source_city_Hyderabad</th>\n",
       "      <th>source_city_Kolkata</th>\n",
       "      <th>source_city_Mumbai</th>\n",
       "      <th>destination_city_Bangalore</th>\n",
       "      <th>destination_city_Chennai</th>\n",
       "      <th>destination_city_Delhi</th>\n",
       "      <th>destination_city_Hyderabad</th>\n",
       "      <th>destination_city_Kolkata</th>\n",
       "      <th>destination_city_Mumbai</th>\n",
       "    </tr>\n",
       "  </thead>\n",
       "  <tbody>\n",
       "    <tr>\n",
       "      <th>0</th>\n",
       "      <td>1408</td>\n",
       "      <td>0</td>\n",
       "      <td>0</td>\n",
       "      <td>2.17</td>\n",
       "      <td>1</td>\n",
       "      <td>5953</td>\n",
       "      <td>0</td>\n",
       "      <td>0</td>\n",
       "      <td>0</td>\n",
       "      <td>0</td>\n",
       "      <td>...</td>\n",
       "      <td>1</td>\n",
       "      <td>0</td>\n",
       "      <td>0</td>\n",
       "      <td>0</td>\n",
       "      <td>0</td>\n",
       "      <td>0</td>\n",
       "      <td>0</td>\n",
       "      <td>0</td>\n",
       "      <td>0</td>\n",
       "      <td>1</td>\n",
       "    </tr>\n",
       "    <tr>\n",
       "      <th>1</th>\n",
       "      <td>1387</td>\n",
       "      <td>0</td>\n",
       "      <td>0</td>\n",
       "      <td>2.33</td>\n",
       "      <td>1</td>\n",
       "      <td>5953</td>\n",
       "      <td>0</td>\n",
       "      <td>0</td>\n",
       "      <td>0</td>\n",
       "      <td>0</td>\n",
       "      <td>...</td>\n",
       "      <td>1</td>\n",
       "      <td>0</td>\n",
       "      <td>0</td>\n",
       "      <td>0</td>\n",
       "      <td>0</td>\n",
       "      <td>0</td>\n",
       "      <td>0</td>\n",
       "      <td>0</td>\n",
       "      <td>0</td>\n",
       "      <td>1</td>\n",
       "    </tr>\n",
       "    <tr>\n",
       "      <th>2</th>\n",
       "      <td>1213</td>\n",
       "      <td>0</td>\n",
       "      <td>0</td>\n",
       "      <td>2.17</td>\n",
       "      <td>1</td>\n",
       "      <td>5956</td>\n",
       "      <td>1</td>\n",
       "      <td>0</td>\n",
       "      <td>0</td>\n",
       "      <td>0</td>\n",
       "      <td>...</td>\n",
       "      <td>1</td>\n",
       "      <td>0</td>\n",
       "      <td>0</td>\n",
       "      <td>0</td>\n",
       "      <td>0</td>\n",
       "      <td>0</td>\n",
       "      <td>0</td>\n",
       "      <td>0</td>\n",
       "      <td>0</td>\n",
       "      <td>1</td>\n",
       "    </tr>\n",
       "    <tr>\n",
       "      <th>3</th>\n",
       "      <td>1559</td>\n",
       "      <td>0</td>\n",
       "      <td>0</td>\n",
       "      <td>2.25</td>\n",
       "      <td>1</td>\n",
       "      <td>5955</td>\n",
       "      <td>0</td>\n",
       "      <td>0</td>\n",
       "      <td>0</td>\n",
       "      <td>0</td>\n",
       "      <td>...</td>\n",
       "      <td>1</td>\n",
       "      <td>0</td>\n",
       "      <td>0</td>\n",
       "      <td>0</td>\n",
       "      <td>0</td>\n",
       "      <td>0</td>\n",
       "      <td>0</td>\n",
       "      <td>0</td>\n",
       "      <td>0</td>\n",
       "      <td>1</td>\n",
       "    </tr>\n",
       "    <tr>\n",
       "      <th>4</th>\n",
       "      <td>1549</td>\n",
       "      <td>0</td>\n",
       "      <td>0</td>\n",
       "      <td>2.33</td>\n",
       "      <td>1</td>\n",
       "      <td>5955</td>\n",
       "      <td>0</td>\n",
       "      <td>0</td>\n",
       "      <td>0</td>\n",
       "      <td>0</td>\n",
       "      <td>...</td>\n",
       "      <td>1</td>\n",
       "      <td>0</td>\n",
       "      <td>0</td>\n",
       "      <td>0</td>\n",
       "      <td>0</td>\n",
       "      <td>0</td>\n",
       "      <td>0</td>\n",
       "      <td>0</td>\n",
       "      <td>0</td>\n",
       "      <td>1</td>\n",
       "    </tr>\n",
       "  </tbody>\n",
       "</table>\n",
       "<p>5 rows × 36 columns</p>\n",
       "</div>"
      ],
      "text/plain": [
       "   flight  stops  class  duration  days_left  price  airline_AirAsia  \\\n",
       "0    1408      0      0      2.17          1   5953                0   \n",
       "1    1387      0      0      2.33          1   5953                0   \n",
       "2    1213      0      0      2.17          1   5956                1   \n",
       "3    1559      0      0      2.25          1   5955                0   \n",
       "4    1549      0      0      2.33          1   5955                0   \n",
       "\n",
       "   airline_Air_India  airline_GO_FIRST  airline_Indigo  ...  \\\n",
       "0                  0                 0               0  ...   \n",
       "1                  0                 0               0  ...   \n",
       "2                  0                 0               0  ...   \n",
       "3                  0                 0               0  ...   \n",
       "4                  0                 0               0  ...   \n",
       "\n",
       "   source_city_Delhi  source_city_Hyderabad  source_city_Kolkata  \\\n",
       "0                  1                      0                    0   \n",
       "1                  1                      0                    0   \n",
       "2                  1                      0                    0   \n",
       "3                  1                      0                    0   \n",
       "4                  1                      0                    0   \n",
       "\n",
       "   source_city_Mumbai  destination_city_Bangalore  destination_city_Chennai  \\\n",
       "0                   0                           0                         0   \n",
       "1                   0                           0                         0   \n",
       "2                   0                           0                         0   \n",
       "3                   0                           0                         0   \n",
       "4                   0                           0                         0   \n",
       "\n",
       "   destination_city_Delhi  destination_city_Hyderabad  \\\n",
       "0                       0                           0   \n",
       "1                       0                           0   \n",
       "2                       0                           0   \n",
       "3                       0                           0   \n",
       "4                       0                           0   \n",
       "\n",
       "   destination_city_Kolkata  destination_city_Mumbai  \n",
       "0                         0                        1  \n",
       "1                         0                        1  \n",
       "2                         0                        1  \n",
       "3                         0                        1  \n",
       "4                         0                        1  \n",
       "\n",
       "[5 rows x 36 columns]"
      ]
     },
     "execution_count": 29,
     "metadata": {},
     "output_type": "execute_result"
    }
   ],
   "source": [
    "# get dummy variables for multiple columns\n",
    "dummy_cols = ['airline', 'departure_time','arrival_time','source_city','destination_city']\n",
    "df1_dummy = pd.get_dummies(df1[dummy_cols])\n",
    "\n",
    "# concatenate original DataFrame with dummy variable DataFrame\n",
    "df1_concat = pd.concat([df1.drop(dummy_cols, axis=1), df1_dummy], axis=1)\n",
    "\n",
    "# display result\n",
    "df1_concat.head()"
   ]
  },
  {
   "cell_type": "code",
   "execution_count": 30,
   "metadata": {
    "id": "knL7JKUD-lQv"
   },
   "outputs": [],
   "source": [
    "#create x and y where x are features for the model and y as target\n",
    "x = df1_concat.drop('price',axis=1)\n",
    "y = df1_concat['price']"
   ]
  },
  {
   "cell_type": "markdown",
   "metadata": {
    "id": "0be1qXgWB3JC"
   },
   "source": [
    "# **Random forest regression**"
   ]
  },
  {
   "cell_type": "code",
   "execution_count": null,
   "metadata": {
    "id": "hFMLE7M1B186"
   },
   "outputs": [],
   "source": []
  },
  {
   "cell_type": "code",
   "execution_count": 31,
   "metadata": {
    "colab": {
     "base_uri": "https://localhost:8080/"
    },
    "id": "VG7EaR82BgkS",
    "outputId": "ed7cb8d3-a5a3-4007-e6e1-0646d35f8d95"
   },
   "outputs": [
    {
     "name": "stdout",
     "output_type": "stream",
     "text": [
      "x_train shape:- (209180, 35)\n",
      "x_test shape:- (89649, 35)\n",
      "y_train shape:- (209180,)\n",
      "y_test shape:- (89649,)\n",
      "model name :- random forest regression\n",
      "score on the testing data :- 0.9905852383648599\n",
      "score on the training data :- 0.9986261696844574\n",
      "MAE:- 844.5448704237893\n",
      "MSE:- 4757947.09933991\n",
      "RMSE:- 2181.2718994522234\n",
      "r2 0.9905852383648599\n"
     ]
    }
   ],
   "source": [
    "#use sklearn train test spilt for spilt our data in parts like training data and testing data \n",
    "from sklearn.model_selection import train_test_split\n",
    "\n",
    "x_train, x_test, y_train, y_test = train_test_split(x,y,test_size=0.3, random_state =101, shuffle=True)\n",
    "\n",
    "#print shape of x train,y train, x test and y test \n",
    "print('x_train shape:-',x_train.shape)\n",
    "print('x_test shape:-',x_test.shape)\n",
    "print('y_train shape:-',y_train.shape)\n",
    "print('y_test shape:-',y_test.shape)\n",
    "\n",
    "\n",
    "#import model from sklearn\n",
    "from sklearn.ensemble import RandomForestRegressor\n",
    "print('model name :- random forest regression')\n",
    "\n",
    "regr = RandomForestRegressor(random_state=123)\n",
    "\n",
    "#training model input as x_train and y_tarin\n",
    "regr.fit(x_train,y_train)\n",
    "\n",
    "print('score on the testing data :-',regr.score(x_test,y_test))\n",
    "print('score on the training data :-',regr.score(x_train,y_train))\n",
    "\n",
    "#finding error methods \n",
    "from sklearn import metrics\n",
    "\n",
    "#model is creted show give x test data as input and retuen predictd data \n",
    "predictions = regr.predict(x_test)\n",
    "\n",
    "#MAE\n",
    "print('MAE:-',metrics.mean_absolute_error(y_test,predictions))\n",
    "\n",
    "#MSE\n",
    "print('MSE:-',metrics.mean_squared_error(y_test,predictions))\n",
    "\n",
    "#RMSE\n",
    "print('RMSE:-',np.sqrt(metrics.mean_squared_error(y_test,predictions)))\n",
    "\n",
    "#r2\n",
    "print(\"r2\",r2_score(y_test, predictions))"
   ]
  },
  {
   "cell_type": "code",
   "execution_count": 32,
   "metadata": {
    "colab": {
     "base_uri": "https://localhost:8080/"
    },
    "id": "qOUf-ZmYGIsV",
    "outputId": "f9629691-8fed-4317-e923-1fdeb8864dd8"
   },
   "outputs": [
    {
     "name": "stdout",
     "output_type": "stream",
     "text": [
      "Actual: 50297, Predicted: 57416.18\n",
      "Actual: 4724, Predicted: 5017.67\n",
      "Actual: 56590, Predicted: 56590.0\n",
      "Actual: 7424, Predicted: 8190.14\n",
      "Actual: 3572, Predicted: 3572.0\n",
      "Actual: 4501, Predicted: 4501.0\n",
      "Actual: 11163, Predicted: 11200.83\n",
      "Actual: 54896, Predicted: 54896.0\n",
      "Actual: 55983, Predicted: 55983.0\n",
      "Actual: 5068, Predicted: 4970.02\n",
      "Actual: 65872, Predicted: 58148.48\n",
      "Actual: 53152, Predicted: 53152.0\n",
      "Actual: 3568, Predicted: 3568.0\n",
      "Actual: 50810, Predicted: 50329.56\n",
      "Actual: 6296, Predicted: 6296.0\n",
      "Actual: 4896, Predicted: 4896.0\n",
      "Actual: 50271, Predicted: 54391.38\n",
      "Actual: 36577, Predicted: 36745.22\n",
      "Actual: 3282, Predicted: 3282.0\n",
      "Actual: 6578, Predicted: 7585.41\n",
      "Actual: 16035, Predicted: 15662.2\n",
      "Actual: 5955, Predicted: 5969.7\n",
      "Actual: 58032, Predicted: 54572.18\n",
      "Actual: 5771, Predicted: 5972.91\n",
      "Actual: 2477, Predicted: 3001.73\n",
      "Actual: 49725, Predicted: 49725.0\n",
      "Actual: 4099, Predicted: 4220.79\n",
      "Actual: 4721, Predicted: 4713.35\n",
      "Actual: 4855, Predicted: 2823.65\n",
      "Actual: 3014, Predicted: 3040.91\n",
      "Actual: 62045, Predicted: 64665.8\n",
      "Actual: 11129, Predicted: 11286.02\n",
      "Actual: 6082, Predicted: 6081.39\n",
      "Actual: 65529, Predicted: 70179.24\n",
      "Actual: 5772, Predicted: 5772.0\n",
      "Actual: 4071, Predicted: 4057.18\n",
      "Actual: 3334, Predicted: 3334.0\n",
      "Actual: 4796, Predicted: 4796.0\n",
      "Actual: 53164, Predicted: 53563.84\n",
      "Actual: 8104, Predicted: 7888.25\n",
      "Actual: 3999, Predicted: 4002.81\n",
      "Actual: 9697, Predicted: 9638.62\n",
      "Actual: 1890, Predicted: 2048.23\n",
      "Actual: 57129, Predicted: 57167.01\n",
      "Actual: 2477, Predicted: 2782.93\n",
      "Actual: 39555, Predicted: 39555.0\n",
      "Actual: 70109, Predicted: 67509.44\n",
      "Actual: 6115, Predicted: 6311.47\n",
      "Actual: 4453, Predicted: 4484.17\n",
      "Actual: 60396, Predicted: 70963.2\n",
      "Actual: 2339, Predicted: 2399.7\n",
      "Actual: 32634, Predicted: 32634.0\n",
      "Actual: 4249, Predicted: 9929.14\n",
      "Actual: 4499, Predicted: 4659.57\n",
      "Actual: 5330, Predicted: 5300.98\n",
      "Actual: 42412, Predicted: 34460.0\n",
      "Actual: 72335, Predicted: 61791.32\n",
      "Actual: 2410, Predicted: 2410.0\n",
      "Actual: 3093, Predicted: 2898.62\n",
      "Actual: 2738, Predicted: 3231.17\n",
      "Actual: 45257, Predicted: 45257.0\n",
      "Actual: 37985, Predicted: 38215.49\n",
      "Actual: 45805, Predicted: 45805.0\n",
      "Actual: 5953, Predicted: 5973.23\n",
      "Actual: 62591, Predicted: 64005.32\n",
      "Actual: 78554, Predicted: 72262.84\n",
      "Actual: 41314, Predicted: 41314.0\n",
      "Actual: 3754, Predicted: 3761.45\n",
      "Actual: 12468, Predicted: 12256.44\n",
      "Actual: 5657, Predicted: 5655.64\n",
      "Actual: 12658, Predicted: 12642.81\n",
      "Actual: 60508, Predicted: 60508.0\n",
      "Actual: 8523, Predicted: 9170.74\n",
      "Actual: 4162, Predicted: 4122.58\n",
      "Actual: 4363, Predicted: 4361.66\n",
      "Actual: 3264, Predicted: 3144.48\n",
      "Actual: 9175, Predicted: 9002.08\n",
      "Actual: 58125, Predicted: 59819.36\n",
      "Actual: 2477, Predicted: 2598.92\n",
      "Actual: 55502, Predicted: 55502.0\n",
      "Actual: 53552, Predicted: 46244.0\n",
      "Actual: 4056, Predicted: 4928.69\n",
      "Actual: 3916, Predicted: 3911.73\n",
      "Actual: 4969, Predicted: 5197.02\n",
      "Actual: 53835, Predicted: 54806.04\n",
      "Actual: 3393, Predicted: 3393.0\n",
      "Actual: 52287, Predicted: 52287.0\n",
      "Actual: 5949, Predicted: 6572.4\n",
      "Actual: 11089, Predicted: 9589.13\n",
      "Actual: 8803, Predicted: 8803.0\n",
      "Actual: 5660, Predicted: 5783.38\n",
      "Actual: 6122, Predicted: 6217.46\n",
      "Actual: 8260, Predicted: 7941.79\n",
      "Actual: 45257, Predicted: 45257.0\n",
      "Actual: 14367, Predicted: 14795.58\n",
      "Actual: 2056, Predicted: 2056.0\n",
      "Actual: 6633, Predicted: 6642.47\n",
      "Actual: 56588, Predicted: 61709.84\n",
      "Actual: 2568, Predicted: 2568.0\n",
      "Actual: 7768, Predicted: 7869.1\n"
     ]
    }
   ],
   "source": [
    "i = 0\n",
    "for true_value, pred_value in zip(y_test, predictions):\n",
    "    print(f\"Actual: {true_value}, Predicted: {pred_value}\")\n",
    "    i+=1\n",
    "    if i == 100:\n",
    "        break"
   ]
  },
  {
   "cell_type": "code",
   "execution_count": 33,
   "metadata": {
    "colab": {
     "base_uri": "https://localhost:8080/"
    },
    "id": "mVqfNwBtDQB4",
    "outputId": "cdde4b00-e173-4bf0-cf24-bbafbf9d62f3"
   },
   "outputs": [
    {
     "data": {
      "text/plain": [
       "array([2.65714204e-02, 2.02045330e-03, 8.84339222e-01, 4.61735881e-02,\n",
       "       1.66083012e-02, 4.32185905e-04, 8.24252083e-04, 4.67178820e-05,\n",
       "       2.78850624e-05, 2.20640598e-05, 4.07632303e-04, 7.90525008e-04,\n",
       "       4.18272213e-04, 6.67587375e-04, 7.74413313e-06, 7.41681679e-04,\n",
       "       5.34947527e-04, 6.03922093e-04, 1.30281852e-04, 8.23377681e-04,\n",
       "       1.33760129e-04, 3.37350933e-04, 7.80359206e-04, 1.03319089e-03,\n",
       "       5.59476522e-04, 1.80123141e-03, 8.11920304e-04, 5.05976992e-04,\n",
       "       1.03315059e-03, 1.89617328e-03, 1.13920830e-03, 2.24277235e-03,\n",
       "       2.70966791e-03, 1.79127532e-03, 1.03242346e-03])"
      ]
     },
     "execution_count": 33,
     "metadata": {},
     "output_type": "execute_result"
    }
   ],
   "source": [
    "regr.feature_importances_"
   ]
  },
  {
   "cell_type": "code",
   "execution_count": 34,
   "metadata": {
    "colab": {
     "base_uri": "https://localhost:8080/"
    },
    "id": "lphjEmGkD61d",
    "outputId": "05f58e84-835e-48c2-efad-4d3124039a24"
   },
   "outputs": [
    {
     "data": {
      "text/plain": [
       "Index(['flight', 'stops', 'class', 'duration', 'days_left', 'airline_AirAsia',\n",
       "       'airline_Air_India', 'airline_GO_FIRST', 'airline_Indigo',\n",
       "       'airline_SpiceJet', 'airline_Vistara', 'departure_time_Afternoon',\n",
       "       'departure_time_Early_Morning', 'departure_time_Evening',\n",
       "       'departure_time_Late_Night', 'departure_time_Morning',\n",
       "       'departure_time_Night', 'arrival_time_Afternoon',\n",
       "       'arrival_time_Early_Morning', 'arrival_time_Evening',\n",
       "       'arrival_time_Late_Night', 'arrival_time_Morning', 'arrival_time_Night',\n",
       "       'source_city_Bangalore', 'source_city_Chennai', 'source_city_Delhi',\n",
       "       'source_city_Hyderabad', 'source_city_Kolkata', 'source_city_Mumbai',\n",
       "       'destination_city_Bangalore', 'destination_city_Chennai',\n",
       "       'destination_city_Delhi', 'destination_city_Hyderabad',\n",
       "       'destination_city_Kolkata', 'destination_city_Mumbai'],\n",
       "      dtype='object')"
      ]
     },
     "execution_count": 34,
     "metadata": {},
     "output_type": "execute_result"
    }
   ],
   "source": [
    "x_train.columns"
   ]
  },
  {
   "cell_type": "code",
   "execution_count": 35,
   "metadata": {
    "colab": {
     "base_uri": "https://localhost:8080/",
     "height": 490
    },
    "id": "UbZxqmnCHjDJ",
    "outputId": "ae4ae459-ced1-43c6-c342-7f2ccb649891"
   },
   "outputs": [
    {
     "name": "stderr",
     "output_type": "stream",
     "text": [
      "No artists with labels found to put in legend.  Note that artists whose label start with an underscore are ignored when legend() is called with no argument.\n"
     ]
    },
    {
     "data": {
      "image/png": "[encoded data removed]",
      "text/plain": [
       "<Figure size 640x480 with 1 Axes>"
      ]
     },
     "metadata": {},
     "output_type": "display_data"
    }
   ],
   "source": [
    "# Plotting the predicted values and actual values\n",
    "plt.scatter(y_test,predictions)\n",
    "\n",
    "\n",
    "# Customizing the plot\n",
    "plt.title(\"Predicted vs Actual\")\n",
    "plt.xlabel(\"y_test\")\n",
    "plt.ylabel(\"predictions\")\n",
    "plt.legend()\n",
    "\n",
    "# Displaying the plot\n",
    "plt.show()"
   ]
  },
  {
   "cell_type": "code",
   "execution_count": null,
   "metadata": {
    "id": "3JuPykzPEuJm"
   },
   "outputs": [],
   "source": []
  },
  {
   "cell_type": "code",
   "execution_count": null,
   "metadata": {
    "id": "mvrxkIxTEtw0"
   },
   "outputs": [],
   "source": []
  },
  {
   "cell_type": "code",
   "execution_count": null,
   "metadata": {
    "id": "v_xyXNrCEtmf"
   },
   "outputs": [],
   "source": []
  },
  {
   "cell_type": "markdown",
   "metadata": {
    "id": "aDvOXAW4EtcY"
   },
   "source": [
    "# feature importances"
   ]
  },
  {
   "cell_type": "code",
   "execution_count": 36,
   "metadata": {
    "colab": {
     "base_uri": "https://localhost:8080/",
     "height": 472
    },
    "id": "geh7Krb-QAYV",
    "outputId": "e8f58644-735b-448e-fe4c-ba3658b92c0e"
   },
   "outputs": [
    {
     "data": {
      "image/png": "[encoded data removed]",
      "text/plain": [
       "<Figure size 640x480 with 1 Axes>"
      ]
     },
     "metadata": {},
     "output_type": "display_data"
    }
   ],
   "source": [
    "import matplotlib.pyplot as plt\n",
    "\n",
    "\n",
    "# plot feature importances\n",
    "feat_importances = pd.Series(regr.feature_importances_, index=x_train.columns)\n",
    "feat_importances.nlargest(4).plot(kind='barh', color=['#7fcdbb','#41b6c4','#1d91c0','#225ea8','#253494','#081d58','#fc8d59','#ef6548','#d73027','#990000'])\n",
    "\n",
    "# customize plot\n",
    "plt.title('Feature Importances')\n",
    "plt.xlabel('Relative Importance')\n",
    "plt.ylabel('Features')\n",
    "plt.show()"
   ]
  },
  {
   "cell_type": "code",
   "execution_count": null,
   "metadata": {
    "id": "n5TYEg7wE1tD"
   },
   "outputs": [],
   "source": []
  },
  {
   "cell_type": "code",
   "execution_count": null,
   "metadata": {
    "colab": {
     "base_uri": "https://localhost:8080/"
    },
    "id": "17YCxxbeE1lk",
    "outputId": "5b74a69c-65db-4d7f-dcb8-cbe1739f1189"
   },
   "outputs": [
    {
     "data": {
      "text/plain": [
       "Index(['airline', 'flight', 'source_city', 'departure_time', 'stops',\n",
       "       'arrival_time', 'destination_city', 'class', 'duration', 'days_left',\n",
       "       'price', 'travel_route'],\n",
       "      dtype='object')"
      ]
     },
     "execution_count": 21,
     "metadata": {},
     "output_type": "execute_result"
    }
   ],
   "source": [
    "df.columns"
   ]
  },
  {
   "cell_type": "code",
   "execution_count": null,
   "metadata": {
    "id": "U0MNtbcRERBG"
   },
   "outputs": [],
   "source": [
    "#removing colums which are not more impact in previous model \n",
    "df_f_drop =df.drop(['airline', 'flight', 'source_city', 'departure_time', 'stops',\n",
    "       'arrival_time', 'destination_city','travel_route'],axis=1)"
   ]
  },
  {
   "cell_type": "code",
   "execution_count": null,
   "metadata": {
    "colab": {
     "base_uri": "https://localhost:8080/",
     "height": 423
    },
    "id": "vGjatL_4Eow7",
    "outputId": "64679ca6-a2cb-45b5-faf2-0afb43919e43"
   },
   "outputs": [
    {
     "data": {
      "text/html": [
       "\n",
       "  <div id=\"df-5e8454fe-d451-4754-9397-4e7d1c894566\">\n",
       "    <div class=\"colab-df-container\">\n",
       "      <div>\n",
       "<style scoped>\n",
       "    .dataframe tbody tr th:only-of-type {\n",
       "        vertical-align: middle;\n",
       "    }\n",
       "\n",
       "    .dataframe tbody tr th {\n",
       "        vertical-align: top;\n",
       "    }\n",
       "\n",
       "    .dataframe thead th {\n",
       "        text-align: right;\n",
       "    }\n",
       "</style>\n",
       "<table border=\"1\" class=\"dataframe\">\n",
       "  <thead>\n",
       "    <tr style=\"text-align: right;\">\n",
       "      <th></th>\n",
       "      <th>class</th>\n",
       "      <th>duration</th>\n",
       "      <th>days_left</th>\n",
       "      <th>price</th>\n",
       "    </tr>\n",
       "  </thead>\n",
       "  <tbody>\n",
       "    <tr>\n",
       "      <th>0</th>\n",
       "      <td>0</td>\n",
       "      <td>2.17</td>\n",
       "      <td>1</td>\n",
       "      <td>5953</td>\n",
       "    </tr>\n",
       "    <tr>\n",
       "      <th>1</th>\n",
       "      <td>0</td>\n",
       "      <td>2.33</td>\n",
       "      <td>1</td>\n",
       "      <td>5953</td>\n",
       "    </tr>\n",
       "    <tr>\n",
       "      <th>2</th>\n",
       "      <td>0</td>\n",
       "      <td>2.17</td>\n",
       "      <td>1</td>\n",
       "      <td>5956</td>\n",
       "    </tr>\n",
       "    <tr>\n",
       "      <th>3</th>\n",
       "      <td>0</td>\n",
       "      <td>2.25</td>\n",
       "      <td>1</td>\n",
       "      <td>5955</td>\n",
       "    </tr>\n",
       "    <tr>\n",
       "      <th>4</th>\n",
       "      <td>0</td>\n",
       "      <td>2.33</td>\n",
       "      <td>1</td>\n",
       "      <td>5955</td>\n",
       "    </tr>\n",
       "    <tr>\n",
       "      <th>...</th>\n",
       "      <td>...</td>\n",
       "      <td>...</td>\n",
       "      <td>...</td>\n",
       "      <td>...</td>\n",
       "    </tr>\n",
       "    <tr>\n",
       "      <th>300139</th>\n",
       "      <td>1</td>\n",
       "      <td>10.08</td>\n",
       "      <td>49</td>\n",
       "      <td>69265</td>\n",
       "    </tr>\n",
       "    <tr>\n",
       "      <th>300140</th>\n",
       "      <td>1</td>\n",
       "      <td>10.42</td>\n",
       "      <td>49</td>\n",
       "      <td>77105</td>\n",
       "    </tr>\n",
       "    <tr>\n",
       "      <th>300141</th>\n",
       "      <td>1</td>\n",
       "      <td>13.83</td>\n",
       "      <td>49</td>\n",
       "      <td>79099</td>\n",
       "    </tr>\n",
       "    <tr>\n",
       "      <th>300142</th>\n",
       "      <td>1</td>\n",
       "      <td>10.00</td>\n",
       "      <td>49</td>\n",
       "      <td>81585</td>\n",
       "    </tr>\n",
       "    <tr>\n",
       "      <th>300143</th>\n",
       "      <td>1</td>\n",
       "      <td>10.08</td>\n",
       "      <td>49</td>\n",
       "      <td>81585</td>\n",
       "    </tr>\n",
       "  </tbody>\n",
       "</table>\n",
       "<p>300144 rows × 4 columns</p>\n",
       "</div>\n",
       "      <button class=\"colab-df-convert\" onclick=\"convertToInteractive('df-5e8454fe-d451-4754-9397-4e7d1c894566')\"\n",
       "              title=\"Convert this dataframe to an interactive table.\"\n",
       "              style=\"display:none;\">\n",
       "        \n",
       "  <svg xmlns=\"http://www.w3.org/2000/svg\" height=\"24px\"viewBox=\"0 0 24 24\"\n",
       "       width=\"24px\">\n",
       "    <path d=\"M0 0h24v24H0V0z\" fill=\"none\"/>\n",
       "    <path d=\"M18.56 5.44l.94 2.06.94-2.06 2.06-.94-2.06-.94-.94-2.06-.94 2.06-2.06.94zm-11 1L8.5 8.5l.94-2.06 2.06-.94-2.06-.94L8.5 2.5l-.94 2.06-2.06.94zm10 10l.94 2.06.94-2.06 2.06-.94-2.06-.94-.94-2.06-.94 2.06-2.06.94z\"/><path d=\"M17.41 7.96l-1.37-1.37c-.4-.4-.92-.59-1.43-.59-.52 0-1.04.2-1.43.59L10.3 9.45l-7.72 7.72c-.78.78-.78 2.05 0 2.83L4 21.41c.39.39.9.59 1.41.59.51 0 1.02-.2 1.41-.59l7.78-7.78 2.81-2.81c.8-.78.8-2.07 0-2.86zM5.41 20L4 18.59l7.72-7.72 1.47 1.35L5.41 20z\"/>\n",
       "  </svg>\n",
       "      </button>\n",
       "      \n",
       "  <style>\n",
       "    .colab-df-container {\n",
       "      display:flex;\n",
       "      flex-wrap:wrap;\n",
       "      gap: 12px;\n",
       "    }\n",
       "\n",
       "    .colab-df-convert {\n",
       "      background-color: #E8F0FE;\n",
       "      border: none;\n",
       "      border-radius: 50%;\n",
       "      cursor: pointer;\n",
       "      display: none;\n",
       "      fill: #1967D2;\n",
       "      height: 32px;\n",
       "      padding: 0 0 0 0;\n",
       "      width: 32px;\n",
       "    }\n",
       "\n",
       "    .colab-df-convert:hover {\n",
       "      background-color: #E2EBFA;\n",
       "      box-shadow: 0px 1px 2px rgba(60, 64, 67, 0.3), 0px 1px 3px 1px rgba(60, 64, 67, 0.15);\n",
       "      fill: #174EA6;\n",
       "    }\n",
       "\n",
       "    [theme=dark] .colab-df-convert {\n",
       "      background-color: #3B4455;\n",
       "      fill: #D2E3FC;\n",
       "    }\n",
       "\n",
       "    [theme=dark] .colab-df-convert:hover {\n",
       "      background-color: #434B5C;\n",
       "      box-shadow: 0px 1px 3px 1px rgba(0, 0, 0, 0.15);\n",
       "      filter: drop-shadow(0px 1px 2px rgba(0, 0, 0, 0.3));\n",
       "      fill: #FFFFFF;\n",
       "    }\n",
       "  </style>\n",
       "\n",
       "      <script>\n",
       "        const buttonEl =\n",
       "          document.querySelector('#df-5e8454fe-d451-4754-9397-4e7d1c894566 button.colab-df-convert');\n",
       "        buttonEl.style.display =\n",
       "          google.colab.kernel.accessAllowed ? 'block' : 'none';\n",
       "\n",
       "        async function convertToInteractive(key) {\n",
       "          const element = document.querySelector('#df-5e8454fe-d451-4754-9397-4e7d1c894566');\n",
       "          const dataTable =\n",
       "            await google.colab.kernel.invokeFunction('convertToInteractive',\n",
       "                                                     [key], {});\n",
       "          if (!dataTable) return;\n",
       "\n",
       "          const docLinkHtml = 'Like what you see? Visit the ' +\n",
       "            '<a target=\"_blank\" href=https://colab.research.google.com/notebooks/data_table.ipynb>data table notebook</a>'\n",
       "            + ' to learn more about interactive tables.';\n",
       "          element.innerHTML = '';\n",
       "          dataTable['output_type'] = 'display_data';\n",
       "          await google.colab.output.renderOutput(dataTable, element);\n",
       "          const docLink = document.createElement('div');\n",
       "          docLink.innerHTML = docLinkHtml;\n",
       "          element.appendChild(docLink);\n",
       "        }\n",
       "      </script>\n",
       "    </div>\n",
       "  </div>\n",
       "  "
      ],
      "text/plain": [
       "        class  duration  days_left  price\n",
       "0           0      2.17          1   5953\n",
       "1           0      2.33          1   5953\n",
       "2           0      2.17          1   5956\n",
       "3           0      2.25          1   5955\n",
       "4           0      2.33          1   5955\n",
       "...       ...       ...        ...    ...\n",
       "300139      1     10.08         49  69265\n",
       "300140      1     10.42         49  77105\n",
       "300141      1     13.83         49  79099\n",
       "300142      1     10.00         49  81585\n",
       "300143      1     10.08         49  81585\n",
       "\n",
       "[300144 rows x 4 columns]"
      ]
     },
     "execution_count": 23,
     "metadata": {},
     "output_type": "execute_result"
    }
   ],
   "source": [
    "df_f_drop"
   ]
  },
  {
   "cell_type": "code",
   "execution_count": null,
   "metadata": {
    "id": "Oc_mDe-7FHSq"
   },
   "outputs": [],
   "source": [
    "#create x and y where x are features for the model and y as target\n",
    "x_f_drop = df_f_drop.drop('price',axis=1)\n",
    "y_f_drop = df_f_drop['price']"
   ]
  },
  {
   "cell_type": "code",
   "execution_count": null,
   "metadata": {
    "colab": {
     "base_uri": "https://localhost:8080/"
    },
    "id": "_3kqoK8iFbfw",
    "outputId": "28ee2ee7-db93-45fc-a4d4-8414dfb495de"
   },
   "outputs": [
    {
     "name": "stdout",
     "output_type": "stream",
     "text": [
      "x_train shape:- (210100, 3)\n",
      "x_test shape:- (90044, 3)\n",
      "y_train shape:- (210100,)\n",
      "y_test shape:- (90044,)\n",
      "model name :- random forest regression\n",
      "score on the testing data :- 0.9214925738253971\n",
      "score on the training data :- 0.946955226156108\n",
      "MAE:- 3757.4095884538788\n",
      "MSE:- 40407338.48294312\n",
      "RMSE:- 6356.676685418499\n",
      "r2 0.9214925738253971\n"
     ]
    }
   ],
   "source": [
    "#use sklearn train test spilt for spilt our data in parts like training data and testing data \n",
    "from sklearn.model_selection import train_test_split\n",
    "\n",
    "x_train, x_test, y_train, y_test = train_test_split(x_f_drop,y_f_drop,test_size=0.3, random_state =101, shuffle=True)\n",
    "\n",
    "#print shape of x train,y train, x test and y test \n",
    "print('x_train shape:-',x_train.shape)\n",
    "print('x_test shape:-',x_test.shape)\n",
    "print('y_train shape:-',y_train.shape)\n",
    "print('y_test shape:-',y_test.shape)\n",
    "\n",
    "\n",
    "#import model from sklearn\n",
    "from sklearn.ensemble import RandomForestRegressor\n",
    "print('model name :- random forest regression')\n",
    "\n",
    "regr = RandomForestRegressor(random_state=123)\n",
    "\n",
    "#training model input as x_train and y_tarin\n",
    "regr.fit(x_train,y_train)\n",
    "\n",
    "print('score on the testing data :-',regr.score(x_test,y_test))\n",
    "print('score on the training data :-',regr.score(x_train,y_train))\n",
    "\n",
    "#finding error methods \n",
    "from sklearn import metrics\n",
    "\n",
    "#model is creted show give x test data as input and retuen predictd data \n",
    "predictions = regr.predict(x_test)\n",
    "\n",
    "#MAE\n",
    "print('MAE:-',metrics.mean_absolute_error(y_test,predictions))\n",
    "\n",
    "#MSE\n",
    "print('MSE:-',metrics.mean_squared_error(y_test,predictions))\n",
    "\n",
    "#RMSE\n",
    "print('RMSE:-',np.sqrt(metrics.mean_squared_error(y_test,predictions)))\n",
    "\n",
    "#r2\n",
    "print(\"r2\",r2_score(y_test, predictions))\n"
   ]
  },
  {
   "cell_type": "code",
   "execution_count": null,
   "metadata": {
    "id": "RYvPVdsaFhww"
   },
   "outputs": [],
   "source": []
  }
 ],
 "metadata": {
  "colab": {
   "provenance": []
  },
  "kernelspec": {
   "display_name": "Python 3 (ipykernel)",
   "language": "python",
   "name": "python3"
  },
  "language_info": {
   "codemirror_mode": {
    "name": "ipython",
    "version": 3
   },
   "file_extension": ".py",
   "mimetype": "text/x-python",
   "name": "python",
   "nbconvert_exporter": "python",
   "pygments_lexer": "ipython3",
   "version": "3.9.13"
  }
 },
 "nbformat": 4,
 "nbformat_minor": 1
}
