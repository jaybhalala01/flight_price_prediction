{
 "cells": [
  {
   "cell_type": "code",
   "execution_count": 49,
   "id": "4fead61a",
   "metadata": {},
   "outputs": [],
   "source": [
    "import os\n",
    "import pickle\n",
    "import pandas as pd \n",
    "import numpy as np\n",
    "import matplotlib.pyplot  as plt\n",
    "import seaborn as sn\n",
    "%matplotlib inline\n",
    "import pandas as pd\n",
    "from sklearn.model_selection import ShuffleSplit\n",
    "from sklearn.metrics import mean_squared_error, mean_absolute_error, r2_score\n",
    "from sklearn.model_selection import GridSearchCV\n",
    "from sklearn.linear_model import LinearRegression\n",
    "from sklearn.svm import SVR\n",
    "from sklearn.tree import DecisionTreeRegressor\n",
    "from sklearn.ensemble import RandomForestRegressor\n",
    "from sklearn import metrics\n",
    "from sklearn.model_selection import train_test_split\n",
    "from tabulate import tabulate\n",
    "from sklearn.preprocessing import LabelEncoder"
   ]
  },
  {
   "cell_type": "code",
   "execution_count": 50,
   "id": "493854f9",
   "metadata": {},
   "outputs": [],
   "source": [
    "df = pd.read_csv(\"/home/growlt199/Downloads/manufacturing_project/data/flight_processed_data.csv\",index_col=0)"
   ]
  },
  {
   "cell_type": "code",
   "execution_count": 51,
   "id": "66004a1c",
   "metadata": {},
   "outputs": [
    {
     "data": {
      "text/html": [
       "<div>\n",
       "<style scoped>\n",
       "    .dataframe tbody tr th:only-of-type {\n",
       "        vertical-align: middle;\n",
       "    }\n",
       "\n",
       "    .dataframe tbody tr th {\n",
       "        vertical-align: top;\n",
       "    }\n",
       "\n",
       "    .dataframe thead th {\n",
       "        text-align: right;\n",
       "    }\n",
       "</style>\n",
       "<table border=\"1\" class=\"dataframe\">\n",
       "  <thead>\n",
       "    <tr style=\"text-align: right;\">\n",
       "      <th></th>\n",
       "      <th>airline</th>\n",
       "      <th>flight</th>\n",
       "      <th>source_city</th>\n",
       "      <th>departure_time</th>\n",
       "      <th>stops</th>\n",
       "      <th>arrival_time</th>\n",
       "      <th>destination_city</th>\n",
       "      <th>class</th>\n",
       "      <th>duration</th>\n",
       "      <th>days_left</th>\n",
       "      <th>price</th>\n",
       "    </tr>\n",
       "  </thead>\n",
       "  <tbody>\n",
       "    <tr>\n",
       "      <th>0</th>\n",
       "      <td>SpiceJet</td>\n",
       "      <td>SG-8709</td>\n",
       "      <td>Delhi</td>\n",
       "      <td>Evening</td>\n",
       "      <td>0</td>\n",
       "      <td>Night</td>\n",
       "      <td>Mumbai</td>\n",
       "      <td>0</td>\n",
       "      <td>2.17</td>\n",
       "      <td>1</td>\n",
       "      <td>5953</td>\n",
       "    </tr>\n",
       "    <tr>\n",
       "      <th>1</th>\n",
       "      <td>SpiceJet</td>\n",
       "      <td>SG-8157</td>\n",
       "      <td>Delhi</td>\n",
       "      <td>Early_Morning</td>\n",
       "      <td>0</td>\n",
       "      <td>Morning</td>\n",
       "      <td>Mumbai</td>\n",
       "      <td>0</td>\n",
       "      <td>2.33</td>\n",
       "      <td>1</td>\n",
       "      <td>5953</td>\n",
       "    </tr>\n",
       "    <tr>\n",
       "      <th>2</th>\n",
       "      <td>AirAsia</td>\n",
       "      <td>I5-764</td>\n",
       "      <td>Delhi</td>\n",
       "      <td>Early_Morning</td>\n",
       "      <td>0</td>\n",
       "      <td>Early_Morning</td>\n",
       "      <td>Mumbai</td>\n",
       "      <td>0</td>\n",
       "      <td>2.17</td>\n",
       "      <td>1</td>\n",
       "      <td>5956</td>\n",
       "    </tr>\n",
       "    <tr>\n",
       "      <th>3</th>\n",
       "      <td>Vistara</td>\n",
       "      <td>UK-995</td>\n",
       "      <td>Delhi</td>\n",
       "      <td>Morning</td>\n",
       "      <td>0</td>\n",
       "      <td>Afternoon</td>\n",
       "      <td>Mumbai</td>\n",
       "      <td>0</td>\n",
       "      <td>2.25</td>\n",
       "      <td>1</td>\n",
       "      <td>5955</td>\n",
       "    </tr>\n",
       "    <tr>\n",
       "      <th>4</th>\n",
       "      <td>Vistara</td>\n",
       "      <td>UK-963</td>\n",
       "      <td>Delhi</td>\n",
       "      <td>Morning</td>\n",
       "      <td>0</td>\n",
       "      <td>Morning</td>\n",
       "      <td>Mumbai</td>\n",
       "      <td>0</td>\n",
       "      <td>2.33</td>\n",
       "      <td>1</td>\n",
       "      <td>5955</td>\n",
       "    </tr>\n",
       "    <tr>\n",
       "      <th>...</th>\n",
       "      <td>...</td>\n",
       "      <td>...</td>\n",
       "      <td>...</td>\n",
       "      <td>...</td>\n",
       "      <td>...</td>\n",
       "      <td>...</td>\n",
       "      <td>...</td>\n",
       "      <td>...</td>\n",
       "      <td>...</td>\n",
       "      <td>...</td>\n",
       "      <td>...</td>\n",
       "    </tr>\n",
       "    <tr>\n",
       "      <th>300148</th>\n",
       "      <td>Vistara</td>\n",
       "      <td>UK-822</td>\n",
       "      <td>Chennai</td>\n",
       "      <td>Morning</td>\n",
       "      <td>1</td>\n",
       "      <td>Evening</td>\n",
       "      <td>Hyderabad</td>\n",
       "      <td>1</td>\n",
       "      <td>10.08</td>\n",
       "      <td>49</td>\n",
       "      <td>69265</td>\n",
       "    </tr>\n",
       "    <tr>\n",
       "      <th>300149</th>\n",
       "      <td>Vistara</td>\n",
       "      <td>UK-826</td>\n",
       "      <td>Chennai</td>\n",
       "      <td>Afternoon</td>\n",
       "      <td>1</td>\n",
       "      <td>Night</td>\n",
       "      <td>Hyderabad</td>\n",
       "      <td>1</td>\n",
       "      <td>10.42</td>\n",
       "      <td>49</td>\n",
       "      <td>77105</td>\n",
       "    </tr>\n",
       "    <tr>\n",
       "      <th>300150</th>\n",
       "      <td>Vistara</td>\n",
       "      <td>UK-832</td>\n",
       "      <td>Chennai</td>\n",
       "      <td>Early_Morning</td>\n",
       "      <td>1</td>\n",
       "      <td>Night</td>\n",
       "      <td>Hyderabad</td>\n",
       "      <td>1</td>\n",
       "      <td>13.83</td>\n",
       "      <td>49</td>\n",
       "      <td>79099</td>\n",
       "    </tr>\n",
       "    <tr>\n",
       "      <th>300151</th>\n",
       "      <td>Vistara</td>\n",
       "      <td>UK-828</td>\n",
       "      <td>Chennai</td>\n",
       "      <td>Early_Morning</td>\n",
       "      <td>1</td>\n",
       "      <td>Evening</td>\n",
       "      <td>Hyderabad</td>\n",
       "      <td>1</td>\n",
       "      <td>10.00</td>\n",
       "      <td>49</td>\n",
       "      <td>81585</td>\n",
       "    </tr>\n",
       "    <tr>\n",
       "      <th>300152</th>\n",
       "      <td>Vistara</td>\n",
       "      <td>UK-822</td>\n",
       "      <td>Chennai</td>\n",
       "      <td>Morning</td>\n",
       "      <td>1</td>\n",
       "      <td>Evening</td>\n",
       "      <td>Hyderabad</td>\n",
       "      <td>1</td>\n",
       "      <td>10.08</td>\n",
       "      <td>49</td>\n",
       "      <td>81585</td>\n",
       "    </tr>\n",
       "  </tbody>\n",
       "</table>\n",
       "<p>298829 rows × 11 columns</p>\n",
       "</div>"
      ],
      "text/plain": [
       "         airline   flight source_city departure_time  stops   arrival_time  \\\n",
       "0       SpiceJet  SG-8709       Delhi        Evening      0          Night   \n",
       "1       SpiceJet  SG-8157       Delhi  Early_Morning      0        Morning   \n",
       "2        AirAsia   I5-764       Delhi  Early_Morning      0  Early_Morning   \n",
       "3        Vistara   UK-995       Delhi        Morning      0      Afternoon   \n",
       "4        Vistara   UK-963       Delhi        Morning      0        Morning   \n",
       "...          ...      ...         ...            ...    ...            ...   \n",
       "300148   Vistara   UK-822     Chennai        Morning      1        Evening   \n",
       "300149   Vistara   UK-826     Chennai      Afternoon      1          Night   \n",
       "300150   Vistara   UK-832     Chennai  Early_Morning      1          Night   \n",
       "300151   Vistara   UK-828     Chennai  Early_Morning      1        Evening   \n",
       "300152   Vistara   UK-822     Chennai        Morning      1        Evening   \n",
       "\n",
       "       destination_city  class  duration  days_left  price  \n",
       "0                Mumbai      0      2.17          1   5953  \n",
       "1                Mumbai      0      2.33          1   5953  \n",
       "2                Mumbai      0      2.17          1   5956  \n",
       "3                Mumbai      0      2.25          1   5955  \n",
       "4                Mumbai      0      2.33          1   5955  \n",
       "...                 ...    ...       ...        ...    ...  \n",
       "300148        Hyderabad      1     10.08         49  69265  \n",
       "300149        Hyderabad      1     10.42         49  77105  \n",
       "300150        Hyderabad      1     13.83         49  79099  \n",
       "300151        Hyderabad      1     10.00         49  81585  \n",
       "300152        Hyderabad      1     10.08         49  81585  \n",
       "\n",
       "[298829 rows x 11 columns]"
      ]
     },
     "execution_count": 51,
     "metadata": {},
     "output_type": "execute_result"
    }
   ],
   "source": [
    "df"
   ]
  },
  {
   "cell_type": "code",
   "execution_count": 52,
   "id": "e8b950e0",
   "metadata": {},
   "outputs": [],
   "source": [
    "#done label encoding in flight column\n",
    "label_encoder = LabelEncoder()\n",
    "df['flight'] = label_encoder.fit_transform(df['flight'])"
   ]
  },
  {
   "cell_type": "code",
   "execution_count": 53,
   "id": "66c03b29",
   "metadata": {},
   "outputs": [
    {
     "data": {
      "text/html": [
       "<div>\n",
       "<style scoped>\n",
       "    .dataframe tbody tr th:only-of-type {\n",
       "        vertical-align: middle;\n",
       "    }\n",
       "\n",
       "    .dataframe tbody tr th {\n",
       "        vertical-align: top;\n",
       "    }\n",
       "\n",
       "    .dataframe thead th {\n",
       "        text-align: right;\n",
       "    }\n",
       "</style>\n",
       "<table border=\"1\" class=\"dataframe\">\n",
       "  <thead>\n",
       "    <tr style=\"text-align: right;\">\n",
       "      <th></th>\n",
       "      <th>airline</th>\n",
       "      <th>flight</th>\n",
       "      <th>source_city</th>\n",
       "      <th>departure_time</th>\n",
       "      <th>stops</th>\n",
       "      <th>arrival_time</th>\n",
       "      <th>destination_city</th>\n",
       "      <th>class</th>\n",
       "      <th>duration</th>\n",
       "      <th>days_left</th>\n",
       "      <th>price</th>\n",
       "    </tr>\n",
       "  </thead>\n",
       "  <tbody>\n",
       "    <tr>\n",
       "      <th>0</th>\n",
       "      <td>SpiceJet</td>\n",
       "      <td>1408</td>\n",
       "      <td>Delhi</td>\n",
       "      <td>Evening</td>\n",
       "      <td>0</td>\n",
       "      <td>Night</td>\n",
       "      <td>Mumbai</td>\n",
       "      <td>0</td>\n",
       "      <td>2.17</td>\n",
       "      <td>1</td>\n",
       "      <td>5953</td>\n",
       "    </tr>\n",
       "    <tr>\n",
       "      <th>1</th>\n",
       "      <td>SpiceJet</td>\n",
       "      <td>1387</td>\n",
       "      <td>Delhi</td>\n",
       "      <td>Early_Morning</td>\n",
       "      <td>0</td>\n",
       "      <td>Morning</td>\n",
       "      <td>Mumbai</td>\n",
       "      <td>0</td>\n",
       "      <td>2.33</td>\n",
       "      <td>1</td>\n",
       "      <td>5953</td>\n",
       "    </tr>\n",
       "    <tr>\n",
       "      <th>2</th>\n",
       "      <td>AirAsia</td>\n",
       "      <td>1213</td>\n",
       "      <td>Delhi</td>\n",
       "      <td>Early_Morning</td>\n",
       "      <td>0</td>\n",
       "      <td>Early_Morning</td>\n",
       "      <td>Mumbai</td>\n",
       "      <td>0</td>\n",
       "      <td>2.17</td>\n",
       "      <td>1</td>\n",
       "      <td>5956</td>\n",
       "    </tr>\n",
       "    <tr>\n",
       "      <th>3</th>\n",
       "      <td>Vistara</td>\n",
       "      <td>1559</td>\n",
       "      <td>Delhi</td>\n",
       "      <td>Morning</td>\n",
       "      <td>0</td>\n",
       "      <td>Afternoon</td>\n",
       "      <td>Mumbai</td>\n",
       "      <td>0</td>\n",
       "      <td>2.25</td>\n",
       "      <td>1</td>\n",
       "      <td>5955</td>\n",
       "    </tr>\n",
       "    <tr>\n",
       "      <th>4</th>\n",
       "      <td>Vistara</td>\n",
       "      <td>1549</td>\n",
       "      <td>Delhi</td>\n",
       "      <td>Morning</td>\n",
       "      <td>0</td>\n",
       "      <td>Morning</td>\n",
       "      <td>Mumbai</td>\n",
       "      <td>0</td>\n",
       "      <td>2.33</td>\n",
       "      <td>1</td>\n",
       "      <td>5955</td>\n",
       "    </tr>\n",
       "  </tbody>\n",
       "</table>\n",
       "</div>"
      ],
      "text/plain": [
       "    airline  flight source_city departure_time  stops   arrival_time  \\\n",
       "0  SpiceJet    1408       Delhi        Evening      0          Night   \n",
       "1  SpiceJet    1387       Delhi  Early_Morning      0        Morning   \n",
       "2   AirAsia    1213       Delhi  Early_Morning      0  Early_Morning   \n",
       "3   Vistara    1559       Delhi        Morning      0      Afternoon   \n",
       "4   Vistara    1549       Delhi        Morning      0        Morning   \n",
       "\n",
       "  destination_city  class  duration  days_left  price  \n",
       "0           Mumbai      0      2.17          1   5953  \n",
       "1           Mumbai      0      2.33          1   5953  \n",
       "2           Mumbai      0      2.17          1   5956  \n",
       "3           Mumbai      0      2.25          1   5955  \n",
       "4           Mumbai      0      2.33          1   5955  "
      ]
     },
     "execution_count": 53,
     "metadata": {},
     "output_type": "execute_result"
    }
   ],
   "source": [
    "df.head()"
   ]
  },
  {
   "cell_type": "code",
   "execution_count": 54,
   "id": "82e42af0",
   "metadata": {},
   "outputs": [],
   "source": [
    "def data_to_one_hot(df):\n",
    "    # get dummy variables for multiple columns\n",
    "    dummy_cols = ['airline', 'departure_time','arrival_time','source_city','destination_city']\n",
    "    df1_dummy = pd.get_dummies(df[dummy_cols])\n",
    "\n",
    "    # concatenate original DataFrame with dummy variable DataFrame\n",
    "    df1_concat = pd.concat([df.drop(dummy_cols, axis=1), df1_dummy], axis=1)\n",
    "    \n",
    "    # display result\n",
    "    return df1_concat"
   ]
  },
  {
   "cell_type": "code",
   "execution_count": 55,
   "id": "abb7c910",
   "metadata": {},
   "outputs": [],
   "source": [
    "def data_label_encoding(df):\n",
    "    from sklearn.preprocessing import LabelEncoder\n",
    "\n",
    "    # Create an instance of LabelEncoder\n",
    "    label_encoder = LabelEncoder()\n",
    "\n",
    "    # Specify the list of categorical columns to encode\n",
    "    categorical_columns = ['airline', 'departure_time','arrival_time','source_city','destination_city']\n",
    "\n",
    "    # Apply label encoding to each categorical column\n",
    "    for column in categorical_columns:\n",
    "        df[column] = label_encoder.fit_transform(df[column])\n",
    "    \n",
    "    return df"
   ]
  },
  {
   "cell_type": "code",
   "execution_count": 56,
   "id": "e2258be5",
   "metadata": {},
   "outputs": [],
   "source": [
    "def spilt_data(train_data,test_data):\n",
    "    #create x and y where x are features for the model and y as target\n",
    "    x_train = train_data.drop('price',axis=1)\n",
    "    y_train = train_data['price']\n",
    "\n",
    "    #for test data, create x and y where x are features for the model and y as target\n",
    "    x_test = test_data.drop('price',axis=1)\n",
    "    y_test = test_data['price']\n",
    "    \n",
    "    return x_train,y_train,x_test,y_test"
   ]
  },
  {
   "cell_type": "code",
   "execution_count": 57,
   "id": "456387a5",
   "metadata": {},
   "outputs": [],
   "source": [
    "def spilt_inti_x_y(data):\n",
    "    \n",
    "    #for test data, create x and y where x are features for the model and y as target\n",
    "    x = test_data.drop('price',axis=1)\n",
    "    y = test_data['price']\n",
    "    return x,y"
   ]
  },
  {
   "cell_type": "code",
   "execution_count": 58,
   "id": "67b7ceb6",
   "metadata": {},
   "outputs": [],
   "source": [
    "def divide_into_train_test(data,part):\n",
    "    \n",
    "    # Split the data into training and testing sets\n",
    "    train_data, test_data = train_test_split(data, test_size=part, random_state=123)\n",
    "    return train_data,test_data"
   ]
  },
  {
   "cell_type": "code",
   "execution_count": 59,
   "id": "04028b01",
   "metadata": {},
   "outputs": [],
   "source": [
    "def model_random_forest(x_train,y_train,x_test,y_test):\n",
    "\n",
    "    import time\n",
    "\n",
    "    start_time = time.time()\n",
    "    \n",
    "    #model \n",
    "    regr = RandomForestRegressor(random_state=123)\n",
    "\n",
    "    #training model input as x_train and y_tarin\n",
    "    regr.fit(x_train,y_train)\n",
    "\n",
    "    #model is creted show give x test data as input and retuen predictd data \n",
    "    predictions = regr.predict(x_test)\n",
    "   \n",
    "    '''\n",
    "     #MAE\n",
    "    print('MAE:-',metrics.mean_absolute_error(y_test,predictions))\n",
    "\n",
    "    #MSE\n",
    "    print('MSE:-',metrics.mean_squared_error(y_test,predictions))\n",
    "\n",
    "    #RMSE\n",
    "    print('RMSE:-',np.sqrt(metrics.mean_squared_error(y_test,predictions)))\n",
    "\n",
    "    #r2\n",
    "    print(\"r2\",r2_score(y_test, predictions))\n",
    "    '''\n",
    "    \n",
    "    # evaluation\n",
    "    data = [\n",
    "        [\"MAE\",metrics.mean_absolute_error(y_test,predictions)],\n",
    "        [\"MSE\",metrics.mean_squared_error(y_test,predictions)],\n",
    "        [\"RMSE\",np.sqrt(metrics.mean_squared_error(y_test,predictions))],\n",
    "        [\"r2\",r2_score(y_test, predictions)],\n",
    "        [\"explained_variance_score\",metrics.explained_variance_score(y_test, predictions)],\n",
    "        [\"max_error\",metrics.max_error(y_test, predictions)],\n",
    "        [\"mean_absolute_percentage_error\",metrics.mean_absolute_percentage_error(y_test, predictions)],\n",
    "        [\"mean_squared_log_error\",metrics.mean_squared_log_error(y_test, predictions)],\n",
    "        [\"mean_squared_log_error(squared=False)\",metrics.mean_squared_log_error(y_test, predictions, squared=False)]\n",
    "    ]\n",
    "\n",
    "    # Define the headers\n",
    "    headers = [\"metrics\", \"value\"]\n",
    "\n",
    "    # Display the data in a tabular format\n",
    "    table = tabulate(data, headers, tablefmt=\"grid\")\n",
    "    print(table)\n",
    "    \n",
    "    # Code or function to measure execution time\n",
    "    end_time = time.time()\n",
    "    execution_time = end_time - start_time\n",
    "    print(\"Execution time:\", execution_time, \"seconds\")\n",
    "    \n",
    "    return regr,predictions"
   ]
  },
  {
   "cell_type": "code",
   "execution_count": 60,
   "id": "c78f346f",
   "metadata": {},
   "outputs": [],
   "source": [
    "def model_into_pickle(model, filename):\n",
    "\n",
    "    # Create the directory if it doesn't exist\n",
    "    directory = os.path.dirname(filename)\n",
    "    if not os.path.exists(directory):\n",
    "        os.makedirs(directory)\n",
    "\n",
    "    # Save the model to the specified filename\n",
    "    with open(filename, 'wb') as file:\n",
    "        pickle.dump(model, file)"
   ]
  },
  {
   "cell_type": "code",
   "execution_count": 61,
   "id": "96675821",
   "metadata": {},
   "outputs": [],
   "source": [
    "def predict_with_model(data, model_path):\n",
    "    # Load the model from the pickle file\n",
    "    with open(model_path, 'rb') as file:\n",
    "        model = pickle.load(file)\n",
    "\n",
    "    # Make predictions on the new data\n",
    "    predictions = model.predict(data)\n",
    "    \n",
    "    return predictions"
   ]
  },
  {
   "cell_type": "code",
   "execution_count": 62,
   "id": "a679b076",
   "metadata": {},
   "outputs": [],
   "source": [
    "def testing_new_data(data,filename_1,filename_2,filename_3):\n",
    "    \n",
    "    #convert into one hot and label sncoding \n",
    "    data_1 = data_to_one_hot(data)\n",
    "    data_2 = data_label_encoding(data)\n",
    "    \n",
    "    # Make predictions on the new data\n",
    "    predictions_1 = predict_with_model(data_1, filename_1)\n",
    "    predictions_2 = predict_with_model(data_2, filename_2)\n",
    "    \n",
    "    # Stack the predictions horizontally\n",
    "    stacked_predictions = np.column_stack((predictions_1, predictions_2))\n",
    "\n",
    "    # Combine original features with stacked predictions\n",
    "    X_stacked = np.column_stack((data_1,data_2,stacked_predictions))\n",
    "    \n",
    "    final_prediction = predict_with_model(X_stacked, filename_3)\n",
    "    \n",
    "    return predictions_1,predictions_2,final_prediction"
   ]
  },
  {
   "cell_type": "code",
   "execution_count": 63,
   "id": "db85eacc",
   "metadata": {
    "scrolled": true
   },
   "outputs": [
    {
     "name": "stdout",
     "output_type": "stream",
     "text": [
      "-------------------------------model:1(one hot encoding)-------------------------------------\n",
      "\n",
      "+---------------------------------------+-----------------+\n",
      "| metrics                               |           value |\n",
      "+=======================================+=================+\n",
      "| MAE                                   |   843.009       |\n",
      "+---------------------------------------+-----------------+\n",
      "| MSE                                   |     4.76892e+06 |\n",
      "+---------------------------------------+-----------------+\n",
      "| RMSE                                  |  2183.79        |\n",
      "+---------------------------------------+-----------------+\n",
      "| r2                                    |     0.990572    |\n",
      "+---------------------------------------+-----------------+\n",
      "| explained_variance_score              |     0.990574    |\n",
      "+---------------------------------------+-----------------+\n",
      "| max_error                             | 43954.1         |\n",
      "+---------------------------------------+-----------------+\n",
      "| mean_absolute_percentage_error        |     0.0585716   |\n",
      "+---------------------------------------+-----------------+\n",
      "| mean_squared_log_error                |     0.0149314   |\n",
      "+---------------------------------------+-----------------+\n",
      "| mean_squared_log_error(squared=False) |     0.122194    |\n",
      "+---------------------------------------+-----------------+\n",
      "Execution time: 54.15907645225525 seconds\n",
      "\n",
      "-------------------------------model:2(label encoding)---------------------------------------\n",
      "\n",
      "+---------------------------------------+-----------------+\n",
      "| metrics                               |           value |\n",
      "+=======================================+=================+\n",
      "| MAE                                   |   862.487       |\n",
      "+---------------------------------------+-----------------+\n",
      "| MSE                                   |     4.97286e+06 |\n",
      "+---------------------------------------+-----------------+\n",
      "| RMSE                                  |  2229.99        |\n",
      "+---------------------------------------+-----------------+\n",
      "| r2                                    |     0.990169    |\n",
      "+---------------------------------------+-----------------+\n",
      "| explained_variance_score              |     0.990171    |\n",
      "+---------------------------------------+-----------------+\n",
      "| max_error                             | 42265.1         |\n",
      "+---------------------------------------+-----------------+\n",
      "| mean_absolute_percentage_error        |     0.0593654   |\n",
      "+---------------------------------------+-----------------+\n",
      "| mean_squared_log_error                |     0.0152116   |\n",
      "+---------------------------------------+-----------------+\n",
      "| mean_squared_log_error(squared=False) |     0.123335    |\n",
      "+---------------------------------------+-----------------+\n",
      "Execution time: 37.40294647216797 seconds\n",
      "\n"
     ]
    }
   ],
   "source": [
    "#final script\n",
    "\n",
    "#split data into two part where one is train main part and econd main test part\n",
    "#train_data,test_data = divide_into_train_test(df,0.15)\n",
    "\n",
    "#devide train data into data 1 and data 2 for one hot and klabel encoding\n",
    "data_1 = data_to_one_hot(df)\n",
    "data_2 = data_label_encoding(df)\n",
    "\n",
    "#divide data1 and data 2 into two part train and test\n",
    "train_data_1,test_data_1 = divide_into_train_test(data_1,0.30)\n",
    "train_data_2,test_data_2 = divide_into_train_test(data_2,0.30)\n",
    "\n",
    "#divide train test into fetures and target\n",
    "X_train_1,y_train_1,X_test_1,y_test_1=spilt_data(train_data_1,test_data_1)\n",
    "X_train_2,y_train_2,X_test_2,y_test_2=spilt_data(train_data_2,test_data_2)\n",
    "\n",
    "#model train part \n",
    "print('-------------------------------model:1(one hot encoding)-------------------------------------')\n",
    "print( )\n",
    "model_1,predictions_1 = model_random_forest(X_train_1,y_train_1,X_test_1,y_test_1)\n",
    "print( )\n",
    "print('-------------------------------model:2(label encoding)---------------------------------------')\n",
    "print( )\n",
    "model_2,predictions_2 = model_random_forest(X_train_2,y_train_2,X_test_2,y_test_2)\n",
    "print( )\n",
    "\n",
    "#dump in pickle file \n",
    "filename_1 = '/home/growlt199/Downloads/manufacturing_project/model_training/model_stacking/model_1_random_forest_regression.pkl'\n",
    "filename_2 = '/home/growlt199/Downloads/manufacturing_project/model_training/model_stacking/model_2_random_forest_regression.pkl'\n",
    "\n",
    "model_into_pickle(model_1,filename_1)\n",
    "model_into_pickle(model_2,filename_2)\n"
   ]
  },
  {
   "cell_type": "code",
   "execution_count": null,
   "id": "652d54b2",
   "metadata": {},
   "outputs": [],
   "source": []
  },
  {
   "cell_type": "code",
   "execution_count": null,
   "id": "760c3211",
   "metadata": {},
   "outputs": [],
   "source": []
  },
  {
   "cell_type": "markdown",
   "id": "c809a4e7",
   "metadata": {},
   "source": [
    "# model stacking model 3 is linear model to predict final prediction"
   ]
  },
  {
   "cell_type": "code",
   "execution_count": 31,
   "id": "35bc37c7",
   "metadata": {},
   "outputs": [
    {
     "name": "stdout",
     "output_type": "stream",
     "text": [
      "Coefficient for model 1: 0.7357045010006831\n",
      "Coefficient for model 2: 0.26276691960277654\n"
     ]
    }
   ],
   "source": [
    "import numpy as np\n",
    "from sklearn.linear_model import LinearRegression\n",
    "\n",
    "# Assuming you have the predictions from model 1 and model 2 as arrays: y_model1, y_model2\n",
    "# You can replace y_model1 and y_model2 with the actual prediction arrays from your models\n",
    "\n",
    "# Combine the predictions into a feature matrix X\n",
    "X = np.column_stack((model_1.predict(X_test_1), model_2.predict(X_test_2)))\n",
    "\n",
    "# Prepare the target variable\n",
    "# Assuming you have the actual prices as an array: y_actual\n",
    "# You can replace y_actual with the actual prices from your dataset\n",
    "y_actual = np.array(y_test_1)\n",
    "\n",
    "# Fit a linear regression model\n",
    "regression_model = LinearRegression()\n",
    "regression_model.fit(X, y_actual)\n",
    "\n",
    "# Get the coefficients for the equation\n",
    "coefficients = regression_model.coef_\n",
    "\n",
    "# Print the coefficients\n",
    "print(\"Coefficient for model 1:\", coefficients[0])\n",
    "print(\"Coefficient for model 2:\", coefficients[1])\n"
   ]
  },
  {
   "cell_type": "code",
   "execution_count": 32,
   "id": "7aaa8d35",
   "metadata": {},
   "outputs": [
    {
     "name": "stdout",
     "output_type": "stream",
     "text": [
      "+---------------------------------------+-----------------+\n",
      "| metrics                               |           value |\n",
      "+=======================================+=================+\n",
      "| MAE                                   |   846.014       |\n",
      "+---------------------------------------+-----------------+\n",
      "| MSE                                   |     4.73752e+06 |\n",
      "+---------------------------------------+-----------------+\n",
      "| RMSE                                  |  2176.58        |\n",
      "+---------------------------------------+-----------------+\n",
      "| r2                                    |     0.990635    |\n",
      "+---------------------------------------+-----------------+\n",
      "| explained_variance_score              |     0.990635    |\n",
      "+---------------------------------------+-----------------+\n",
      "| max_error                             | 43424.8         |\n",
      "+---------------------------------------+-----------------+\n",
      "| mean_absolute_percentage_error        |     0.058225    |\n",
      "+---------------------------------------+-----------------+\n",
      "| mean_squared_log_error                |     0.0146724   |\n",
      "+---------------------------------------+-----------------+\n",
      "| mean_squared_log_error(squared=False) |     0.121129    |\n",
      "+---------------------------------------+-----------------+\n"
     ]
    }
   ],
   "source": [
    "predictions = coefficients[0] * model_1.predict(X_test_1) + coefficients[1] * model_2.predict(X_test_2) \n",
    "y_test=y_test_1\n",
    "\n",
    "data = [\n",
    "        [\"MAE\",metrics.mean_absolute_error(y_test,predictions)],\n",
    "        [\"MSE\",metrics.mean_squared_error(y_test,predictions)],\n",
    "        [\"RMSE\",np.sqrt(metrics.mean_squared_error(y_test,predictions))],\n",
    "        [\"r2\",r2_score(y_test, predictions)],\n",
    "        [\"explained_variance_score\",metrics.explained_variance_score(y_test, predictions)],\n",
    "        [\"max_error\",metrics.max_error(y_test, predictions)],\n",
    "        [\"mean_absolute_percentage_error\",metrics.mean_absolute_percentage_error(y_test, predictions)],\n",
    "        [\"mean_squared_log_error\",metrics.mean_squared_log_error(y_test, predictions)],\n",
    "        [\"mean_squared_log_error(squared=False)\",metrics.mean_squared_log_error(y_test, predictions, squared=False)]\n",
    "    ]\n",
    "1\n",
    "# Define the headers\n",
    "headers = [\"metrics\", \"value\"]\n",
    "\n",
    "# Display the data in a tabular format\n",
    "table = tabulate(data, headers, tablefmt=\"grid\")\n",
    "print(table)"
   ]
  },
  {
   "cell_type": "code",
   "execution_count": null,
   "id": "4d1ace53",
   "metadata": {},
   "outputs": [],
   "source": []
  },
  {
   "cell_type": "code",
   "execution_count": null,
   "id": "d1741d2b",
   "metadata": {},
   "outputs": [],
   "source": []
  },
  {
   "cell_type": "code",
   "execution_count": null,
   "id": "08cf72d0",
   "metadata": {},
   "outputs": [],
   "source": []
  },
  {
   "cell_type": "markdown",
   "id": "0f0839b1",
   "metadata": {},
   "source": [
    "# method 1:- where use w*model1+(1-w)*model2"
   ]
  },
  {
   "cell_type": "code",
   "execution_count": 65,
   "id": "d22ab378",
   "metadata": {},
   "outputs": [
    {
     "name": "stderr",
     "output_type": "stream",
     "text": [
      "/tmp/ipykernel_28366/2433650397.py:9: TqdmDeprecationWarning: This function will be removed in tqdm==5.0.0\n",
      "Please use `tqdm.notebook.tqdm` instead of `tqdm.tqdm_notebook`\n",
      "  for weight in tqdm_notebook(weight_range):\n"
     ]
    },
    {
     "data": {
      "application/vnd.jupyter.widget-view+json": {
       "model_id": "81fbced811ed4e319eb3b5fb574ffac5",
       "version_major": 2,
       "version_minor": 0
      },
      "text/plain": [
       "  0%|          | 0/101 [00:00<?, ?it/s]"
      ]
     },
     "metadata": {},
     "output_type": "display_data"
    },
    {
     "name": "stdout",
     "output_type": "stream",
     "text": [
      "Best Weight: 0.88\n",
      "Best Accuracy: 842.551224490998\n"
     ]
    }
   ],
   "source": [
    "from tqdm import tqdm_notebook\n",
    "# Define the weight range and interval\n",
    "weight_range = np.arange(0, 1.01, 0.01)\n",
    "\n",
    "m1_best_weight = 0\n",
    "m1_best_accuracy = 10000000\n",
    "\n",
    "# Iterate over the weight values\n",
    "for weight in tqdm_notebook(weight_range):\n",
    "    # Combine the predictions of the two models using the weight\n",
    "    y_pred_combined = weight *model_1.predict(X_test_1) + (1 - weight) * model_2.predict(X_test_2)\n",
    "    \n",
    "    # Calculate the mean squared error\n",
    "    accuracy = metrics.mean_absolute_error(y_test_1, y_pred_combined)\n",
    "    \n",
    "    # Check if the current weight gives better accuracy than the previous best accuracy\n",
    "    if accuracy < m1_best_accuracy or m1_best_accuracy == 0:\n",
    "        m1_best_accuracy = accuracy\n",
    "        m1_best_weight = weight\n",
    "\n",
    "# Print the best weight and corresponding accuracy\n",
    "print(\"Best Weight:\", m1_best_weight)\n",
    "print(\"Best Accuracy:\", m1_best_accuracy)"
   ]
  },
  {
   "cell_type": "code",
   "execution_count": 113,
   "id": "b33e9226",
   "metadata": {},
   "outputs": [],
   "source": [
    "predictions = m1_best_weight * model_1.predict(X_test_1) + (1 - m1_best_weight) * model_2.predict(X_test_2) \n",
    "y_test=y_test_1"
   ]
  },
  {
   "cell_type": "code",
   "execution_count": 114,
   "id": "265311d5",
   "metadata": {},
   "outputs": [
    {
     "data": {
      "text/plain": [
       "0.88"
      ]
     },
     "execution_count": 114,
     "metadata": {},
     "output_type": "execute_result"
    }
   ],
   "source": [
    "m1_best_weight"
   ]
  },
  {
   "cell_type": "code",
   "execution_count": 115,
   "id": "9e01bf16",
   "metadata": {},
   "outputs": [
    {
     "name": "stdout",
     "output_type": "stream",
     "text": [
      "+---------------------------------------+-----------------+\n",
      "| metrics                               |           value |\n",
      "+=======================================+=================+\n",
      "| MAE                                   |   842.551       |\n",
      "+---------------------------------------+-----------------+\n",
      "| MSE                                   |     4.74801e+06 |\n",
      "+---------------------------------------+-----------------+\n",
      "| RMSE                                  |  2178.99        |\n",
      "+---------------------------------------+-----------------+\n",
      "| r2                                    |     0.990614    |\n",
      "+---------------------------------------+-----------------+\n",
      "| explained_variance_score              |     0.990615    |\n",
      "+---------------------------------------+-----------------+\n",
      "| max_error                             | 43751.4         |\n",
      "+---------------------------------------+-----------------+\n",
      "| mean_absolute_percentage_error        |     0.0584203   |\n",
      "+---------------------------------------+-----------------+\n",
      "| mean_squared_log_error                |     0.0147968   |\n",
      "+---------------------------------------+-----------------+\n",
      "| mean_squared_log_error(squared=False) |     0.121642    |\n",
      "+---------------------------------------+-----------------+\n"
     ]
    }
   ],
   "source": [
    "data = [\n",
    "        [\"MAE\",metrics.mean_absolute_error(y_test,predictions)],\n",
    "        [\"MSE\",metrics.mean_squared_error(y_test,predictions)],\n",
    "        [\"RMSE\",np.sqrt(metrics.mean_squared_error(y_test,predictions))],\n",
    "        [\"r2\",r2_score(y_test, predictions)],\n",
    "        [\"explained_variance_score\",metrics.explained_variance_score(y_test, predictions)],\n",
    "        [\"max_error\",metrics.max_error(y_test, predictions)],\n",
    "        [\"mean_absolute_percentage_error\",metrics.mean_absolute_percentage_error(y_test, predictions)],\n",
    "        [\"mean_squared_log_error\",metrics.mean_squared_log_error(y_test, predictions)],\n",
    "        [\"mean_squared_log_error(squared=False)\",metrics.mean_squared_log_error(y_test, predictions, squared=False)]\n",
    "    ]\n",
    "\n",
    "# Define the headers\n",
    "headers = [\"metrics\", \"value\"]\n",
    "\n",
    "# Display the data in a tabular format\n",
    "table = tabulate(data, headers, tablefmt=\"grid\")\n",
    "print(table)"
   ]
  },
  {
   "cell_type": "markdown",
   "id": "2557d031",
   "metadata": {},
   "source": [
    "# method 2 : (w1*m1+w2*m2)/(w1+w2)"
   ]
  },
  {
   "cell_type": "code",
   "execution_count": null,
   "id": "0c17ac58",
   "metadata": {},
   "outputs": [],
   "source": [
    "# ABHISHEK "
   ]
  },
  {
   "cell_type": "code",
   "execution_count": 20,
   "id": "0dcf27bf",
   "metadata": {},
   "outputs": [],
   "source": [
    "import multiprocessing\n",
    "from tqdm import tqdm_notebook"
   ]
  },
  {
   "cell_type": "code",
   "execution_count": 24,
   "id": "62a519aa",
   "metadata": {},
   "outputs": [],
   "source": [
    "def mp_fun(weight2):\n",
    "    \n",
    "    # Combine the predictions of the two models using the weight\n",
    "    y_pred_combined = (weight1 * model_1.predict(X_test_1) + weight2 * model_2.predict(X_test_2)) / (weight1 + weight2)\n",
    "\n",
    "    # Calculate the mean squared error\n",
    "    accuracy = metrics.mean_absolute_error(y_test_1, y_pred_combined)\n",
    "    \n",
    "    return [weight1, weight2, accuracy]\n",
    "\n",
    "#     # Check if the current weight gives better accuracy than the previous best accuracy\n",
    "#     if accuracy < m2_best_accuracy or m2_best_accuracy == 0:\n",
    "#         print(m2_best_accuracy)\n",
    "#         m2_best_accuracy = accuracy\n",
    "#         m2_best_weight = weight"
   ]
  },
  {
   "cell_type": "code",
   "execution_count": 29,
   "id": "06717c3f",
   "metadata": {},
   "outputs": [
    {
     "name": "stderr",
     "output_type": "stream",
     "text": [
      "/tmp/ipykernel_28366/1093762721.py:10: TqdmDeprecationWarning: This function will be removed in tqdm==5.0.0\n",
      "Please use `tqdm.notebook.tqdm` instead of `tqdm.tqdm_notebook`\n",
      "  for weight1 in tqdm_notebook(weight_range[:1]):\n"
     ]
    },
    {
     "data": {
      "application/vnd.jupyter.widget-view+json": {
       "model_id": "5282817d915f427e9215504360520d29",
       "version_major": 2,
       "version_minor": 0
      },
      "text/plain": [
       "  0%|          | 0/1 [00:00<?, ?it/s]"
      ]
     },
     "metadata": {},
     "output_type": "display_data"
    }
   ],
   "source": [
    "# Define the weight range and interval\n",
    "weight_range = np.arange(0.50, 1.01, 0.02)\n",
    "\n",
    "# m2_best_weight = 0\n",
    "# m2_best_accuracy = 10000000000\n",
    "\n",
    "all_ = []\n",
    "\n",
    "# Iterate over the weight values\n",
    "for weight1 in tqdm_notebook(weight_range[:1]):\n",
    "    \n",
    "    pool = multiprocessing.Pool()\n",
    "    data = pool.map(mp_fun, weight_range)\n",
    "    \n",
    "    all_ = all_ + data\n",
    "    \n",
    "    pool.close()\n",
    "    pool.join()\n",
    "\n",
    "# Print the best weight and corresponding accuracy\n",
    "# print(\"Best Weight:\", m2_best_weight)\n",
    "# print(\"Best Accuracy:\", m2_best_accuracy)"
   ]
  },
  {
   "cell_type": "code",
   "execution_count": 30,
   "id": "eb5939ef",
   "metadata": {},
   "outputs": [
    {
     "data": {
      "text/plain": [
       "[[0.5, 0.5, 846.2006521605778],\n",
       " [0.5, 0.52, 846.3924965035554],\n",
       " [0.5, 0.54, 846.5803935761799],\n",
       " [0.5, 0.56, 846.7643304890181],\n",
       " [0.5, 0.5800000000000001, 846.9458732122677],\n",
       " [0.5, 0.6000000000000001, 847.1273106600551],\n",
       " [0.5, 0.6200000000000001, 847.305779051105],\n",
       " [0.5, 0.6400000000000001, 847.4823289896418],\n",
       " [0.5, 0.6600000000000001, 847.6573714043506],\n",
       " [0.5, 0.6800000000000002, 847.8282353249017],\n",
       " [0.5, 0.7000000000000002, 847.9975010592755],\n",
       " [0.5, 0.7200000000000002, 848.1638536041633],\n",
       " [0.5, 0.7400000000000002, 848.3269255504886],\n",
       " [0.5, 0.7600000000000002, 848.4861269176344],\n",
       " [0.5, 0.7800000000000002, 848.643403859604],\n",
       " [0.5, 0.8000000000000003, 848.7987152725675],\n",
       " [0.5, 0.8200000000000003, 848.950399153354],\n",
       " [0.5, 0.8400000000000003, 849.0989537659053],\n",
       " [0.5, 0.8600000000000003, 849.2448282158678],\n",
       " [0.5, 0.8800000000000003, 849.3885196016178],\n",
       " [0.5, 0.9000000000000004, 849.5298644871148],\n",
       " [0.5, 0.9200000000000004, 849.668026490627],\n",
       " [0.5, 0.9400000000000004, 849.8034024122308],\n",
       " [0.5, 0.9600000000000004, 849.9365341306063],\n",
       " [0.5, 0.9800000000000004, 850.0670862930915],\n",
       " [0.5, 1.0000000000000004, 850.1950566543888]]"
      ]
     },
     "execution_count": 30,
     "metadata": {},
     "output_type": "execute_result"
    }
   ],
   "source": [
    "all_"
   ]
  },
  {
   "cell_type": "code",
   "execution_count": 26,
   "id": "0d0c1155",
   "metadata": {
    "scrolled": true
   },
   "outputs": [
    {
     "data": {
      "text/plain": [
       "[[0.01, 0.01, 846.200652160578],\n",
       " [0.01, 0.02, 850.1950566543891],\n",
       " [0.01, 0.03, 852.7147194219272],\n",
       " [0.01, 0.04, 854.402259445816],\n",
       " [0.01, 0.05, 855.5912617808957],\n",
       " [0.01, 0.060000000000000005, 856.4733935020489],\n",
       " [0.01, 0.06999999999999999, 857.1544407637105],\n",
       " [0.01, 0.08, 857.6956105399003],\n",
       " [0.01, 0.09, 858.1350096030521],\n",
       " [0.01, 0.09999999999999999, 858.5006791048627],\n",
       " [0.01, 0.11, 858.8097591277653],\n",
       " [0.01, 0.12, 859.0745216632242],\n",
       " [0.01, 0.13, 859.3032179917336],\n",
       " [0.01, 0.14, 859.5029202153506],\n",
       " [0.01, 0.15000000000000002, 859.678651726367],\n",
       " [0.01, 0.16, 859.8359931663488],\n",
       " [0.01, 0.17, 859.9768019806298],\n",
       " [0.01, 0.18000000000000002, 860.1036275797971],\n",
       " [0.01, 0.19, 860.218152670158],\n",
       " [0.01, 0.2, 860.322097545484],\n",
       " [0.01, 0.21000000000000002, 860.4170118337138],\n",
       " [0.01, 0.22, 860.5040364041938],\n",
       " [0.01, 0.23, 860.5839660445212],\n",
       " [0.01, 0.24000000000000002, 860.6576311444074],\n",
       " [0.01, 0.25, 860.7258265256037],\n",
       " [0.01, 0.26, 860.789178500868],\n",
       " [0.01, 0.27, 860.8480744777144],\n",
       " [0.01, 0.28, 860.9029679825227],\n",
       " [0.01, 0.29000000000000004, 860.9542472378225],\n",
       " [0.01, 0.3, 861.002270386451],\n",
       " [0.01, 0.31, 861.0473836746437],\n",
       " [0.01, 0.32, 861.0899299845008],\n",
       " [0.01, 0.33, 861.1300404880909],\n",
       " [0.01, 0.34, 861.1678729603515],\n",
       " [0.01, 0.35000000000000003, 861.2036559189503],\n",
       " [0.01, 0.36000000000000004, 861.2375417330661],\n",
       " [0.01, 0.37, 861.269659869996],\n",
       " [0.01, 0.38, 861.300136689058],\n",
       " [0.01, 0.39, 861.3291010616051],\n",
       " [0.01, 0.4, 861.3566771321314],\n",
       " [0.01, 0.41000000000000003, 861.3829904251024],\n",
       " [0.01, 0.42000000000000004, 861.4080829724618],\n",
       " [0.01, 0.43, 861.4320559243864],\n",
       " [0.01, 0.44, 861.4549886071624],\n",
       " [0.01, 0.45, 861.4769334799537],\n",
       " [0.01, 0.46, 861.4979509600737],\n",
       " [0.01, 0.47000000000000003, 861.5181011335892],\n",
       " [0.01, 0.48000000000000004, 861.537433945742],\n",
       " [0.01, 0.49, 861.555995149834],\n",
       " [0.01, 0.5, 861.5738299552255],\n",
       " [0.01, 0.51, 861.5909807242992],\n",
       " [0.01, 0.52, 861.6074891688957],\n",
       " [0.01, 0.53, 861.6233930889538],\n",
       " [0.01, 0.54, 861.6387340658447],\n",
       " [0.01, 0.55, 861.6535304970882],\n",
       " [0.01, 0.56, 861.6678094813353],\n",
       " [0.01, 0.5700000000000001, 861.6815968676383],\n",
       " [0.01, 0.5800000000000001, 861.6949233999649],\n",
       " [0.01, 0.59, 861.7078110780578],\n",
       " [0.01, 0.6, 861.7203033379586],\n",
       " [0.01, 0.61, 861.732397616842],\n",
       " [0.01, 0.62, 861.7441176720528],\n",
       " [0.01, 0.63, 861.7555108828145],\n",
       " [0.01, 0.64, 861.7665591711879],\n",
       " [0.01, 0.65, 861.7772792036037],\n",
       " [0.01, 0.66, 861.7876824748841],\n",
       " [0.01, 0.67, 861.7977893343202],\n",
       " [0.01, 0.68, 861.8076054883975],\n",
       " [0.01, 0.6900000000000001, 861.8171424589298],\n",
       " [0.01, 0.7000000000000001, 861.8264126142751],\n",
       " [0.01, 0.7100000000000001, 861.8354291911098],\n",
       " [0.01, 0.72, 861.8441996583161],\n",
       " [0.01, 0.73, 861.8527340325027],\n",
       " [0.01, 0.74, 861.8610410256479],\n",
       " [0.01, 0.75, 861.869129962635],\n",
       " [0.01, 0.76, 861.8770123088934],\n",
       " [0.01, 0.77, 861.8846961932697],\n",
       " [0.01, 0.78, 861.892185656238],\n",
       " [0.01, 0.79, 861.8994887805786],\n",
       " [0.01, 0.8, 861.9066203475619],\n",
       " [0.01, 0.81, 861.9135787492686],\n",
       " [0.01, 0.8200000000000001, 861.920369484021],\n",
       " [0.01, 0.8300000000000001, 861.9269995677421],\n",
       " [0.01, 0.8400000000000001, 861.9334758329105],\n",
       " [0.01, 0.85, 861.9398021858515],\n",
       " [0.01, 0.86, 861.9459851542501],\n",
       " [0.01, 0.87, 861.9520292028484],\n",
       " [0.01, 0.88, 861.9579383726319],\n",
       " [0.01, 0.89, 861.9637166340548],\n",
       " [0.01, 0.9, 861.9693681973605],\n",
       " [0.01, 0.91, 861.97489717461],\n",
       " [0.01, 0.92, 861.9803072491228],\n",
       " [0.01, 0.93, 861.9856047503753],\n",
       " [0.01, 0.9400000000000001, 861.9908029824453],\n",
       " [0.01, 0.9500000000000001, 861.9958933885989],\n",
       " [0.01, 0.9600000000000001, 862.0008952041588],\n",
       " [0.01, 0.97, 862.0057972000905],\n",
       " [0.01, 0.98, 862.0106005917042],\n",
       " [0.01, 0.99, 862.0153079154859],\n",
       " [0.01, 1.0, 862.019922055859]]"
      ]
     },
     "execution_count": 26,
     "metadata": {},
     "output_type": "execute_result"
    }
   ],
   "source": [
    "all_"
   ]
  },
  {
   "cell_type": "code",
   "execution_count": 28,
   "id": "96a2ea69",
   "metadata": {
    "scrolled": true
   },
   "outputs": [
    {
     "data": {
      "text/plain": [
       "[[0.02, 0.02, 846.200652160578],\n",
       " [0.02, 0.03, 848.4068962793431],\n",
       " [0.02, 0.039999999999999994, 850.1950566543885],\n",
       " [0.02, 0.049999999999999996, 851.5975971010996],\n",
       " [0.02, 0.06, 852.7147194219272],\n",
       " [0.02, 0.06999999999999999, 853.6374134893528],\n",
       " [0.02, 0.07999999999999999, 854.402259445816],\n",
       " [0.02, 0.09, 855.0451882932624],\n",
       " [0.02, 0.09999999999999999, 855.5912617808957],\n",
       " [0.02, 0.10999999999999999, 856.0631717826278],\n",
       " [0.02, 0.11999999999999998, 856.4733935020489],\n",
       " [0.02, 0.12999999999999998, 856.8335029511371],\n",
       " [0.02, 0.13999999999999999, 857.1544407637105],\n",
       " [0.02, 0.14999999999999997, 857.4400737537599],\n",
       " [0.02, 0.15999999999999998, 857.6956105399003],\n",
       " [0.02, 0.16999999999999996, 857.9257263749658],\n",
       " [0.02, 0.17999999999999997, 858.1350096030521],\n",
       " [0.02, 0.18999999999999997, 858.3258339822471],\n",
       " [0.02, 0.19999999999999996, 858.5006791048629],\n",
       " [0.02, 0.20999999999999996, 858.6614662298895],\n",
       " [0.02, 0.21999999999999995, 858.8097591277651],\n",
       " [0.02, 0.22999999999999995, 858.9470518374985],\n",
       " [0.02, 0.23999999999999996, 859.0745216632246],\n",
       " [0.02, 0.24999999999999994, 859.1927986389702],\n",
       " [0.02, 0.25999999999999995, 859.3032179917336],\n",
       " [0.02, 0.26999999999999996, 859.4063045746209],\n",
       " [0.02, 0.27999999999999997, 859.502920215351],\n",
       " [0.02, 0.29, 859.593496528095],\n",
       " [0.02, 0.3, 859.678651726367],\n",
       " [0.02, 0.31, 859.7595472436202],\n",
       " [0.02, 0.31999999999999995, 859.8359931663488],\n",
       " [0.02, 0.32999999999999996, 859.9082804913755],\n",
       " [0.02, 0.33999999999999997, 859.9768019806298],\n",
       " [0.02, 0.35, 860.0418712024431],\n",
       " [0.02, 0.36, 860.1036275797971],\n",
       " [0.02, 0.36999999999999994, 860.1623207528341],\n",
       " [0.02, 0.37999999999999995, 860.218152670158],\n",
       " [0.02, 0.38999999999999996, 860.2713584427767],\n",
       " [0.02, 0.39999999999999997, 860.3220975454836],\n",
       " [0.02, 0.41, 860.3706080082683],\n",
       " [0.02, 0.41999999999999993, 860.4170118337136],\n",
       " [0.02, 0.42999999999999994, 860.4614572180055],\n",
       " [0.02, 0.43999999999999995, 860.5040364041938],\n",
       " [0.02, 0.44999999999999996, 860.5448370956415],\n",
       " [0.02, 0.45999999999999996, 860.5839660445212],\n",
       " [0.02, 0.47, 860.6215361423907],\n",
       " [0.02, 0.4799999999999999, 860.6576311444068],\n",
       " [0.02, 0.48999999999999994, 860.6923498110315],\n",
       " [0.02, 0.49999999999999994, 860.725826525604],\n",
       " [0.02, 0.5099999999999999, 860.7580944066545],\n",
       " [0.02, 0.5199999999999999, 860.7891785008678],\n",
       " [0.02, 0.5299999999999999, 860.8191549589518],\n",
       " [0.02, 0.5399999999999999, 860.8480744777141],\n",
       " [0.02, 0.5499999999999999, 860.8759983293838],\n",
       " [0.02, 0.5599999999999999, 860.9029679825227],\n",
       " [0.02, 0.57, 860.9290346630571],\n",
       " [0.02, 0.58, 860.9542472378225],\n",
       " [0.02, 0.59, 860.978648918913],\n",
       " [0.02, 0.6, 861.002270386451],\n",
       " [0.02, 0.6099999999999999, 861.025146976854],\n",
       " [0.02, 0.6199999999999999, 861.0473836746437],\n",
       " [0.02, 0.6299999999999999, 861.0689752486829],\n",
       " [0.02, 0.6399999999999999, 861.0899299845008],\n",
       " [0.02, 0.6499999999999999, 861.1102802763832],\n",
       " [0.02, 0.6599999999999999, 861.1300404880909],\n",
       " [0.02, 0.6699999999999999, 861.1492281760643],\n",
       " [0.02, 0.6799999999999999, 861.1678729603515],\n",
       " [0.02, 0.69, 861.1860132398979],\n",
       " [0.02, 0.7, 861.2036559189503],\n",
       " [0.02, 0.71, 861.2208245151265],\n",
       " [0.02, 0.7199999999999999, 861.2375417330663],\n",
       " [0.02, 0.7299999999999999, 861.2538136255339],\n",
       " [0.02, 0.7399999999999999, 861.269659869996],\n",
       " [0.02, 0.7499999999999999, 861.2850961230034],\n",
       " [0.02, 0.7599999999999999, 861.300136689058],\n",
       " [0.02, 0.7699999999999999, 861.314800643795],\n",
       " [0.02, 0.7799999999999999, 861.3291010616053],\n",
       " [0.02, 0.7899999999999999, 861.3430505006789],\n",
       " [0.02, 0.7999999999999999, 861.3566771321314],\n",
       " [0.02, 0.8099999999999999, 861.3699913893096],\n",
       " [0.02, 0.8199999999999998, 861.3829904251023],\n",
       " [0.02, 0.8299999999999998, 861.3956836012295],\n",
       " [0.02, 0.8399999999999999, 861.4080829724619],\n",
       " [0.02, 0.8499999999999999, 861.4202020189507],\n",
       " [0.02, 0.8599999999999999, 861.4320559243862],\n",
       " [0.02, 0.8699999999999999, 861.4436507025126],\n",
       " [0.02, 0.8799999999999999, 861.4549886071624],\n",
       " [0.02, 0.8899999999999999, 861.4660803719362],\n",
       " [0.02, 0.8999999999999999, 861.4769334799537],\n",
       " [0.02, 0.9099999999999999, 861.4875544016124],\n",
       " [0.02, 0.9199999999999999, 861.4979509600737],\n",
       " [0.02, 0.9299999999999998, 861.5081299751288],\n",
       " [0.02, 0.9399999999999998, 861.5181011335891],\n",
       " [0.02, 0.9499999999999998, 861.527867151938],\n",
       " [0.02, 0.9599999999999999, 861.5374339457425],\n",
       " [0.02, 0.9699999999999999, 861.5468079239296],\n",
       " [0.02, 0.9799999999999999, 861.5559951498342],\n",
       " [0.02, 0.9899999999999999, 861.5650006139277],\n",
       " [0.02, 0.9999999999999999, 861.5738299552262]]"
      ]
     },
     "execution_count": 28,
     "metadata": {},
     "output_type": "execute_result"
    }
   ],
   "source": [
    "all_"
   ]
  },
  {
   "cell_type": "code",
   "execution_count": null,
   "id": "60df12a8",
   "metadata": {},
   "outputs": [],
   "source": []
  },
  {
   "cell_type": "code",
   "execution_count": null,
   "id": "9b2b8e4c",
   "metadata": {},
   "outputs": [],
   "source": []
  },
  {
   "cell_type": "code",
   "execution_count": null,
   "id": "9bbf340e",
   "metadata": {},
   "outputs": [],
   "source": []
  },
  {
   "cell_type": "code",
   "execution_count": null,
   "id": "6ce8ca90",
   "metadata": {},
   "outputs": [],
   "source": []
  },
  {
   "cell_type": "code",
   "execution_count": null,
   "id": "89ae5bce",
   "metadata": {},
   "outputs": [],
   "source": []
  },
  {
   "cell_type": "code",
   "execution_count": null,
   "id": "4cf8ec19",
   "metadata": {},
   "outputs": [],
   "source": []
  },
  {
   "cell_type": "code",
   "execution_count": null,
   "id": "477c13a6",
   "metadata": {},
   "outputs": [],
   "source": []
  },
  {
   "cell_type": "code",
   "execution_count": null,
   "id": "3487f8cf",
   "metadata": {},
   "outputs": [],
   "source": []
  },
  {
   "cell_type": "code",
   "execution_count": 120,
   "id": "83bce3fb",
   "metadata": {},
   "outputs": [
    {
     "name": "stderr",
     "output_type": "stream",
     "text": [
      "/tmp/ipykernel_18000/551013702.py:8: TqdmDeprecationWarning: This function will be removed in tqdm==5.0.0\n",
      "Please use `tqdm.notebook.tqdm` instead of `tqdm.tqdm_notebook`\n",
      "  for weight1 in tqdm_notebook(weight_range):\n"
     ]
    },
    {
     "data": {
      "application/vnd.jupyter.widget-view+json": {
       "model_id": "7bf631c3b48b40ff8596151fd7c37e7b",
       "version_major": 2,
       "version_minor": 0
      },
      "text/plain": [
       "  0%|          | 0/100 [00:00<?, ?it/s]"
      ]
     },
     "metadata": {},
     "output_type": "display_data"
    },
    {
     "name": "stderr",
     "output_type": "stream",
     "text": [
      "/tmp/ipykernel_18000/551013702.py:9: TqdmDeprecationWarning: This function will be removed in tqdm==5.0.0\n",
      "Please use `tqdm.notebook.tqdm` instead of `tqdm.tqdm_notebook`\n",
      "  for weight2 in tqdm_notebook(weight_range):\n"
     ]
    },
    {
     "data": {
      "application/vnd.jupyter.widget-view+json": {
       "model_id": "6792c305aa954848b49e575b3926dac8",
       "version_major": 2,
       "version_minor": 0
      },
      "text/plain": [
       "  0%|          | 0/100 [00:00<?, ?it/s]"
      ]
     },
     "metadata": {},
     "output_type": "display_data"
    },
    {
     "name": "stderr",
     "output_type": "stream",
     "text": [
      "/tmp/ipykernel_18000/551013702.py:9: TqdmDeprecationWarning: This function will be removed in tqdm==5.0.0\n",
      "Please use `tqdm.notebook.tqdm` instead of `tqdm.tqdm_notebook`\n",
      "  for weight2 in tqdm_notebook(weight_range):\n"
     ]
    },
    {
     "data": {
      "application/vnd.jupyter.widget-view+json": {
       "model_id": "40d22d406d2c459fb34e3f43ad650e22",
       "version_major": 2,
       "version_minor": 0
      },
      "text/plain": [
       "  0%|          | 0/100 [00:00<?, ?it/s]"
      ]
     },
     "metadata": {},
     "output_type": "display_data"
    },
    {
     "name": "stderr",
     "output_type": "stream",
     "text": [
      "/tmp/ipykernel_18000/551013702.py:9: TqdmDeprecationWarning: This function will be removed in tqdm==5.0.0\n",
      "Please use `tqdm.notebook.tqdm` instead of `tqdm.tqdm_notebook`\n",
      "  for weight2 in tqdm_notebook(weight_range):\n"
     ]
    },
    {
     "data": {
      "application/vnd.jupyter.widget-view+json": {
       "model_id": "69c600824d06455c934d8c87e2a91e8f",
       "version_major": 2,
       "version_minor": 0
      },
      "text/plain": [
       "  0%|          | 0/100 [00:00<?, ?it/s]"
      ]
     },
     "metadata": {},
     "output_type": "display_data"
    },
    {
     "name": "stderr",
     "output_type": "stream",
     "text": [
      "/tmp/ipykernel_18000/551013702.py:9: TqdmDeprecationWarning: This function will be removed in tqdm==5.0.0\n",
      "Please use `tqdm.notebook.tqdm` instead of `tqdm.tqdm_notebook`\n",
      "  for weight2 in tqdm_notebook(weight_range):\n"
     ]
    },
    {
     "data": {
      "application/vnd.jupyter.widget-view+json": {
       "model_id": "3380d4ea87a6469f9d61f4b71bcee503",
       "version_major": 2,
       "version_minor": 0
      },
      "text/plain": [
       "  0%|          | 0/100 [00:00<?, ?it/s]"
      ]
     },
     "metadata": {},
     "output_type": "display_data"
    },
    {
     "name": "stderr",
     "output_type": "stream",
     "text": [
      "/tmp/ipykernel_18000/551013702.py:9: TqdmDeprecationWarning: This function will be removed in tqdm==5.0.0\n",
      "Please use `tqdm.notebook.tqdm` instead of `tqdm.tqdm_notebook`\n",
      "  for weight2 in tqdm_notebook(weight_range):\n"
     ]
    },
    {
     "data": {
      "application/vnd.jupyter.widget-view+json": {
       "model_id": "727295232ed64a489b74f7bfb8f332ee",
       "version_major": 2,
       "version_minor": 0
      },
      "text/plain": [
       "  0%|          | 0/100 [00:00<?, ?it/s]"
      ]
     },
     "metadata": {},
     "output_type": "display_data"
    },
    {
     "name": "stderr",
     "output_type": "stream",
     "text": [
      "/tmp/ipykernel_18000/551013702.py:9: TqdmDeprecationWarning: This function will be removed in tqdm==5.0.0\n",
      "Please use `tqdm.notebook.tqdm` instead of `tqdm.tqdm_notebook`\n",
      "  for weight2 in tqdm_notebook(weight_range):\n"
     ]
    },
    {
     "data": {
      "application/vnd.jupyter.widget-view+json": {
       "model_id": "56a9a040b9144df68059f41e9cb3a10f",
       "version_major": 2,
       "version_minor": 0
      },
      "text/plain": [
       "  0%|          | 0/100 [00:00<?, ?it/s]"
      ]
     },
     "metadata": {},
     "output_type": "display_data"
    },
    {
     "ename": "KeyboardInterrupt",
     "evalue": "",
     "output_type": "error",
     "traceback": [
      "\u001b[0;31m---------------------------------------------------------------------------\u001b[0m",
      "\u001b[0;31mKeyboardInterrupt\u001b[0m                         Traceback (most recent call last)",
      "Cell \u001b[0;32mIn[120], line 11\u001b[0m\n\u001b[1;32m      8\u001b[0m \u001b[38;5;28;01mfor\u001b[39;00m weight1 \u001b[38;5;129;01min\u001b[39;00m tqdm_notebook(weight_range):\n\u001b[1;32m      9\u001b[0m     \u001b[38;5;28;01mfor\u001b[39;00m weight2 \u001b[38;5;129;01min\u001b[39;00m tqdm_notebook(weight_range):\n\u001b[1;32m     10\u001b[0m         \u001b[38;5;66;03m# Combine the predictions of the two models using the weight\u001b[39;00m\n\u001b[0;32m---> 11\u001b[0m         y_pred_combined \u001b[38;5;241m=\u001b[39m (weight1 \u001b[38;5;241m*\u001b[39m \u001b[43mmodel_1\u001b[49m\u001b[38;5;241;43m.\u001b[39;49m\u001b[43mpredict\u001b[49m\u001b[43m(\u001b[49m\u001b[43mX_test_1\u001b[49m\u001b[43m)\u001b[49m \u001b[38;5;241m+\u001b[39m weight2 \u001b[38;5;241m*\u001b[39m model_1\u001b[38;5;241m.\u001b[39mpredict(X_test_1)) \u001b[38;5;241m/\u001b[39m (weight1 \u001b[38;5;241m+\u001b[39m weight2)\n\u001b[1;32m     13\u001b[0m         \u001b[38;5;66;03m# Calculate the mean squared error\u001b[39;00m\n\u001b[1;32m     14\u001b[0m         accuracy \u001b[38;5;241m=\u001b[39m metrics\u001b[38;5;241m.\u001b[39mmean_absolute_error(y_test_1, y_pred_combined)\n",
      "File \u001b[0;32m~/anaconda3/lib/python3.9/site-packages/sklearn/ensemble/_forest.py:994\u001b[0m, in \u001b[0;36mForestRegressor.predict\u001b[0;34m(self, X)\u001b[0m\n\u001b[1;32m    992\u001b[0m \u001b[38;5;66;03m# Parallel loop\u001b[39;00m\n\u001b[1;32m    993\u001b[0m lock \u001b[38;5;241m=\u001b[39m threading\u001b[38;5;241m.\u001b[39mLock()\n\u001b[0;32m--> 994\u001b[0m \u001b[43mParallel\u001b[49m\u001b[43m(\u001b[49m\u001b[43mn_jobs\u001b[49m\u001b[38;5;241;43m=\u001b[39;49m\u001b[43mn_jobs\u001b[49m\u001b[43m,\u001b[49m\u001b[43m \u001b[49m\u001b[43mverbose\u001b[49m\u001b[38;5;241;43m=\u001b[39;49m\u001b[38;5;28;43mself\u001b[39;49m\u001b[38;5;241;43m.\u001b[39;49m\u001b[43mverbose\u001b[49m\u001b[43m,\u001b[49m\u001b[43m \u001b[49m\u001b[43mrequire\u001b[49m\u001b[38;5;241;43m=\u001b[39;49m\u001b[38;5;124;43m\"\u001b[39;49m\u001b[38;5;124;43msharedmem\u001b[39;49m\u001b[38;5;124;43m\"\u001b[39;49m\u001b[43m)\u001b[49m\u001b[43m(\u001b[49m\n\u001b[1;32m    995\u001b[0m \u001b[43m    \u001b[49m\u001b[43mdelayed\u001b[49m\u001b[43m(\u001b[49m\u001b[43m_accumulate_prediction\u001b[49m\u001b[43m)\u001b[49m\u001b[43m(\u001b[49m\u001b[43me\u001b[49m\u001b[38;5;241;43m.\u001b[39;49m\u001b[43mpredict\u001b[49m\u001b[43m,\u001b[49m\u001b[43m \u001b[49m\u001b[43mX\u001b[49m\u001b[43m,\u001b[49m\u001b[43m \u001b[49m\u001b[43m[\u001b[49m\u001b[43my_hat\u001b[49m\u001b[43m]\u001b[49m\u001b[43m,\u001b[49m\u001b[43m \u001b[49m\u001b[43mlock\u001b[49m\u001b[43m)\u001b[49m\n\u001b[1;32m    996\u001b[0m \u001b[43m    \u001b[49m\u001b[38;5;28;43;01mfor\u001b[39;49;00m\u001b[43m \u001b[49m\u001b[43me\u001b[49m\u001b[43m \u001b[49m\u001b[38;5;129;43;01min\u001b[39;49;00m\u001b[43m \u001b[49m\u001b[38;5;28;43mself\u001b[39;49m\u001b[38;5;241;43m.\u001b[39;49m\u001b[43mestimators_\u001b[49m\n\u001b[1;32m    997\u001b[0m \u001b[43m\u001b[49m\u001b[43m)\u001b[49m\n\u001b[1;32m    999\u001b[0m y_hat \u001b[38;5;241m/\u001b[39m\u001b[38;5;241m=\u001b[39m \u001b[38;5;28mlen\u001b[39m(\u001b[38;5;28mself\u001b[39m\u001b[38;5;241m.\u001b[39mestimators_)\n\u001b[1;32m   1001\u001b[0m \u001b[38;5;28;01mreturn\u001b[39;00m y_hat\n",
      "File \u001b[0;32m~/anaconda3/lib/python3.9/site-packages/sklearn/utils/parallel.py:63\u001b[0m, in \u001b[0;36mParallel.__call__\u001b[0;34m(self, iterable)\u001b[0m\n\u001b[1;32m     58\u001b[0m config \u001b[38;5;241m=\u001b[39m get_config()\n\u001b[1;32m     59\u001b[0m iterable_with_config \u001b[38;5;241m=\u001b[39m (\n\u001b[1;32m     60\u001b[0m     (_with_config(delayed_func, config), args, kwargs)\n\u001b[1;32m     61\u001b[0m     \u001b[38;5;28;01mfor\u001b[39;00m delayed_func, args, kwargs \u001b[38;5;129;01min\u001b[39;00m iterable\n\u001b[1;32m     62\u001b[0m )\n\u001b[0;32m---> 63\u001b[0m \u001b[38;5;28;01mreturn\u001b[39;00m \u001b[38;5;28;43msuper\u001b[39;49m\u001b[43m(\u001b[49m\u001b[43m)\u001b[49m\u001b[38;5;241;43m.\u001b[39;49m\u001b[38;5;21;43m__call__\u001b[39;49m\u001b[43m(\u001b[49m\u001b[43miterable_with_config\u001b[49m\u001b[43m)\u001b[49m\n",
      "File \u001b[0;32m~/anaconda3/lib/python3.9/site-packages/joblib/parallel.py:1051\u001b[0m, in \u001b[0;36mParallel.__call__\u001b[0;34m(self, iterable)\u001b[0m\n\u001b[1;32m   1048\u001b[0m \u001b[38;5;28;01mif\u001b[39;00m \u001b[38;5;28mself\u001b[39m\u001b[38;5;241m.\u001b[39mdispatch_one_batch(iterator):\n\u001b[1;32m   1049\u001b[0m     \u001b[38;5;28mself\u001b[39m\u001b[38;5;241m.\u001b[39m_iterating \u001b[38;5;241m=\u001b[39m \u001b[38;5;28mself\u001b[39m\u001b[38;5;241m.\u001b[39m_original_iterator \u001b[38;5;129;01mis\u001b[39;00m \u001b[38;5;129;01mnot\u001b[39;00m \u001b[38;5;28;01mNone\u001b[39;00m\n\u001b[0;32m-> 1051\u001b[0m \u001b[38;5;28;01mwhile\u001b[39;00m \u001b[38;5;28;43mself\u001b[39;49m\u001b[38;5;241;43m.\u001b[39;49m\u001b[43mdispatch_one_batch\u001b[49m\u001b[43m(\u001b[49m\u001b[43miterator\u001b[49m\u001b[43m)\u001b[49m:\n\u001b[1;32m   1052\u001b[0m     \u001b[38;5;28;01mpass\u001b[39;00m\n\u001b[1;32m   1054\u001b[0m \u001b[38;5;28;01mif\u001b[39;00m pre_dispatch \u001b[38;5;241m==\u001b[39m \u001b[38;5;124m\"\u001b[39m\u001b[38;5;124mall\u001b[39m\u001b[38;5;124m\"\u001b[39m \u001b[38;5;129;01mor\u001b[39;00m n_jobs \u001b[38;5;241m==\u001b[39m \u001b[38;5;241m1\u001b[39m:\n\u001b[1;32m   1055\u001b[0m     \u001b[38;5;66;03m# The iterable was consumed all at once by the above for loop.\u001b[39;00m\n\u001b[1;32m   1056\u001b[0m     \u001b[38;5;66;03m# No need to wait for async callbacks to trigger to\u001b[39;00m\n\u001b[1;32m   1057\u001b[0m     \u001b[38;5;66;03m# consumption.\u001b[39;00m\n",
      "File \u001b[0;32m~/anaconda3/lib/python3.9/site-packages/joblib/parallel.py:864\u001b[0m, in \u001b[0;36mParallel.dispatch_one_batch\u001b[0;34m(self, iterator)\u001b[0m\n\u001b[1;32m    862\u001b[0m     \u001b[38;5;28;01mreturn\u001b[39;00m \u001b[38;5;28;01mFalse\u001b[39;00m\n\u001b[1;32m    863\u001b[0m \u001b[38;5;28;01melse\u001b[39;00m:\n\u001b[0;32m--> 864\u001b[0m     \u001b[38;5;28;43mself\u001b[39;49m\u001b[38;5;241;43m.\u001b[39;49m\u001b[43m_dispatch\u001b[49m\u001b[43m(\u001b[49m\u001b[43mtasks\u001b[49m\u001b[43m)\u001b[49m\n\u001b[1;32m    865\u001b[0m     \u001b[38;5;28;01mreturn\u001b[39;00m \u001b[38;5;28;01mTrue\u001b[39;00m\n",
      "File \u001b[0;32m~/anaconda3/lib/python3.9/site-packages/joblib/parallel.py:782\u001b[0m, in \u001b[0;36mParallel._dispatch\u001b[0;34m(self, batch)\u001b[0m\n\u001b[1;32m    780\u001b[0m \u001b[38;5;28;01mwith\u001b[39;00m \u001b[38;5;28mself\u001b[39m\u001b[38;5;241m.\u001b[39m_lock:\n\u001b[1;32m    781\u001b[0m     job_idx \u001b[38;5;241m=\u001b[39m \u001b[38;5;28mlen\u001b[39m(\u001b[38;5;28mself\u001b[39m\u001b[38;5;241m.\u001b[39m_jobs)\n\u001b[0;32m--> 782\u001b[0m     job \u001b[38;5;241m=\u001b[39m \u001b[38;5;28;43mself\u001b[39;49m\u001b[38;5;241;43m.\u001b[39;49m\u001b[43m_backend\u001b[49m\u001b[38;5;241;43m.\u001b[39;49m\u001b[43mapply_async\u001b[49m\u001b[43m(\u001b[49m\u001b[43mbatch\u001b[49m\u001b[43m,\u001b[49m\u001b[43m \u001b[49m\u001b[43mcallback\u001b[49m\u001b[38;5;241;43m=\u001b[39;49m\u001b[43mcb\u001b[49m\u001b[43m)\u001b[49m\n\u001b[1;32m    783\u001b[0m     \u001b[38;5;66;03m# A job can complete so quickly than its callback is\u001b[39;00m\n\u001b[1;32m    784\u001b[0m     \u001b[38;5;66;03m# called before we get here, causing self._jobs to\u001b[39;00m\n\u001b[1;32m    785\u001b[0m     \u001b[38;5;66;03m# grow. To ensure correct results ordering, .insert is\u001b[39;00m\n\u001b[1;32m    786\u001b[0m     \u001b[38;5;66;03m# used (rather than .append) in the following line\u001b[39;00m\n\u001b[1;32m    787\u001b[0m     \u001b[38;5;28mself\u001b[39m\u001b[38;5;241m.\u001b[39m_jobs\u001b[38;5;241m.\u001b[39minsert(job_idx, job)\n",
      "File \u001b[0;32m~/anaconda3/lib/python3.9/site-packages/joblib/_parallel_backends.py:208\u001b[0m, in \u001b[0;36mSequentialBackend.apply_async\u001b[0;34m(self, func, callback)\u001b[0m\n\u001b[1;32m    206\u001b[0m \u001b[38;5;28;01mdef\u001b[39;00m \u001b[38;5;21mapply_async\u001b[39m(\u001b[38;5;28mself\u001b[39m, func, callback\u001b[38;5;241m=\u001b[39m\u001b[38;5;28;01mNone\u001b[39;00m):\n\u001b[1;32m    207\u001b[0m     \u001b[38;5;124;03m\"\"\"Schedule a func to be run\"\"\"\u001b[39;00m\n\u001b[0;32m--> 208\u001b[0m     result \u001b[38;5;241m=\u001b[39m \u001b[43mImmediateResult\u001b[49m\u001b[43m(\u001b[49m\u001b[43mfunc\u001b[49m\u001b[43m)\u001b[49m\n\u001b[1;32m    209\u001b[0m     \u001b[38;5;28;01mif\u001b[39;00m callback:\n\u001b[1;32m    210\u001b[0m         callback(result)\n",
      "File \u001b[0;32m~/anaconda3/lib/python3.9/site-packages/joblib/_parallel_backends.py:572\u001b[0m, in \u001b[0;36mImmediateResult.__init__\u001b[0;34m(self, batch)\u001b[0m\n\u001b[1;32m    569\u001b[0m \u001b[38;5;28;01mdef\u001b[39;00m \u001b[38;5;21m__init__\u001b[39m(\u001b[38;5;28mself\u001b[39m, batch):\n\u001b[1;32m    570\u001b[0m     \u001b[38;5;66;03m# Don't delay the application, to avoid keeping the input\u001b[39;00m\n\u001b[1;32m    571\u001b[0m     \u001b[38;5;66;03m# arguments in memory\u001b[39;00m\n\u001b[0;32m--> 572\u001b[0m     \u001b[38;5;28mself\u001b[39m\u001b[38;5;241m.\u001b[39mresults \u001b[38;5;241m=\u001b[39m \u001b[43mbatch\u001b[49m\u001b[43m(\u001b[49m\u001b[43m)\u001b[49m\n",
      "File \u001b[0;32m~/anaconda3/lib/python3.9/site-packages/joblib/parallel.py:263\u001b[0m, in \u001b[0;36mBatchedCalls.__call__\u001b[0;34m(self)\u001b[0m\n\u001b[1;32m    259\u001b[0m \u001b[38;5;28;01mdef\u001b[39;00m \u001b[38;5;21m__call__\u001b[39m(\u001b[38;5;28mself\u001b[39m):\n\u001b[1;32m    260\u001b[0m     \u001b[38;5;66;03m# Set the default nested backend to self._backend but do not set the\u001b[39;00m\n\u001b[1;32m    261\u001b[0m     \u001b[38;5;66;03m# change the default number of processes to -1\u001b[39;00m\n\u001b[1;32m    262\u001b[0m     \u001b[38;5;28;01mwith\u001b[39;00m parallel_backend(\u001b[38;5;28mself\u001b[39m\u001b[38;5;241m.\u001b[39m_backend, n_jobs\u001b[38;5;241m=\u001b[39m\u001b[38;5;28mself\u001b[39m\u001b[38;5;241m.\u001b[39m_n_jobs):\n\u001b[0;32m--> 263\u001b[0m         \u001b[38;5;28;01mreturn\u001b[39;00m [func(\u001b[38;5;241m*\u001b[39margs, \u001b[38;5;241m*\u001b[39m\u001b[38;5;241m*\u001b[39mkwargs)\n\u001b[1;32m    264\u001b[0m                 \u001b[38;5;28;01mfor\u001b[39;00m func, args, kwargs \u001b[38;5;129;01min\u001b[39;00m \u001b[38;5;28mself\u001b[39m\u001b[38;5;241m.\u001b[39mitems]\n",
      "File \u001b[0;32m~/anaconda3/lib/python3.9/site-packages/joblib/parallel.py:263\u001b[0m, in \u001b[0;36m<listcomp>\u001b[0;34m(.0)\u001b[0m\n\u001b[1;32m    259\u001b[0m \u001b[38;5;28;01mdef\u001b[39;00m \u001b[38;5;21m__call__\u001b[39m(\u001b[38;5;28mself\u001b[39m):\n\u001b[1;32m    260\u001b[0m     \u001b[38;5;66;03m# Set the default nested backend to self._backend but do not set the\u001b[39;00m\n\u001b[1;32m    261\u001b[0m     \u001b[38;5;66;03m# change the default number of processes to -1\u001b[39;00m\n\u001b[1;32m    262\u001b[0m     \u001b[38;5;28;01mwith\u001b[39;00m parallel_backend(\u001b[38;5;28mself\u001b[39m\u001b[38;5;241m.\u001b[39m_backend, n_jobs\u001b[38;5;241m=\u001b[39m\u001b[38;5;28mself\u001b[39m\u001b[38;5;241m.\u001b[39m_n_jobs):\n\u001b[0;32m--> 263\u001b[0m         \u001b[38;5;28;01mreturn\u001b[39;00m [\u001b[43mfunc\u001b[49m\u001b[43m(\u001b[49m\u001b[38;5;241;43m*\u001b[39;49m\u001b[43margs\u001b[49m\u001b[43m,\u001b[49m\u001b[43m \u001b[49m\u001b[38;5;241;43m*\u001b[39;49m\u001b[38;5;241;43m*\u001b[39;49m\u001b[43mkwargs\u001b[49m\u001b[43m)\u001b[49m\n\u001b[1;32m    264\u001b[0m                 \u001b[38;5;28;01mfor\u001b[39;00m func, args, kwargs \u001b[38;5;129;01min\u001b[39;00m \u001b[38;5;28mself\u001b[39m\u001b[38;5;241m.\u001b[39mitems]\n",
      "File \u001b[0;32m~/anaconda3/lib/python3.9/site-packages/sklearn/utils/parallel.py:123\u001b[0m, in \u001b[0;36m_FuncWrapper.__call__\u001b[0;34m(self, *args, **kwargs)\u001b[0m\n\u001b[1;32m    121\u001b[0m     config \u001b[38;5;241m=\u001b[39m {}\n\u001b[1;32m    122\u001b[0m \u001b[38;5;28;01mwith\u001b[39;00m config_context(\u001b[38;5;241m*\u001b[39m\u001b[38;5;241m*\u001b[39mconfig):\n\u001b[0;32m--> 123\u001b[0m     \u001b[38;5;28;01mreturn\u001b[39;00m \u001b[38;5;28;43mself\u001b[39;49m\u001b[38;5;241;43m.\u001b[39;49m\u001b[43mfunction\u001b[49m\u001b[43m(\u001b[49m\u001b[38;5;241;43m*\u001b[39;49m\u001b[43margs\u001b[49m\u001b[43m,\u001b[49m\u001b[43m \u001b[49m\u001b[38;5;241;43m*\u001b[39;49m\u001b[38;5;241;43m*\u001b[39;49m\u001b[43mkwargs\u001b[49m\u001b[43m)\u001b[49m\n",
      "File \u001b[0;32m~/anaconda3/lib/python3.9/site-packages/sklearn/ensemble/_forest.py:650\u001b[0m, in \u001b[0;36m_accumulate_prediction\u001b[0;34m(predict, X, out, lock)\u001b[0m\n\u001b[1;32m    643\u001b[0m \u001b[38;5;28;01mdef\u001b[39;00m \u001b[38;5;21m_accumulate_prediction\u001b[39m(predict, X, out, lock):\n\u001b[1;32m    644\u001b[0m     \u001b[38;5;124;03m\"\"\"\u001b[39;00m\n\u001b[1;32m    645\u001b[0m \u001b[38;5;124;03m    This is a utility function for joblib's Parallel.\u001b[39;00m\n\u001b[1;32m    646\u001b[0m \n\u001b[1;32m    647\u001b[0m \u001b[38;5;124;03m    It can't go locally in ForestClassifier or ForestRegressor, because joblib\u001b[39;00m\n\u001b[1;32m    648\u001b[0m \u001b[38;5;124;03m    complains that it cannot pickle it when placed there.\u001b[39;00m\n\u001b[1;32m    649\u001b[0m \u001b[38;5;124;03m    \"\"\"\u001b[39;00m\n\u001b[0;32m--> 650\u001b[0m     prediction \u001b[38;5;241m=\u001b[39m \u001b[43mpredict\u001b[49m\u001b[43m(\u001b[49m\u001b[43mX\u001b[49m\u001b[43m,\u001b[49m\u001b[43m \u001b[49m\u001b[43mcheck_input\u001b[49m\u001b[38;5;241;43m=\u001b[39;49m\u001b[38;5;28;43;01mFalse\u001b[39;49;00m\u001b[43m)\u001b[49m\n\u001b[1;32m    651\u001b[0m     \u001b[38;5;28;01mwith\u001b[39;00m lock:\n\u001b[1;32m    652\u001b[0m         \u001b[38;5;28;01mif\u001b[39;00m \u001b[38;5;28mlen\u001b[39m(out) \u001b[38;5;241m==\u001b[39m \u001b[38;5;241m1\u001b[39m:\n",
      "File \u001b[0;32m~/anaconda3/lib/python3.9/site-packages/sklearn/tree/_classes.py:427\u001b[0m, in \u001b[0;36mBaseDecisionTree.predict\u001b[0;34m(self, X, check_input)\u001b[0m\n\u001b[1;32m    425\u001b[0m check_is_fitted(\u001b[38;5;28mself\u001b[39m)\n\u001b[1;32m    426\u001b[0m X \u001b[38;5;241m=\u001b[39m \u001b[38;5;28mself\u001b[39m\u001b[38;5;241m.\u001b[39m_validate_X_predict(X, check_input)\n\u001b[0;32m--> 427\u001b[0m proba \u001b[38;5;241m=\u001b[39m \u001b[38;5;28;43mself\u001b[39;49m\u001b[38;5;241;43m.\u001b[39;49m\u001b[43mtree_\u001b[49m\u001b[38;5;241;43m.\u001b[39;49m\u001b[43mpredict\u001b[49m\u001b[43m(\u001b[49m\u001b[43mX\u001b[49m\u001b[43m)\u001b[49m\n\u001b[1;32m    428\u001b[0m n_samples \u001b[38;5;241m=\u001b[39m X\u001b[38;5;241m.\u001b[39mshape[\u001b[38;5;241m0\u001b[39m]\n\u001b[1;32m    430\u001b[0m \u001b[38;5;66;03m# Classification\u001b[39;00m\n",
      "\u001b[0;31mKeyboardInterrupt\u001b[0m: "
     ]
    }
   ],
   "source": [
    "# Define the weight range and interval\n",
    "weight_range = np.arange(0.01, 1.01, 0.01)\n",
    "\n",
    "m2_best_weight = 0\n",
    "m2_best_accuracy = 0\n",
    "\n",
    "# Iterate over the weight values\n",
    "for weight1 in tqdm_notebook(weight_range):\n",
    "    for weight2 in tqdm_notebook(weight_range):\n",
    "        # Combine the predictions of the two models using the weight\n",
    "        y_pred_combined = (weight1 * model_1.predict(X_test_1) + weight2 * model_1.predict(X_test_1)) / (weight1 + weight2)\n",
    "\n",
    "        # Calculate the mean squared error\n",
    "        accuracy = metrics.mean_absolute_error(y_test_1, y_pred_combined)\n",
    "\n",
    "        # Check if the current weight gives better accuracy than the previous best accuracy\n",
    "        if accuracy < m2_best_accuracy or m2_best_accuracy == 0:\n",
    "            m2_best_accuracy = accuracy\n",
    "            m2_best_weight = weight\n",
    "\n",
    "# Print the best weight and corresponding accuracy\n",
    "print(\"Best Weight:\", m2_best_weight)\n",
    "print(\"Best Accuracy:\", m2_best_accuracy)"
   ]
  },
  {
   "cell_type": "code",
   "execution_count": null,
   "id": "ac661a76",
   "metadata": {},
   "outputs": [],
   "source": []
  },
  {
   "cell_type": "code",
   "execution_count": null,
   "id": "49116e14",
   "metadata": {},
   "outputs": [],
   "source": []
  },
  {
   "cell_type": "code",
   "execution_count": null,
   "id": "2254f8e3",
   "metadata": {},
   "outputs": [],
   "source": []
  },
  {
   "cell_type": "code",
   "execution_count": null,
   "id": "0246194c",
   "metadata": {},
   "outputs": [],
   "source": []
  },
  {
   "cell_type": "markdown",
   "id": "43ba7af1",
   "metadata": {},
   "source": [
    "# testing prediction vs actual price"
   ]
  },
  {
   "cell_type": "code",
   "execution_count": null,
   "id": "a6f90223",
   "metadata": {},
   "outputs": [],
   "source": []
  },
  {
   "cell_type": "code",
   "execution_count": null,
   "id": "0020e466",
   "metadata": {},
   "outputs": [],
   "source": []
  },
  {
   "cell_type": "code",
   "execution_count": null,
   "id": "6d83400f",
   "metadata": {},
   "outputs": [],
   "source": []
  },
  {
   "cell_type": "code",
   "execution_count": null,
   "id": "675d736a",
   "metadata": {},
   "outputs": [],
   "source": []
  },
  {
   "cell_type": "code",
   "execution_count": 66,
   "id": "110ec57a",
   "metadata": {},
   "outputs": [],
   "source": [
    "actual_price_1 = y_test_1.copy()\n",
    "model_1_pre = model_1.predict(X_test_1)\n",
    "model_2_pre = model_2.predict(X_test_2)\n",
    "weightage_pre = m1_best_weight * model_1.predict(X_test_1) + (1 - m1_best_weight) * model_2.predict(X_test_2) "
   ]
  },
  {
   "cell_type": "code",
   "execution_count": 67,
   "id": "56ee8b72",
   "metadata": {},
   "outputs": [
    {
     "data": {
      "text/plain": [
       "(89649,)"
      ]
     },
     "execution_count": 67,
     "metadata": {},
     "output_type": "execute_result"
    }
   ],
   "source": [
    "y_test_1.shape"
   ]
  },
  {
   "cell_type": "code",
   "execution_count": 68,
   "id": "d7b0ad9f",
   "metadata": {},
   "outputs": [
    {
     "data": {
      "text/html": [
       "<div>\n",
       "<style scoped>\n",
       "    .dataframe tbody tr th:only-of-type {\n",
       "        vertical-align: middle;\n",
       "    }\n",
       "\n",
       "    .dataframe tbody tr th {\n",
       "        vertical-align: top;\n",
       "    }\n",
       "\n",
       "    .dataframe thead th {\n",
       "        text-align: right;\n",
       "    }\n",
       "</style>\n",
       "<table border=\"1\" class=\"dataframe\">\n",
       "  <thead>\n",
       "    <tr style=\"text-align: right;\">\n",
       "      <th></th>\n",
       "      <th>actual_price</th>\n",
       "    </tr>\n",
       "  </thead>\n",
       "  <tbody>\n",
       "    <tr>\n",
       "      <th>0</th>\n",
       "      <td>38554</td>\n",
       "    </tr>\n",
       "    <tr>\n",
       "      <th>1</th>\n",
       "      <td>6312</td>\n",
       "    </tr>\n",
       "    <tr>\n",
       "      <th>2</th>\n",
       "      <td>15606</td>\n",
       "    </tr>\n",
       "    <tr>\n",
       "      <th>3</th>\n",
       "      <td>15537</td>\n",
       "    </tr>\n",
       "    <tr>\n",
       "      <th>4</th>\n",
       "      <td>5960</td>\n",
       "    </tr>\n",
       "  </tbody>\n",
       "</table>\n",
       "</div>"
      ],
      "text/plain": [
       "   actual_price\n",
       "0         38554\n",
       "1          6312\n",
       "2         15606\n",
       "3         15537\n",
       "4          5960"
      ]
     },
     "execution_count": 68,
     "metadata": {},
     "output_type": "execute_result"
    }
   ],
   "source": [
    "actual_price = actual_price_1.to_frame(name='actual_price')\n",
    "actual_price = actual_price.reset_index(drop=True)\n",
    "actual_price.head()"
   ]
  },
  {
   "cell_type": "code",
   "execution_count": 69,
   "id": "ccfb1790",
   "metadata": {},
   "outputs": [],
   "source": [
    "# Convert arrays to dataframes\n",
    "array1_df = pd.DataFrame({'model_1_pre': model_1_pre})\n",
    "array2_df = pd.DataFrame({'model_2_pre': model_2_pre})\n",
    "array3_df = pd.DataFrame({'weightage_pre': weightage_pre})\n",
    "\n",
    "# Merge the dataframe and arrays horizontally (column-wise) without including indices\n",
    "weightage_results = pd.concat([actual_price, array1_df, array2_df, array3_df], axis=1)\n",
    "\n",
    "# Save the merged dataframe to a CSV file\n",
    "weightage_results.to_csv('weightage_results.csv', index=False)\n"
   ]
  },
  {
   "cell_type": "code",
   "execution_count": 70,
   "id": "55efdb16",
   "metadata": {},
   "outputs": [],
   "source": [
    "weightage_results = pd.read_csv('weightage_results.csv')"
   ]
  },
  {
   "cell_type": "code",
   "execution_count": 71,
   "id": "4e0697a0",
   "metadata": {},
   "outputs": [
    {
     "data": {
      "text/html": [
       "<div>\n",
       "<style scoped>\n",
       "    .dataframe tbody tr th:only-of-type {\n",
       "        vertical-align: middle;\n",
       "    }\n",
       "\n",
       "    .dataframe tbody tr th {\n",
       "        vertical-align: top;\n",
       "    }\n",
       "\n",
       "    .dataframe thead th {\n",
       "        text-align: right;\n",
       "    }\n",
       "</style>\n",
       "<table border=\"1\" class=\"dataframe\">\n",
       "  <thead>\n",
       "    <tr style=\"text-align: right;\">\n",
       "      <th></th>\n",
       "      <th>actual_price</th>\n",
       "      <th>model_1_pre</th>\n",
       "      <th>model_2_pre</th>\n",
       "      <th>weightage_pre</th>\n",
       "    </tr>\n",
       "  </thead>\n",
       "  <tbody>\n",
       "    <tr>\n",
       "      <th>0</th>\n",
       "      <td>38554</td>\n",
       "      <td>38554.00</td>\n",
       "      <td>39420.93</td>\n",
       "      <td>38658.0316</td>\n",
       "    </tr>\n",
       "    <tr>\n",
       "      <th>1</th>\n",
       "      <td>6312</td>\n",
       "      <td>5253.57</td>\n",
       "      <td>5720.44</td>\n",
       "      <td>5309.5944</td>\n",
       "    </tr>\n",
       "    <tr>\n",
       "      <th>2</th>\n",
       "      <td>15606</td>\n",
       "      <td>14951.24</td>\n",
       "      <td>15000.94</td>\n",
       "      <td>14957.2040</td>\n",
       "    </tr>\n",
       "    <tr>\n",
       "      <th>3</th>\n",
       "      <td>15537</td>\n",
       "      <td>10947.51</td>\n",
       "      <td>11547.52</td>\n",
       "      <td>11019.5112</td>\n",
       "    </tr>\n",
       "    <tr>\n",
       "      <th>4</th>\n",
       "      <td>5960</td>\n",
       "      <td>5985.20</td>\n",
       "      <td>5999.44</td>\n",
       "      <td>5986.9088</td>\n",
       "    </tr>\n",
       "    <tr>\n",
       "      <th>5</th>\n",
       "      <td>44280</td>\n",
       "      <td>44280.00</td>\n",
       "      <td>44280.00</td>\n",
       "      <td>44280.0000</td>\n",
       "    </tr>\n",
       "    <tr>\n",
       "      <th>6</th>\n",
       "      <td>6578</td>\n",
       "      <td>6585.29</td>\n",
       "      <td>6587.72</td>\n",
       "      <td>6585.5816</td>\n",
       "    </tr>\n",
       "    <tr>\n",
       "      <th>7</th>\n",
       "      <td>12118</td>\n",
       "      <td>7444.12</td>\n",
       "      <td>7674.76</td>\n",
       "      <td>7471.7968</td>\n",
       "    </tr>\n",
       "    <tr>\n",
       "      <th>8</th>\n",
       "      <td>6067</td>\n",
       "      <td>6067.00</td>\n",
       "      <td>6067.00</td>\n",
       "      <td>6067.0000</td>\n",
       "    </tr>\n",
       "    <tr>\n",
       "      <th>9</th>\n",
       "      <td>5178</td>\n",
       "      <td>5011.01</td>\n",
       "      <td>5444.89</td>\n",
       "      <td>5063.0756</td>\n",
       "    </tr>\n",
       "  </tbody>\n",
       "</table>\n",
       "</div>"
      ],
      "text/plain": [
       "   actual_price  model_1_pre  model_2_pre  weightage_pre\n",
       "0         38554     38554.00     39420.93     38658.0316\n",
       "1          6312      5253.57      5720.44      5309.5944\n",
       "2         15606     14951.24     15000.94     14957.2040\n",
       "3         15537     10947.51     11547.52     11019.5112\n",
       "4          5960      5985.20      5999.44      5986.9088\n",
       "5         44280     44280.00     44280.00     44280.0000\n",
       "6          6578      6585.29      6587.72      6585.5816\n",
       "7         12118      7444.12      7674.76      7471.7968\n",
       "8          6067      6067.00      6067.00      6067.0000\n",
       "9          5178      5011.01      5444.89      5063.0756"
      ]
     },
     "execution_count": 71,
     "metadata": {},
     "output_type": "execute_result"
    }
   ],
   "source": [
    "weightage_results.head(10)"
   ]
  },
  {
   "cell_type": "code",
   "execution_count": 72,
   "id": "9b47d1c5",
   "metadata": {},
   "outputs": [
    {
     "data": {
      "text/plain": [
       "(89649, 4)"
      ]
     },
     "execution_count": 72,
     "metadata": {},
     "output_type": "execute_result"
    }
   ],
   "source": [
    "weightage_results.shape"
   ]
  },
  {
   "cell_type": "code",
   "execution_count": null,
   "id": "552df445",
   "metadata": {},
   "outputs": [],
   "source": []
  },
  {
   "cell_type": "markdown",
   "id": "31238d4b",
   "metadata": {},
   "source": [
    "# add model error columns "
   ]
  },
  {
   "cell_type": "code",
   "execution_count": 73,
   "id": "4be14f53",
   "metadata": {},
   "outputs": [],
   "source": [
    "weightage_results['model_1_error']=abs(weightage_results['actual_price']-weightage_results['model_1_pre'])\n",
    "weightage_results['model_2_error']=abs(weightage_results['actual_price']-weightage_results['model_2_pre'])\n",
    "weightage_results['weightage_error']=abs(weightage_results['actual_price']-weightage_results['weightage_pre'])"
   ]
  },
  {
   "cell_type": "code",
   "execution_count": 74,
   "id": "8d38b80f",
   "metadata": {},
   "outputs": [
    {
     "data": {
      "text/html": [
       "<div>\n",
       "<style scoped>\n",
       "    .dataframe tbody tr th:only-of-type {\n",
       "        vertical-align: middle;\n",
       "    }\n",
       "\n",
       "    .dataframe tbody tr th {\n",
       "        vertical-align: top;\n",
       "    }\n",
       "\n",
       "    .dataframe thead th {\n",
       "        text-align: right;\n",
       "    }\n",
       "</style>\n",
       "<table border=\"1\" class=\"dataframe\">\n",
       "  <thead>\n",
       "    <tr style=\"text-align: right;\">\n",
       "      <th></th>\n",
       "      <th>actual_price</th>\n",
       "      <th>model_1_pre</th>\n",
       "      <th>model_2_pre</th>\n",
       "      <th>weightage_pre</th>\n",
       "      <th>model_1_error</th>\n",
       "      <th>model_2_error</th>\n",
       "      <th>weightage_error</th>\n",
       "    </tr>\n",
       "  </thead>\n",
       "  <tbody>\n",
       "    <tr>\n",
       "      <th>0</th>\n",
       "      <td>38554</td>\n",
       "      <td>38554.00</td>\n",
       "      <td>39420.93</td>\n",
       "      <td>38658.0316</td>\n",
       "      <td>0.00</td>\n",
       "      <td>866.93</td>\n",
       "      <td>104.0316</td>\n",
       "    </tr>\n",
       "    <tr>\n",
       "      <th>1</th>\n",
       "      <td>6312</td>\n",
       "      <td>5253.57</td>\n",
       "      <td>5720.44</td>\n",
       "      <td>5309.5944</td>\n",
       "      <td>1058.43</td>\n",
       "      <td>591.56</td>\n",
       "      <td>1002.4056</td>\n",
       "    </tr>\n",
       "    <tr>\n",
       "      <th>2</th>\n",
       "      <td>15606</td>\n",
       "      <td>14951.24</td>\n",
       "      <td>15000.94</td>\n",
       "      <td>14957.2040</td>\n",
       "      <td>654.76</td>\n",
       "      <td>605.06</td>\n",
       "      <td>648.7960</td>\n",
       "    </tr>\n",
       "    <tr>\n",
       "      <th>3</th>\n",
       "      <td>15537</td>\n",
       "      <td>10947.51</td>\n",
       "      <td>11547.52</td>\n",
       "      <td>11019.5112</td>\n",
       "      <td>4589.49</td>\n",
       "      <td>3989.48</td>\n",
       "      <td>4517.4888</td>\n",
       "    </tr>\n",
       "    <tr>\n",
       "      <th>4</th>\n",
       "      <td>5960</td>\n",
       "      <td>5985.20</td>\n",
       "      <td>5999.44</td>\n",
       "      <td>5986.9088</td>\n",
       "      <td>25.20</td>\n",
       "      <td>39.44</td>\n",
       "      <td>26.9088</td>\n",
       "    </tr>\n",
       "    <tr>\n",
       "      <th>5</th>\n",
       "      <td>44280</td>\n",
       "      <td>44280.00</td>\n",
       "      <td>44280.00</td>\n",
       "      <td>44280.0000</td>\n",
       "      <td>0.00</td>\n",
       "      <td>0.00</td>\n",
       "      <td>0.0000</td>\n",
       "    </tr>\n",
       "    <tr>\n",
       "      <th>6</th>\n",
       "      <td>6578</td>\n",
       "      <td>6585.29</td>\n",
       "      <td>6587.72</td>\n",
       "      <td>6585.5816</td>\n",
       "      <td>7.29</td>\n",
       "      <td>9.72</td>\n",
       "      <td>7.5816</td>\n",
       "    </tr>\n",
       "    <tr>\n",
       "      <th>7</th>\n",
       "      <td>12118</td>\n",
       "      <td>7444.12</td>\n",
       "      <td>7674.76</td>\n",
       "      <td>7471.7968</td>\n",
       "      <td>4673.88</td>\n",
       "      <td>4443.24</td>\n",
       "      <td>4646.2032</td>\n",
       "    </tr>\n",
       "    <tr>\n",
       "      <th>8</th>\n",
       "      <td>6067</td>\n",
       "      <td>6067.00</td>\n",
       "      <td>6067.00</td>\n",
       "      <td>6067.0000</td>\n",
       "      <td>0.00</td>\n",
       "      <td>0.00</td>\n",
       "      <td>0.0000</td>\n",
       "    </tr>\n",
       "    <tr>\n",
       "      <th>9</th>\n",
       "      <td>5178</td>\n",
       "      <td>5011.01</td>\n",
       "      <td>5444.89</td>\n",
       "      <td>5063.0756</td>\n",
       "      <td>166.99</td>\n",
       "      <td>266.89</td>\n",
       "      <td>114.9244</td>\n",
       "    </tr>\n",
       "    <tr>\n",
       "      <th>10</th>\n",
       "      <td>6584</td>\n",
       "      <td>5338.71</td>\n",
       "      <td>5503.61</td>\n",
       "      <td>5358.4980</td>\n",
       "      <td>1245.29</td>\n",
       "      <td>1080.39</td>\n",
       "      <td>1225.5020</td>\n",
       "    </tr>\n",
       "    <tr>\n",
       "      <th>11</th>\n",
       "      <td>2276</td>\n",
       "      <td>2331.36</td>\n",
       "      <td>2326.06</td>\n",
       "      <td>2330.7240</td>\n",
       "      <td>55.36</td>\n",
       "      <td>50.06</td>\n",
       "      <td>54.7240</td>\n",
       "    </tr>\n",
       "    <tr>\n",
       "      <th>12</th>\n",
       "      <td>8112</td>\n",
       "      <td>9896.90</td>\n",
       "      <td>8786.80</td>\n",
       "      <td>9763.6880</td>\n",
       "      <td>1784.90</td>\n",
       "      <td>674.80</td>\n",
       "      <td>1651.6880</td>\n",
       "    </tr>\n",
       "    <tr>\n",
       "      <th>13</th>\n",
       "      <td>9201</td>\n",
       "      <td>9340.04</td>\n",
       "      <td>9631.44</td>\n",
       "      <td>9375.0080</td>\n",
       "      <td>139.04</td>\n",
       "      <td>430.44</td>\n",
       "      <td>174.0080</td>\n",
       "    </tr>\n",
       "    <tr>\n",
       "      <th>14</th>\n",
       "      <td>49553</td>\n",
       "      <td>49553.00</td>\n",
       "      <td>49553.00</td>\n",
       "      <td>49553.0000</td>\n",
       "      <td>0.00</td>\n",
       "      <td>0.00</td>\n",
       "      <td>0.0000</td>\n",
       "    </tr>\n",
       "    <tr>\n",
       "      <th>15</th>\n",
       "      <td>11069</td>\n",
       "      <td>11170.21</td>\n",
       "      <td>11146.17</td>\n",
       "      <td>11167.3252</td>\n",
       "      <td>101.21</td>\n",
       "      <td>77.17</td>\n",
       "      <td>98.3252</td>\n",
       "    </tr>\n",
       "    <tr>\n",
       "      <th>16</th>\n",
       "      <td>4111</td>\n",
       "      <td>4111.00</td>\n",
       "      <td>4205.05</td>\n",
       "      <td>4122.2860</td>\n",
       "      <td>0.00</td>\n",
       "      <td>94.05</td>\n",
       "      <td>11.2860</td>\n",
       "    </tr>\n",
       "    <tr>\n",
       "      <th>17</th>\n",
       "      <td>55983</td>\n",
       "      <td>56029.48</td>\n",
       "      <td>55983.00</td>\n",
       "      <td>56023.9024</td>\n",
       "      <td>46.48</td>\n",
       "      <td>0.00</td>\n",
       "      <td>40.9024</td>\n",
       "    </tr>\n",
       "    <tr>\n",
       "      <th>18</th>\n",
       "      <td>7484</td>\n",
       "      <td>8253.78</td>\n",
       "      <td>7755.03</td>\n",
       "      <td>8193.9300</td>\n",
       "      <td>769.78</td>\n",
       "      <td>271.03</td>\n",
       "      <td>709.9300</td>\n",
       "    </tr>\n",
       "    <tr>\n",
       "      <th>19</th>\n",
       "      <td>62045</td>\n",
       "      <td>62801.00</td>\n",
       "      <td>62078.60</td>\n",
       "      <td>62714.3120</td>\n",
       "      <td>756.00</td>\n",
       "      <td>33.60</td>\n",
       "      <td>669.3120</td>\n",
       "    </tr>\n",
       "  </tbody>\n",
       "</table>\n",
       "</div>"
      ],
      "text/plain": [
       "    actual_price  model_1_pre  model_2_pre  weightage_pre  model_1_error  \\\n",
       "0          38554     38554.00     39420.93     38658.0316           0.00   \n",
       "1           6312      5253.57      5720.44      5309.5944        1058.43   \n",
       "2          15606     14951.24     15000.94     14957.2040         654.76   \n",
       "3          15537     10947.51     11547.52     11019.5112        4589.49   \n",
       "4           5960      5985.20      5999.44      5986.9088          25.20   \n",
       "5          44280     44280.00     44280.00     44280.0000           0.00   \n",
       "6           6578      6585.29      6587.72      6585.5816           7.29   \n",
       "7          12118      7444.12      7674.76      7471.7968        4673.88   \n",
       "8           6067      6067.00      6067.00      6067.0000           0.00   \n",
       "9           5178      5011.01      5444.89      5063.0756         166.99   \n",
       "10          6584      5338.71      5503.61      5358.4980        1245.29   \n",
       "11          2276      2331.36      2326.06      2330.7240          55.36   \n",
       "12          8112      9896.90      8786.80      9763.6880        1784.90   \n",
       "13          9201      9340.04      9631.44      9375.0080         139.04   \n",
       "14         49553     49553.00     49553.00     49553.0000           0.00   \n",
       "15         11069     11170.21     11146.17     11167.3252         101.21   \n",
       "16          4111      4111.00      4205.05      4122.2860           0.00   \n",
       "17         55983     56029.48     55983.00     56023.9024          46.48   \n",
       "18          7484      8253.78      7755.03      8193.9300         769.78   \n",
       "19         62045     62801.00     62078.60     62714.3120         756.00   \n",
       "\n",
       "    model_2_error  weightage_error  \n",
       "0          866.93         104.0316  \n",
       "1          591.56        1002.4056  \n",
       "2          605.06         648.7960  \n",
       "3         3989.48        4517.4888  \n",
       "4           39.44          26.9088  \n",
       "5            0.00           0.0000  \n",
       "6            9.72           7.5816  \n",
       "7         4443.24        4646.2032  \n",
       "8            0.00           0.0000  \n",
       "9          266.89         114.9244  \n",
       "10        1080.39        1225.5020  \n",
       "11          50.06          54.7240  \n",
       "12         674.80        1651.6880  \n",
       "13         430.44         174.0080  \n",
       "14           0.00           0.0000  \n",
       "15          77.17          98.3252  \n",
       "16          94.05          11.2860  \n",
       "17           0.00          40.9024  \n",
       "18         271.03         709.9300  \n",
       "19          33.60         669.3120  "
      ]
     },
     "execution_count": 74,
     "metadata": {},
     "output_type": "execute_result"
    }
   ],
   "source": [
    "weightage_results.head(20)"
   ]
  },
  {
   "cell_type": "code",
   "execution_count": 75,
   "id": "30f1c93a",
   "metadata": {},
   "outputs": [
    {
     "data": {
      "text/plain": [
       "43954.13"
      ]
     },
     "execution_count": 75,
     "metadata": {},
     "output_type": "execute_result"
    }
   ],
   "source": [
    "weightage_results['model_1_error'].max()"
   ]
  },
  {
   "cell_type": "code",
   "execution_count": 76,
   "id": "5539ad31",
   "metadata": {},
   "outputs": [],
   "source": [
    "results = weightage_results.copy()"
   ]
  },
  {
   "cell_type": "code",
   "execution_count": 77,
   "id": "f18899a7",
   "metadata": {},
   "outputs": [],
   "source": [
    "bins_1 = range(int(results['model_1_error'].min()), int(results['model_2_error'].max()) + 1001,1000)\n",
    "\n",
    "# Create a new column 'price_bin' to store the bin labels\n",
    "results['model_1_error_bin'] = pd.cut(results['model_1_error'], bins=bins_1, labels=False, include_lowest=True)\n",
    "\n",
    "\n",
    "bins_2 = range(int(results['model_2_error'].min()), int(results['model_2_error'].max()) + 1001,1000)\n",
    "\n",
    "# Create a new column 'price_bin' to store the bin labels\n",
    "results['model_2_error_bin'] = pd.cut(results['model_2_error'], bins=bins_2, labels=False, include_lowest=True)\n",
    "\n",
    "\n",
    "bins_3 = range(int(results['weightage_error'].min()), int(results['weightage_error'].max()) + 1001,1000)\n",
    "\n",
    "# Create a new column 'price_bin' to store the bin labels\n",
    "results['weightage_error_bin'] = pd.cut(results['weightage_error'], bins=bins_3, labels=False, include_lowest=True)"
   ]
  },
  {
   "cell_type": "markdown",
   "id": "bcd5c77e",
   "metadata": {},
   "source": [
    "# plot bar plot of error in model(sample data )"
   ]
  },
  {
   "cell_type": "code",
   "execution_count": 79,
   "id": "c7784fd5",
   "metadata": {},
   "outputs": [
    {
     "data": {
      "image/png": "[encoded data removed]",
      "text/plain": [
       "<Figure size 3000x1000 with 3 Axes>"
      ]
     },
     "metadata": {},
     "output_type": "display_data"
    }
   ],
   "source": [
    "import pandas as pd\n",
    "import matplotlib.pyplot as plt\n",
    "\n",
    "# Create a figure and three subplots\n",
    "fig, axs = plt.subplots(1, 3, figsize=(30, 10))\n",
    "\n",
    "# Plot the first bar chart\n",
    "bin_counts1 = results.groupby('model_1_error_bin').size()\n",
    "axs[0].bar(bin_counts1.index[10:], bin_counts1.values[10:],label='model 1 error')\n",
    "axs[0].set_xlabel('model 1 errors bins')\n",
    "axs[0].set_ylabel('Count of raws')\n",
    "axs[0].set_title('Distribution of price error of models 1 in Bins')\n",
    "\n",
    "# Add data labels to the first bar plot\n",
    "for i, count in enumerate(bin_counts1.values[10:]):\n",
    "    axs[0].text(bin_counts1[10:].index[i], count, str(count), ha='center', va='bottom')\n",
    "\n",
    "\n",
    "# Plot the second bar chart\n",
    "bin_counts2 = results.groupby('model_2_error_bin').size()\n",
    "axs[1].bar(bin_counts2.index[10:], bin_counts2.values[10:])\n",
    "axs[1].set_xlabel('model 2 errors bins')\n",
    "axs[1].set_ylabel('Count of raws')\n",
    "axs[1].set_title('Distribution of price error of models 2 in Bins')\n",
    "\n",
    "# Add data labels to the second bar plot\n",
    "for i, count in enumerate(bin_counts2.values[10:]):\n",
    "    axs[1].text(bin_counts2[10:].index[i], count, str(count), ha='center', va='bottom')\n",
    "\n",
    "\n",
    "# Plot the third bar chart\n",
    "bin_counts3 = results.groupby('weightage_error_bin').size()\n",
    "axs[2].bar(bin_counts3.index[10:], bin_counts3.values[10:])\n",
    "axs[2].set_xlabel('weightage error bins')\n",
    "axs[2].set_ylabel('Count of raws')\n",
    "axs[2].set_title('Distribution of price error of weightage model in Bins')\n",
    "\n",
    "# Add data labels to the third bar plot\n",
    "for i, count in enumerate(bin_counts3.values[10:]):\n",
    "    axs[2].text(bin_counts3[10:].index[i], count, str(count), ha='center', va='bottom')\n",
    "\n",
    "\n",
    "# Adjust the spacing between subplots\n",
    "plt.tight_layout()\n",
    "\n",
    "# Show the plot\n",
    "plt.show()\n"
   ]
  },
  {
   "cell_type": "code",
   "execution_count": null,
   "id": "d72cbb80",
   "metadata": {},
   "outputs": [],
   "source": []
  },
  {
   "cell_type": "code",
   "execution_count": null,
   "id": "ab9288e5",
   "metadata": {},
   "outputs": [],
   "source": []
  }
 ],
 "metadata": {
  "kernelspec": {
   "display_name": "Python 3 (ipykernel)",
   "language": "python",
   "name": "python3"
  },
  "language_info": {
   "codemirror_mode": {
    "name": "ipython",
    "version": 3
   },
   "file_extension": ".py",
   "mimetype": "text/x-python",
   "name": "python",
   "nbconvert_exporter": "python",
   "pygments_lexer": "ipython3",
   "version": "3.9.13"
  }
 },
 "nbformat": 4,
 "nbformat_minor": 5
}
